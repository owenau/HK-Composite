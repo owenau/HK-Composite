{
 "cells": [
  {
   "cell_type": "markdown",
   "metadata": {},
   "source": [
    "### Pre-processing procedures:\n",
    "\n",
    "1. Forward-fill valuation-related items, including FCF, dividends\n",
    "2. Use market cap/price column and valuation columns to calculate ratios\n",
    "3. Back-fill revere classifications\n",
    "4. Cross-sectional z-scores\n",
    "5. One-hot classifications"
   ]
  },
  {
   "cell_type": "code",
   "execution_count": 2,
   "metadata": {},
   "outputs": [],
   "source": [
    "import pandas as pd\n",
    "import numpy as np\n",
    "import tensorflow as tf\n",
    "import matplotlib.pyplot as plt\n",
    "\n",
    "import keras\n",
    "from keras.models import Sequential\n",
    "from keras.layers import Dense\n",
    "from keras.layers import Dropout\n",
    "from keras.layers import Embedding\n",
    "\n",
    "from keras.layers import LSTM\n",
    "from keras import backend as K\n",
    "from keras import regularizers\n",
    "\n",
    "import seaborn as sns\n",
    "\n",
    "from sklearn import metrics\n",
    "\n",
    "%matplotlib inline"
   ]
  },
  {
   "cell_type": "code",
   "execution_count": 3,
   "metadata": {
    "collapsed": true
   },
   "outputs": [],
   "source": [
    "bins = 5\n",
    "ret_seq = False\n",
    "timestep = 32"
   ]
  },
  {
   "cell_type": "code",
   "execution_count": 4,
   "metadata": {
    "collapsed": true
   },
   "outputs": [],
   "source": [
    "# Import data from csv\n",
    "\n",
    "all_data = pd.read_csv('~/Projects/HS-Composite/HS_Composite_Weekly.csv',\n",
    "                      parse_dates = ['Date'], infer_datetime_format = True)\n",
    "\n",
    "#all_data = pd.read_csv('C:/Users/oou/Desktop/Analytics/Machine Learning/HS-Composite/HS_Composite_Weekly.csv',\n",
    "#                      parse_dates = ['Date'], infer_datetime_format = True)\n",
    "    \n",
    "#all_data = pd.read_csv('/Users/Owen/Documents/Machine Learning/Projects/Hang Seng Composite/HS_Composite.csv',\n",
    "#                       parse_dates = ['Date'], infer_datetime_format = True).set_index(['Date', 'Ticker'])"
   ]
  },
  {
   "cell_type": "code",
   "execution_count": 5,
   "metadata": {
    "collapsed": true
   },
   "outputs": [],
   "source": [
    "#all_data = all_data[(all_data['Ticker']!='LX75953') & (all_data['Ticker']!='LX87416')]"
   ]
  },
  {
   "cell_type": "code",
   "execution_count": 6,
   "metadata": {
    "collapsed": true
   },
   "outputs": [],
   "source": [
    "def insert_na(series, time_step):\n",
    "    \n",
    "    output = np.zeros_like(series, dtype=float)\n",
    "    \n",
    "    length = output.shape[0]//time_step * time_step\n",
    "    output[length:] = np.nan\n",
    "    \n",
    "    return output"
   ]
  },
  {
   "cell_type": "code",
   "execution_count": 7,
   "metadata": {
    "collapsed": true
   },
   "outputs": [],
   "source": [
    "# Convert dates to numbers\n",
    "all_data['Date Num'] = all_data['Date'].rank(method='dense')\n",
    "\n",
    "# Count discontinuity in dates\n",
    "all_data['Count'] = all_data.groupby('Ticker')['Date Num'].transform(lambda x: np.append(0, np.cumsum(np.diff(x)>1)))\n",
    "\n",
    "# Mark dates out of bounds as NaN\n",
    "all_data['Count_na'] = all_data.groupby(['Ticker','Count'])['Count'].transform(lambda x: insert_na(x, timestep))\n",
    "\n",
    "all_data.set_index(['Date', 'Ticker'], inplace=True)"
   ]
  },
  {
   "cell_type": "markdown",
   "metadata": {},
   "source": [
    "**The Forward fill FY1 PE line should be changed. Should forward fill EPS and then calculate PE**"
   ]
  },
  {
   "cell_type": "code",
   "execution_count": 8,
   "metadata": {
    "collapsed": true
   },
   "outputs": [],
   "source": [
    "def process_data(data):\n",
    "    \n",
    "    #Forward fill Valuation Data\n",
    "    data.loc[:,'Book Value':'1M EPS Revision'] = data.loc[:,'Book Value':'1M EPS Revision'].groupby(level = 1).ffill()\n",
    "    \n",
    "    #Fill N/A Estimate data with 0 (regard it as no signal)\n",
    "    data.loc[:,'1M EPS Revision':'FY1 EPS Growth'] = data.loc[:,'1M EPS Revision':'FY1 EPS Growth'].fillna(value = 0)\n",
    "    \n",
    "    #Calculate valuation ratios\n",
    "\n",
    "    data['PB Ratio'] = data['Market Cap']/data['Book Value']\n",
    "    ata['Dividend Yield'] = data['Total Dividends']/data['Market Cap']\n",
    "    data['Earnings Yield'] = data['EPS']/data['Price']\n",
    "    data['FCF Yield'] = data['Free Cash Flow']/data['Market Cap']\n",
    "    data['Log Market Cap'] = np.log(data['Market Cap'])\n",
    "\n",
    "    data.fillna(0, inplace = True)\n",
    "    \n",
    "    return data"
   ]
  },
  {
   "cell_type": "code",
   "execution_count": 9,
   "metadata": {
    "collapsed": true
   },
   "outputs": [],
   "source": [
    "#Forward fill Valuation Data\n",
    "all_data.loc[:,'Book Value':'1M EPS Revision'] = all_data.loc[:,'Book Value':'1M EPS Revision'].groupby(level = 1).ffill()\n",
    "\n",
    "#Fill N/A Estimate data with 0 (regard it as no signal)\n",
    "all_data.loc[:,'1M EPS Revision':'FY1 EPS Growth'] = all_data.loc[:,'1M EPS Revision':'FY1 EPS Growth'].fillna(value = 0)"
   ]
  },
  {
   "cell_type": "code",
   "execution_count": 10,
   "metadata": {
    "collapsed": true
   },
   "outputs": [],
   "source": [
    "#Calculate valuation ratios\n",
    "\n",
    "all_data['PB Ratio'] = all_data['Market Cap']/all_data['Book Value']\n",
    "all_data['Dividend Yield'] = all_data['Total Dividends']/all_data['Market Cap']\n",
    "all_data['Earnings Yield'] = all_data['EPS']/all_data['Price']\n",
    "all_data['FCF Yield'] = all_data['Free Cash Flow']/all_data['Market Cap']\n",
    "all_data['Log Market Cap'] = np.log(all_data['Market Cap'])"
   ]
  },
  {
   "cell_type": "markdown",
   "metadata": {},
   "source": [
    "**Cut returns into two bins**"
   ]
  },
  {
   "cell_type": "code",
   "execution_count": 11,
   "metadata": {
    "collapsed": true
   },
   "outputs": [],
   "source": [
    "all_data['Return Rank'] = all_data['Returns'].groupby('Date').transform(lambda x: pd.qcut(x, bins, labels = False))\n",
    "#all_data['Return Rank'] = all_data.groupby('Date')['Returns'].transform(lambda x: x.rank() <= 50)"
   ]
  },
  {
   "cell_type": "markdown",
   "metadata": {},
   "source": [
    "**Standarising features**"
   ]
  },
  {
   "cell_type": "code",
   "execution_count": 12,
   "metadata": {
    "collapsed": true
   },
   "outputs": [],
   "source": [
    "zscore = lambda x: (x - x.mean())/x.std()\n",
    "\n",
    "zscore_cols = ['-1W Return', '-2W Return', '7D Volatility', '30D Volatility', 'MACD',\n",
    "               'RSI', '1M Turnover %', 'Log Market Cap']\n",
    "\n",
    "zscores = [col+' z-score' for col in zscore_cols]\n",
    "\n",
    "grp_zscore_cols = ['Gross Profitability', 'Return on Equity', 'Gross Margin', '1-Year Sales Growth',\n",
    "                   '5-Year Sales Growth', '1-Year EPS Growth', '5-Year EPS Growth', 'EBIT Interest Coverage',\n",
    "                   'Book Leverage', '1M EPS Revision', 'FY1 PE', 'FY0 EPS Surprise', 'FY1 EPS Growth',\n",
    "                   'PB Ratio', 'Dividend Yield', 'Earnings Yield', 'FCF Yield']\n",
    "\n",
    "grp_zscores = [col+' grp z-score' for col in grp_zscore_cols]\n",
    "\n",
    "all_data[zscores] = all_data.groupby('Date')[zscore_cols].transform(zscore)\n",
    "    \n",
    "#all_data[grp_zscores] = all_data.groupby('Date')[grp_zscore_cols].transform(zscore)\n",
    "    \n",
    "all_data[grp_zscores] = all_data.groupby(['Date', 'HSCI Industry'])[grp_zscore_cols].transform(zscore)\n",
    "\n",
    "#all_data['Returns'] = all_data.groupby('Date')['Returns'].transform(zscore)"
   ]
  },
  {
   "cell_type": "markdown",
   "metadata": {},
   "source": [
    "**Create one-hot arrays for Revere classification and return ranking**"
   ]
  },
  {
   "cell_type": "code",
   "execution_count": 13,
   "metadata": {
    "collapsed": true
   },
   "outputs": [],
   "source": [
    "#new_index = pd.MultiIndex.from_product(all_data.index.levels)\n",
    "#all_data = all_data.reindex(new_index, fill_value=0)\n",
    "## pad the dataframe with zeros so that all stocks have complete history"
   ]
  },
  {
   "cell_type": "code",
   "execution_count": 14,
   "metadata": {
    "collapsed": true
   },
   "outputs": [],
   "source": [
    "all_data = all_data[all_data['Count_na'].notnull()].drop(['Date Num', 'Count', 'Count_na'], axis=1)"
   ]
  },
  {
   "cell_type": "code",
   "execution_count": 15,
   "metadata": {
    "collapsed": true
   },
   "outputs": [],
   "source": [
    "all_data.sort_index(level = [1,0], inplace = True)\n",
    "all_data.fillna(0, inplace = True)"
   ]
  },
  {
   "cell_type": "code",
   "execution_count": 16,
   "metadata": {
    "collapsed": true
   },
   "outputs": [],
   "source": [
    "#CHANGE 36 TO 35 WHEN DOING MULTI-CLASS CLASSIFICATION AS THE 'RETURN RANKS' COLUMN IS ONE-HOTTED\n",
    "def reshape_data(all_data, num_classes):\n",
    "    \n",
    "    if num_classes == 2:\n",
    "        \n",
    "        all_data = pd.get_dummies(all_data,\n",
    "                          prefix={'HSCI Industry': 'Ind'},\n",
    "                          prefix_sep='_',\n",
    "                          columns=['HSCI Industry'])\n",
    "        \n",
    "        x_data_reshaped = all_data.iloc[:, 36:].values.reshape(-1, timestep, 36)\n",
    "        y_data_reshaped = all_data['Return Rank'].values.reshape(-1, timestep, 1)\n",
    "        #returns_reshaped = all_data['Returns'].values.reshape(-1, timestep, 1)\n",
    "        #y_data_reshaped = all_data.iloc[::, -2:].values.reshape(2832, timestep, 2)\n",
    "    else:\n",
    "        \n",
    "        #returns_reshaped = all_data['Returns'].values.reshape(1000, timestep, 1)\n",
    "        \n",
    "        all_data = pd.get_dummies(all_data,\n",
    "                          prefix={'HSCI Industry': 'Ind','Return Rank': 'Ret_Rank'},\n",
    "                          prefix_sep='_',\n",
    "                          columns=['HSCI Industry', 'Return Rank'])\n",
    "        \n",
    "        x_data_reshaped = all_data.iloc[:, 35:-num_classes].values.reshape(-1, timestep, 36)\n",
    "        y_data_reshaped = all_data.iloc[:, -num_classes:].values.reshape(-1, timestep, num_classes)\n",
    "        \n",
    "    return x_data_reshaped, y_data_reshaped#, returns_reshaped"
   ]
  },
  {
   "cell_type": "code",
   "execution_count": 17,
   "metadata": {
    "collapsed": true
   },
   "outputs": [],
   "source": [
    "x_data_reshaped, y_data_reshaped = reshape_data(all_data, bins)"
   ]
  },
  {
   "cell_type": "code",
   "execution_count": 18,
   "metadata": {
    "collapsed": true
   },
   "outputs": [],
   "source": [
    "#x_data_reshaped = x_data_reshaped[np.sum(returns_reshaped, axis = (1,2))!=0,:,:]\n",
    "#y_data_reshaped = y_data_reshaped[np.sum(returns_reshaped, axis = (1,2))!=0,:,:]"
   ]
  },
  {
   "cell_type": "code",
   "execution_count": 19,
   "metadata": {
    "collapsed": true
   },
   "outputs": [],
   "source": [
    "if ret_seq == False: y_data_reshaped = y_data_reshaped[:,-1,:] #last return of each sequence (for return_sequences = False)"
   ]
  },
  {
   "cell_type": "code",
   "execution_count": 20,
   "metadata": {},
   "outputs": [
    {
     "data": {
      "text/plain": [
       "(5318, 32, 36)"
      ]
     },
     "execution_count": 20,
     "metadata": {},
     "output_type": "execute_result"
    }
   ],
   "source": [
    "x_data_reshaped.shape"
   ]
  },
  {
   "cell_type": "code",
   "execution_count": 21,
   "metadata": {
    "collapsed": true
   },
   "outputs": [],
   "source": [
    "#shuffle = np.random.permutation(x_data_reshaped.shape[0])\n",
    "shuffle = np.arange(x_data_reshaped.shape[0])\n",
    "\n",
    "x_train = x_data_reshaped[shuffle[0:4000],:,:]\n",
    "y_train = y_data_reshaped[shuffle[0:4000],:]\n",
    "\n",
    "x_dev = x_data_reshaped[shuffle[4000:4700],:,:]\n",
    "y_dev = y_data_reshaped[shuffle[4000:4700],:]\n",
    "\n",
    "x_test = x_data_reshaped[shuffle[4700:],:,:]\n",
    "y_test = y_data_reshaped[shuffle[4700:],:]"
   ]
  },
  {
   "cell_type": "code",
   "execution_count": 22,
   "metadata": {
    "collapsed": true
   },
   "outputs": [],
   "source": [
    "def precision(y_true, y_pred):\n",
    "    \"\"\"Precision metric.\n",
    "\n",
    "    Only computes a batch-wise average of precision.\n",
    "\n",
    "    Computes the precision, a metric for multi-label classification of\n",
    "    how many selected items are relevant.\n",
    "    \"\"\"\n",
    "    true_positives = K.sum(K.round(K.clip(y_true * y_pred, 0, 1)))\n",
    "    predicted_positives = K.sum(K.round(K.clip(y_pred, 0, 1)))\n",
    "    precision = true_positives / (predicted_positives + K.epsilon())\n",
    "    return precision\n"
   ]
  },
  {
   "cell_type": "code",
   "execution_count": 29,
   "metadata": {
    "collapsed": true
   },
   "outputs": [],
   "source": [
    "def create_model(dropout_1 = 0, dropout_2 = 0, l2_1 = 0, l2_2 = 0, lr = 0.001, num_classes = 2):\n",
    "\n",
    "    model = Sequential()\n",
    "\n",
    "    model.add(LSTM(128, input_shape = (timestep, 36), return_sequences=True, dropout=dropout_1,\n",
    "                   kernel_regularizer=regularizers.l2(l2_1)))\n",
    "    #kernel_regularizer=regularizers.l2(0.1)\n",
    "\n",
    "\n",
    "    model.add(LSTM(128, dropout=dropout_2,return_sequences=True, kernel_regularizer=regularizers.l2(l2_2)))\n",
    "    #model.add(Dropout(0.1))\n",
    "    \n",
    "    model.add(LSTM(128, dropout=dropout_2,return_sequences=ret_seq, kernel_regularizer=regularizers.l2(l2_2)))\n",
    "    \n",
    "    model.add(Dense(128, activation='relu', kernel_regularizer=regularizers.l2(0)))\n",
    "    \n",
    "    model.add(Dense(128, activation='relu', kernel_regularizer=regularizers.l2(0)))\n",
    "\n",
    "    if num_classes == 2:\n",
    "        model.add(Dense(1, activation='sigmoid'))\n",
    "\n",
    "        model.compile(loss='binary_crossentropy', optimizer=keras.optimizers.Adam(lr = lr),\n",
    "                      metrics=['binary_accuracy', precision])\n",
    "    else:\n",
    "        model.add(Dense(num_classes, activation='softmax'))\n",
    "\n",
    "        model.compile(loss='categorical_crossentropy', optimizer=keras.optimizers.Adam(lr = lr),\n",
    "                      metrics=['categorical_accuracy'])\n",
    "    \n",
    "    return model"
   ]
  },
  {
   "cell_type": "code",
   "execution_count": 30,
   "metadata": {
    "collapsed": true
   },
   "outputs": [],
   "source": [
    "model = create_model(0.3,0.3,0,0, 0.0001, bins)"
   ]
  },
  {
   "cell_type": "code",
   "execution_count": 34,
   "metadata": {},
   "outputs": [
    {
     "name": "stdout",
     "output_type": "stream",
     "text": [
      "Train on 4000 samples, validate on 700 samples\n",
      "Epoch 1/40\n",
      " - 6s - loss: 1.6091 - categorical_accuracy: 0.2050 - val_loss: 1.6090 - val_categorical_accuracy: 0.2043\n",
      "Epoch 2/40\n",
      " - 5s - loss: 1.6066 - categorical_accuracy: 0.2205 - val_loss: 1.6060 - val_categorical_accuracy: 0.2229\n",
      "Epoch 3/40\n",
      " - 5s - loss: 1.6033 - categorical_accuracy: 0.2417 - val_loss: 1.6025 - val_categorical_accuracy: 0.2314\n",
      "Epoch 4/40\n",
      " - 5s - loss: 1.5969 - categorical_accuracy: 0.2372 - val_loss: 1.5974 - val_categorical_accuracy: 0.2371\n",
      "Epoch 5/40\n",
      " - 5s - loss: 1.5927 - categorical_accuracy: 0.2402 - val_loss: 1.5925 - val_categorical_accuracy: 0.2400\n",
      "Epoch 6/40\n",
      " - 5s - loss: 1.5875 - categorical_accuracy: 0.2537 - val_loss: 1.5913 - val_categorical_accuracy: 0.2429\n",
      "Epoch 7/40\n",
      " - 5s - loss: 1.5889 - categorical_accuracy: 0.2560 - val_loss: 1.5895 - val_categorical_accuracy: 0.2471\n",
      "Epoch 8/40\n",
      " - 5s - loss: 1.5826 - categorical_accuracy: 0.2672 - val_loss: 1.5889 - val_categorical_accuracy: 0.2443\n",
      "Epoch 9/40\n",
      " - 5s - loss: 1.5827 - categorical_accuracy: 0.2475 - val_loss: 1.5894 - val_categorical_accuracy: 0.2443\n",
      "Epoch 10/40\n",
      " - 5s - loss: 1.5783 - categorical_accuracy: 0.2685 - val_loss: 1.5869 - val_categorical_accuracy: 0.2443\n",
      "Epoch 11/40\n",
      " - 5s - loss: 1.5825 - categorical_accuracy: 0.2600 - val_loss: 1.5874 - val_categorical_accuracy: 0.2457\n",
      "Epoch 12/40\n",
      " - 5s - loss: 1.5806 - categorical_accuracy: 0.2640 - val_loss: 1.5884 - val_categorical_accuracy: 0.2457\n",
      "Epoch 13/40\n",
      " - 5s - loss: 1.5760 - categorical_accuracy: 0.2625 - val_loss: 1.5876 - val_categorical_accuracy: 0.2514\n",
      "Epoch 14/40\n",
      " - 5s - loss: 1.5741 - categorical_accuracy: 0.2645 - val_loss: 1.5887 - val_categorical_accuracy: 0.2429\n",
      "Epoch 15/40\n",
      " - 5s - loss: 1.5751 - categorical_accuracy: 0.2655 - val_loss: 1.5892 - val_categorical_accuracy: 0.2371\n",
      "Epoch 16/40\n",
      " - 5s - loss: 1.5759 - categorical_accuracy: 0.2690 - val_loss: 1.5874 - val_categorical_accuracy: 0.2486\n",
      "Epoch 17/40\n",
      " - 5s - loss: 1.5768 - categorical_accuracy: 0.2702 - val_loss: 1.5880 - val_categorical_accuracy: 0.2486\n",
      "Epoch 18/40\n",
      " - 5s - loss: 1.5711 - categorical_accuracy: 0.2635 - val_loss: 1.5892 - val_categorical_accuracy: 0.2371\n",
      "Epoch 19/40\n",
      " - 5s - loss: 1.5733 - categorical_accuracy: 0.2775 - val_loss: 1.5870 - val_categorical_accuracy: 0.2414\n",
      "Epoch 20/40\n",
      " - 5s - loss: 1.5700 - categorical_accuracy: 0.2690 - val_loss: 1.5870 - val_categorical_accuracy: 0.2486\n",
      "Epoch 21/40\n",
      " - 5s - loss: 1.5720 - categorical_accuracy: 0.2700 - val_loss: 1.5880 - val_categorical_accuracy: 0.2529\n",
      "Epoch 22/40\n",
      " - 5s - loss: 1.5713 - categorical_accuracy: 0.2722 - val_loss: 1.5876 - val_categorical_accuracy: 0.2543\n",
      "Epoch 23/40\n",
      " - 5s - loss: 1.5685 - categorical_accuracy: 0.2705 - val_loss: 1.5871 - val_categorical_accuracy: 0.2486\n",
      "Epoch 24/40\n",
      " - 5s - loss: 1.5617 - categorical_accuracy: 0.2933 - val_loss: 1.5872 - val_categorical_accuracy: 0.2543\n",
      "Epoch 25/40\n",
      " - 5s - loss: 1.5665 - categorical_accuracy: 0.2858 - val_loss: 1.5865 - val_categorical_accuracy: 0.2486\n",
      "Epoch 26/40\n",
      " - 5s - loss: 1.5612 - categorical_accuracy: 0.2833 - val_loss: 1.5871 - val_categorical_accuracy: 0.2543\n",
      "Epoch 27/40\n",
      " - 5s - loss: 1.5675 - categorical_accuracy: 0.2752 - val_loss: 1.5866 - val_categorical_accuracy: 0.2471\n",
      "Epoch 28/40\n",
      " - 5s - loss: 1.5579 - categorical_accuracy: 0.2965 - val_loss: 1.5905 - val_categorical_accuracy: 0.2486\n",
      "Epoch 29/40\n",
      " - 5s - loss: 1.5615 - categorical_accuracy: 0.2875 - val_loss: 1.5896 - val_categorical_accuracy: 0.2400\n",
      "Epoch 30/40\n",
      " - 5s - loss: 1.5595 - categorical_accuracy: 0.2838 - val_loss: 1.5905 - val_categorical_accuracy: 0.2443\n",
      "Epoch 31/40\n",
      " - 5s - loss: 1.5582 - categorical_accuracy: 0.2893 - val_loss: 1.5909 - val_categorical_accuracy: 0.2486\n",
      "Epoch 32/40\n",
      " - 5s - loss: 1.5550 - categorical_accuracy: 0.2848 - val_loss: 1.5913 - val_categorical_accuracy: 0.2557\n",
      "Epoch 33/40\n",
      " - 5s - loss: 1.5534 - categorical_accuracy: 0.2945 - val_loss: 1.5915 - val_categorical_accuracy: 0.2386\n",
      "Epoch 34/40\n",
      " - 5s - loss: 1.5524 - categorical_accuracy: 0.2950 - val_loss: 1.5924 - val_categorical_accuracy: 0.2329\n",
      "Epoch 35/40\n",
      " - 5s - loss: 1.5490 - categorical_accuracy: 0.2960 - val_loss: 1.5954 - val_categorical_accuracy: 0.2414\n",
      "Epoch 36/40\n",
      " - 5s - loss: 1.5432 - categorical_accuracy: 0.2972 - val_loss: 1.5961 - val_categorical_accuracy: 0.2386\n",
      "Epoch 37/40\n",
      " - 5s - loss: 1.5479 - categorical_accuracy: 0.2958 - val_loss: 1.5939 - val_categorical_accuracy: 0.2500\n",
      "Epoch 38/40\n",
      " - 5s - loss: 1.5531 - categorical_accuracy: 0.2930 - val_loss: 1.5975 - val_categorical_accuracy: 0.2386\n",
      "Epoch 39/40\n",
      " - 5s - loss: 1.5431 - categorical_accuracy: 0.3015 - val_loss: 1.6007 - val_categorical_accuracy: 0.2429\n",
      "Epoch 40/40\n",
      " - 5s - loss: 1.5490 - categorical_accuracy: 0.2980 - val_loss: 1.5994 - val_categorical_accuracy: 0.2329\n"
     ]
    }
   ],
   "source": [
    "result = model.fit(x_train, y_train, epochs=40, batch_size=128, verbose=2, validation_data = (x_dev, y_dev))"
   ]
  },
  {
   "cell_type": "code",
   "execution_count": 35,
   "metadata": {},
   "outputs": [
    {
     "name": "stdout",
     "output_type": "stream",
     "text": [
      "             precision    recall  f1-score   support\n",
      "\n",
      "     Class0       0.23      0.23      0.23       124\n",
      "     Class1       0.28      0.23      0.25       125\n",
      "     Class2       0.23      0.23      0.23       128\n",
      "     Class3       0.20      0.16      0.18       116\n",
      "     Class4       0.26      0.34      0.30       125\n",
      "\n",
      "avg / total       0.24      0.24      0.24       618\n",
      "\n"
     ]
    }
   ],
   "source": [
    "if ret_seq:\n",
    "    target_names = ['Class'+str(n) for n in range(bins)]\n",
    "    y_pred = model.predict(x_test)\n",
    "    print(metrics.classification_report(y_test.argmax(2).flatten(), y_pred.argmax(2).flatten(), target_names=target_names))\n",
    "\n",
    "else:\n",
    "    target_names = ['Class'+str(n) for n in range(bins)]\n",
    "    y_pred = model.predict(x_test)\n",
    "    print(metrics.classification_report(y_test.argmax(1), y_pred.argmax(1), target_names=target_names))"
   ]
  },
  {
   "cell_type": "code",
   "execution_count": 36,
   "metadata": {},
   "outputs": [
    {
     "data": {
      "image/png": "[encoded data removed]",
      "text/plain": [
       "<matplotlib.figure.Figure at 0x7fdab1c18908>"
      ]
     },
     "metadata": {},
     "output_type": "display_data"
    }
   ],
   "source": [
    "plt.figure(figsize = (15,5))\n",
    "sns.set_style(\"white\")\n",
    "\n",
    "plt.subplot(121)\n",
    "plt.plot(result.history['loss'][10:])\n",
    "plt.plot(result.history['val_loss'][10:])\n",
    "plt.legend(['Loss', 'Val Loss'])\n",
    "\n",
    "plt.subplot(122)\n",
    "\n",
    "if bins==2:\n",
    "    plt.plot(result.history['binary_accuracy'])\n",
    "    plt.plot(result.history['val_binary_accuracy'])\n",
    "else:\n",
    "    plt.plot(result.history['categorical_accuracy'])\n",
    "    plt.plot(result.history['val_categorical_accuracy'])\n",
    "    \n",
    "plt.legend(['Accuracy', 'Val Accuracy']);\n",
    "\n",
    "#plt.subplot(223)\n",
    "#plt.plot(result.history['precision'])\n",
    "#plt.plot(result.history['val_precision'])\n",
    "#plt.legend(['Precision', 'Val Precision']);"
   ]
  },
  {
   "cell_type": "code",
   "execution_count": 32,
   "metadata": {},
   "outputs": [
    {
     "ename": "ValueError",
     "evalue": "multilabel-indicator is not supported",
     "output_type": "error",
     "traceback": [
      "\u001b[0;31m---------------------------------------------------------------------------\u001b[0m",
      "\u001b[0;31mValueError\u001b[0m                                Traceback (most recent call last)",
      "\u001b[0;32m<ipython-input-32-3fb80525ce5c>\u001b[0m in \u001b[0;36m<module>\u001b[0;34m()\u001b[0m\n\u001b[1;32m      1\u001b[0m \u001b[0my_pred\u001b[0m \u001b[0;34m=\u001b[0m \u001b[0mmodel\u001b[0m\u001b[0;34m.\u001b[0m\u001b[0mpredict\u001b[0m\u001b[0;34m(\u001b[0m\u001b[0mx_train\u001b[0m\u001b[0;34m)\u001b[0m\u001b[0;34m\u001b[0m\u001b[0m\n\u001b[0;32m----> 2\u001b[0;31m \u001b[0mmetrics\u001b[0m\u001b[0;34m.\u001b[0m\u001b[0mconfusion_matrix\u001b[0m\u001b[0;34m(\u001b[0m\u001b[0my_train\u001b[0m\u001b[0;34m,\u001b[0m \u001b[0mnp\u001b[0m\u001b[0;34m.\u001b[0m\u001b[0mround\u001b[0m\u001b[0;34m(\u001b[0m\u001b[0my_pred\u001b[0m\u001b[0;34m)\u001b[0m\u001b[0;34m)\u001b[0m\u001b[0;34m\u001b[0m\u001b[0m\n\u001b[0m",
      "\u001b[0;32m~/anaconda3/lib/python3.6/site-packages/sklearn/metrics/classification.py\u001b[0m in \u001b[0;36mconfusion_matrix\u001b[0;34m(y_true, y_pred, labels, sample_weight)\u001b[0m\n\u001b[1;32m    250\u001b[0m     \u001b[0my_type\u001b[0m\u001b[0;34m,\u001b[0m \u001b[0my_true\u001b[0m\u001b[0;34m,\u001b[0m \u001b[0my_pred\u001b[0m \u001b[0;34m=\u001b[0m \u001b[0m_check_targets\u001b[0m\u001b[0;34m(\u001b[0m\u001b[0my_true\u001b[0m\u001b[0;34m,\u001b[0m \u001b[0my_pred\u001b[0m\u001b[0;34m)\u001b[0m\u001b[0;34m\u001b[0m\u001b[0m\n\u001b[1;32m    251\u001b[0m     \u001b[0;32mif\u001b[0m \u001b[0my_type\u001b[0m \u001b[0;32mnot\u001b[0m \u001b[0;32min\u001b[0m \u001b[0;34m(\u001b[0m\u001b[0;34m\"binary\"\u001b[0m\u001b[0;34m,\u001b[0m \u001b[0;34m\"multiclass\"\u001b[0m\u001b[0;34m)\u001b[0m\u001b[0;34m:\u001b[0m\u001b[0;34m\u001b[0m\u001b[0m\n\u001b[0;32m--> 252\u001b[0;31m         \u001b[0;32mraise\u001b[0m \u001b[0mValueError\u001b[0m\u001b[0;34m(\u001b[0m\u001b[0;34m\"%s is not supported\"\u001b[0m \u001b[0;34m%\u001b[0m \u001b[0my_type\u001b[0m\u001b[0;34m)\u001b[0m\u001b[0;34m\u001b[0m\u001b[0m\n\u001b[0m\u001b[1;32m    253\u001b[0m \u001b[0;34m\u001b[0m\u001b[0m\n\u001b[1;32m    254\u001b[0m     \u001b[0;32mif\u001b[0m \u001b[0mlabels\u001b[0m \u001b[0;32mis\u001b[0m \u001b[0;32mNone\u001b[0m\u001b[0;34m:\u001b[0m\u001b[0;34m\u001b[0m\u001b[0m\n",
      "\u001b[0;31mValueError\u001b[0m: multilabel-indicator is not supported"
     ]
    }
   ],
   "source": [
    "y_pred = model.predict(x_train)\n",
    "metrics.confusion_matrix(y_train, np.round(y_pred))"
   ]
  },
  {
   "cell_type": "code",
   "execution_count": 33,
   "metadata": {},
   "outputs": [
    {
     "name": "stdout",
     "output_type": "stream",
     "text": [
      "Running iteration 0\n"
     ]
    },
    {
     "ename": "KeyError",
     "evalue": "'binary_accuracy'",
     "output_type": "error",
     "traceback": [
      "\u001b[0;31m---------------------------------------------------------------------------\u001b[0m",
      "\u001b[0;31mKeyError\u001b[0m                                  Traceback (most recent call last)",
      "\u001b[0;32m<ipython-input-33-0b0025b5c008>\u001b[0m in \u001b[0;36m<module>\u001b[0;34m()\u001b[0m\n\u001b[1;32m     20\u001b[0m \u001b[0;34m\u001b[0m\u001b[0m\n\u001b[1;32m     21\u001b[0m     tune_results.iloc[i] = [dropout_1, dropout_2, l2_1, l2_2,\n\u001b[0;32m---> 22\u001b[0;31m                             \u001b[0mresult\u001b[0m\u001b[0;34m.\u001b[0m\u001b[0mhistory\u001b[0m\u001b[0;34m[\u001b[0m\u001b[0;34m'loss'\u001b[0m\u001b[0;34m]\u001b[0m\u001b[0;34m[\u001b[0m\u001b[0;34m-\u001b[0m\u001b[0;36m1\u001b[0m\u001b[0;34m]\u001b[0m\u001b[0;34m,\u001b[0m \u001b[0mresult\u001b[0m\u001b[0;34m.\u001b[0m\u001b[0mhistory\u001b[0m\u001b[0;34m[\u001b[0m\u001b[0;34m'binary_accuracy'\u001b[0m\u001b[0;34m]\u001b[0m\u001b[0;34m[\u001b[0m\u001b[0;34m-\u001b[0m\u001b[0;36m1\u001b[0m\u001b[0;34m]\u001b[0m\u001b[0;34m,\u001b[0m\u001b[0;34m\u001b[0m\u001b[0m\n\u001b[0m\u001b[1;32m     23\u001b[0m                             result.history['val_loss'][-1], result.history['val_binary_accuracy'][-1], lr]\n\u001b[1;32m     24\u001b[0m                            \u001b[0;31m#result.history['precision'][-1], result.history['val_precision'][-1]]\u001b[0m\u001b[0;34m\u001b[0m\u001b[0;34m\u001b[0m\u001b[0m\n",
      "\u001b[0;31mKeyError\u001b[0m: 'binary_accuracy'"
     ]
    }
   ],
   "source": [
    "tune_results = pd.DataFrame(np.zeros((40, 9)),\n",
    "                            columns = ['dropout_1', 'dropout_2', 'l2_1', \n",
    "                                       'l2_2', 'loss', 'accuracy',\n",
    "                                      'val_loss', 'val_accuracy', 'lr'])\n",
    "\n",
    "for i in range(40):\n",
    "    \n",
    "    #if i % 5 == 0: print(\"Running iteration {}-{}\".format(i, i+5))\n",
    "    print(\"Running iteration {}\".format(i))\n",
    "          \n",
    "    dropout_1 = np.random.uniform(0, 1)\n",
    "    dropout_2 = np.random.uniform(0, 1)\n",
    "    lr = np.exp(np.random.uniform(-6, 0))\n",
    "    l2_1 = np.exp(np.random.uniform(-4, 0))\n",
    "    l2_2 = np.exp(np.random.uniform(-4, 0))\n",
    "    \n",
    "    \n",
    "    model = create_model(dropout_1, dropout_2, l2_1, l2_2, lr, bins)\n",
    "    result = model.fit(x_train, y_train, epochs=80, batch_size=128, verbose=0, validation_data = (x_dev, y_dev))\n",
    "    \n",
    "    tune_results.iloc[i] = [dropout_1, dropout_2, l2_1, l2_2,\n",
    "                            result.history['loss'][-1], result.history['binary_accuracy'][-1],\n",
    "                            result.history['val_loss'][-1], result.history['val_binary_accuracy'][-1], lr]\n",
    "                           #result.history['precision'][-1], result.history['val_precision'][-1]]\n",
    "    "
   ]
  },
  {
   "cell_type": "code",
   "execution_count": 68,
   "metadata": {},
   "outputs": [
    {
     "data": {
      "text/html": [
       "<div>\n",
       "<style>\n",
       "    .dataframe thead tr:only-child th {\n",
       "        text-align: right;\n",
       "    }\n",
       "\n",
       "    .dataframe thead th {\n",
       "        text-align: left;\n",
       "    }\n",
       "\n",
       "    .dataframe tbody tr th {\n",
       "        vertical-align: top;\n",
       "    }\n",
       "</style>\n",
       "<table border=\"1\" class=\"dataframe\">\n",
       "  <thead>\n",
       "    <tr style=\"text-align: right;\">\n",
       "      <th></th>\n",
       "      <th>dropout_1</th>\n",
       "      <th>dropout_2</th>\n",
       "      <th>l2_1</th>\n",
       "      <th>l2_2</th>\n",
       "      <th>loss</th>\n",
       "      <th>accuracy</th>\n",
       "      <th>val_loss</th>\n",
       "      <th>val_accuracy</th>\n",
       "      <th>lr</th>\n",
       "    </tr>\n",
       "  </thead>\n",
       "  <tbody>\n",
       "    <tr>\n",
       "      <th>0</th>\n",
       "      <td>0.931612</td>\n",
       "      <td>0.967210</td>\n",
       "      <td>0.067904</td>\n",
       "      <td>0.869231</td>\n",
       "      <td>6.923992e-01</td>\n",
       "      <td>0.526667</td>\n",
       "      <td>6.930782e-01</td>\n",
       "      <td>0.520</td>\n",
       "      <td>0.007475</td>\n",
       "    </tr>\n",
       "    <tr>\n",
       "      <th>1</th>\n",
       "      <td>0.205958</td>\n",
       "      <td>0.363644</td>\n",
       "      <td>0.029457</td>\n",
       "      <td>0.816038</td>\n",
       "      <td>6.920340e-01</td>\n",
       "      <td>0.526667</td>\n",
       "      <td>6.927779e-01</td>\n",
       "      <td>0.520</td>\n",
       "      <td>0.047772</td>\n",
       "    </tr>\n",
       "    <tr>\n",
       "      <th>2</th>\n",
       "      <td>0.646210</td>\n",
       "      <td>0.790830</td>\n",
       "      <td>0.792973</td>\n",
       "      <td>0.035568</td>\n",
       "      <td>6.921743e-01</td>\n",
       "      <td>0.526667</td>\n",
       "      <td>6.925189e-01</td>\n",
       "      <td>0.520</td>\n",
       "      <td>0.027272</td>\n",
       "    </tr>\n",
       "    <tr>\n",
       "      <th>3</th>\n",
       "      <td>0.592776</td>\n",
       "      <td>0.856450</td>\n",
       "      <td>0.152186</td>\n",
       "      <td>0.030768</td>\n",
       "      <td>9.026136e+05</td>\n",
       "      <td>0.505000</td>\n",
       "      <td>9.078088e+05</td>\n",
       "      <td>0.575</td>\n",
       "      <td>0.896186</td>\n",
       "    </tr>\n",
       "    <tr>\n",
       "      <th>4</th>\n",
       "      <td>0.662456</td>\n",
       "      <td>0.343386</td>\n",
       "      <td>0.027930</td>\n",
       "      <td>0.077732</td>\n",
       "      <td>6.917593e-01</td>\n",
       "      <td>0.526667</td>\n",
       "      <td>6.923962e-01</td>\n",
       "      <td>0.520</td>\n",
       "      <td>0.007941</td>\n",
       "    </tr>\n",
       "    <tr>\n",
       "      <th>5</th>\n",
       "      <td>0.935803</td>\n",
       "      <td>0.367336</td>\n",
       "      <td>0.041379</td>\n",
       "      <td>0.041885</td>\n",
       "      <td>6.920245e-01</td>\n",
       "      <td>0.526667</td>\n",
       "      <td>6.926640e-01</td>\n",
       "      <td>0.520</td>\n",
       "      <td>0.010829</td>\n",
       "    </tr>\n",
       "    <tr>\n",
       "      <th>6</th>\n",
       "      <td>0.123315</td>\n",
       "      <td>0.264835</td>\n",
       "      <td>0.039293</td>\n",
       "      <td>0.081507</td>\n",
       "      <td>6.918415e-01</td>\n",
       "      <td>0.526667</td>\n",
       "      <td>6.924130e-01</td>\n",
       "      <td>0.520</td>\n",
       "      <td>0.014364</td>\n",
       "    </tr>\n",
       "    <tr>\n",
       "      <th>7</th>\n",
       "      <td>0.195417</td>\n",
       "      <td>0.551929</td>\n",
       "      <td>0.018667</td>\n",
       "      <td>0.317075</td>\n",
       "      <td>6.936207e-01</td>\n",
       "      <td>0.526667</td>\n",
       "      <td>6.931338e-01</td>\n",
       "      <td>0.520</td>\n",
       "      <td>0.022893</td>\n",
       "    </tr>\n",
       "    <tr>\n",
       "      <th>8</th>\n",
       "      <td>0.206481</td>\n",
       "      <td>0.511752</td>\n",
       "      <td>0.073458</td>\n",
       "      <td>0.225111</td>\n",
       "      <td>6.920207e-01</td>\n",
       "      <td>0.526667</td>\n",
       "      <td>6.926341e-01</td>\n",
       "      <td>0.520</td>\n",
       "      <td>0.005911</td>\n",
       "    </tr>\n",
       "    <tr>\n",
       "      <th>9</th>\n",
       "      <td>0.844901</td>\n",
       "      <td>0.745115</td>\n",
       "      <td>0.380857</td>\n",
       "      <td>0.139344</td>\n",
       "      <td>6.921481e-01</td>\n",
       "      <td>0.526667</td>\n",
       "      <td>6.928127e-01</td>\n",
       "      <td>0.520</td>\n",
       "      <td>0.004063</td>\n",
       "    </tr>\n",
       "    <tr>\n",
       "      <th>10</th>\n",
       "      <td>0.372446</td>\n",
       "      <td>0.010679</td>\n",
       "      <td>0.098455</td>\n",
       "      <td>0.978597</td>\n",
       "      <td>6.919843e-01</td>\n",
       "      <td>0.526667</td>\n",
       "      <td>6.924848e-01</td>\n",
       "      <td>0.520</td>\n",
       "      <td>0.010611</td>\n",
       "    </tr>\n",
       "    <tr>\n",
       "      <th>11</th>\n",
       "      <td>0.291921</td>\n",
       "      <td>0.216879</td>\n",
       "      <td>0.711894</td>\n",
       "      <td>0.059474</td>\n",
       "      <td>6.918389e-01</td>\n",
       "      <td>0.526667</td>\n",
       "      <td>6.924426e-01</td>\n",
       "      <td>0.520</td>\n",
       "      <td>0.008838</td>\n",
       "    </tr>\n",
       "    <tr>\n",
       "      <th>12</th>\n",
       "      <td>0.635092</td>\n",
       "      <td>0.919634</td>\n",
       "      <td>0.132781</td>\n",
       "      <td>0.041605</td>\n",
       "      <td>6.992341e-01</td>\n",
       "      <td>0.526667</td>\n",
       "      <td>6.979869e-01</td>\n",
       "      <td>0.520</td>\n",
       "      <td>0.002728</td>\n",
       "    </tr>\n",
       "    <tr>\n",
       "      <th>13</th>\n",
       "      <td>0.721348</td>\n",
       "      <td>0.341768</td>\n",
       "      <td>0.069978</td>\n",
       "      <td>0.023876</td>\n",
       "      <td>6.917981e-01</td>\n",
       "      <td>0.526667</td>\n",
       "      <td>6.924671e-01</td>\n",
       "      <td>0.520</td>\n",
       "      <td>0.016257</td>\n",
       "    </tr>\n",
       "    <tr>\n",
       "      <th>14</th>\n",
       "      <td>0.066222</td>\n",
       "      <td>0.664344</td>\n",
       "      <td>0.436097</td>\n",
       "      <td>0.047547</td>\n",
       "      <td>2.635182e+06</td>\n",
       "      <td>0.495000</td>\n",
       "      <td>2.642779e+06</td>\n",
       "      <td>0.560</td>\n",
       "      <td>0.845615</td>\n",
       "    </tr>\n",
       "    <tr>\n",
       "      <th>15</th>\n",
       "      <td>0.797668</td>\n",
       "      <td>0.764290</td>\n",
       "      <td>0.031733</td>\n",
       "      <td>0.037493</td>\n",
       "      <td>6.924468e-01</td>\n",
       "      <td>0.526667</td>\n",
       "      <td>6.934064e-01</td>\n",
       "      <td>0.520</td>\n",
       "      <td>0.010481</td>\n",
       "    </tr>\n",
       "    <tr>\n",
       "      <th>16</th>\n",
       "      <td>0.072494</td>\n",
       "      <td>0.795194</td>\n",
       "      <td>0.025635</td>\n",
       "      <td>0.026940</td>\n",
       "      <td>6.924200e-01</td>\n",
       "      <td>0.526667</td>\n",
       "      <td>6.927170e-01</td>\n",
       "      <td>0.520</td>\n",
       "      <td>0.023679</td>\n",
       "    </tr>\n",
       "    <tr>\n",
       "      <th>17</th>\n",
       "      <td>0.407912</td>\n",
       "      <td>0.084556</td>\n",
       "      <td>0.187605</td>\n",
       "      <td>0.214041</td>\n",
       "      <td>6.959317e-01</td>\n",
       "      <td>0.480000</td>\n",
       "      <td>6.928929e-01</td>\n",
       "      <td>0.520</td>\n",
       "      <td>0.075369</td>\n",
       "    </tr>\n",
       "    <tr>\n",
       "      <th>18</th>\n",
       "      <td>0.882250</td>\n",
       "      <td>0.462387</td>\n",
       "      <td>0.019769</td>\n",
       "      <td>0.412927</td>\n",
       "      <td>6.918587e-01</td>\n",
       "      <td>0.526667</td>\n",
       "      <td>6.924445e-01</td>\n",
       "      <td>0.520</td>\n",
       "      <td>0.011255</td>\n",
       "    </tr>\n",
       "    <tr>\n",
       "      <th>19</th>\n",
       "      <td>0.168741</td>\n",
       "      <td>0.912359</td>\n",
       "      <td>0.162538</td>\n",
       "      <td>0.222422</td>\n",
       "      <td>6.920444e-01</td>\n",
       "      <td>0.526667</td>\n",
       "      <td>6.926538e-01</td>\n",
       "      <td>0.520</td>\n",
       "      <td>0.005304</td>\n",
       "    </tr>\n",
       "    <tr>\n",
       "      <th>20</th>\n",
       "      <td>0.456060</td>\n",
       "      <td>0.163200</td>\n",
       "      <td>0.379648</td>\n",
       "      <td>0.340608</td>\n",
       "      <td>4.717589e+04</td>\n",
       "      <td>0.540000</td>\n",
       "      <td>4.698130e+04</td>\n",
       "      <td>0.480</td>\n",
       "      <td>0.556856</td>\n",
       "    </tr>\n",
       "    <tr>\n",
       "      <th>21</th>\n",
       "      <td>0.580458</td>\n",
       "      <td>0.847218</td>\n",
       "      <td>0.032019</td>\n",
       "      <td>0.110935</td>\n",
       "      <td>6.927818e-01</td>\n",
       "      <td>0.526667</td>\n",
       "      <td>6.935133e-01</td>\n",
       "      <td>0.520</td>\n",
       "      <td>0.028883</td>\n",
       "    </tr>\n",
       "    <tr>\n",
       "      <th>22</th>\n",
       "      <td>0.153323</td>\n",
       "      <td>0.751813</td>\n",
       "      <td>0.221256</td>\n",
       "      <td>0.037730</td>\n",
       "      <td>6.801953e-01</td>\n",
       "      <td>0.653333</td>\n",
       "      <td>7.942425e-01</td>\n",
       "      <td>0.525</td>\n",
       "      <td>0.003107</td>\n",
       "    </tr>\n",
       "    <tr>\n",
       "      <th>23</th>\n",
       "      <td>0.485901</td>\n",
       "      <td>0.878637</td>\n",
       "      <td>0.023394</td>\n",
       "      <td>0.023948</td>\n",
       "      <td>3.261158e+05</td>\n",
       "      <td>0.473333</td>\n",
       "      <td>3.271347e+05</td>\n",
       "      <td>0.440</td>\n",
       "      <td>0.966313</td>\n",
       "    </tr>\n",
       "    <tr>\n",
       "      <th>24</th>\n",
       "      <td>0.959670</td>\n",
       "      <td>0.497020</td>\n",
       "      <td>0.140431</td>\n",
       "      <td>0.361394</td>\n",
       "      <td>6.919225e-01</td>\n",
       "      <td>0.526667</td>\n",
       "      <td>6.924844e-01</td>\n",
       "      <td>0.520</td>\n",
       "      <td>0.016653</td>\n",
       "    </tr>\n",
       "    <tr>\n",
       "      <th>25</th>\n",
       "      <td>0.989244</td>\n",
       "      <td>0.158737</td>\n",
       "      <td>0.033313</td>\n",
       "      <td>0.084750</td>\n",
       "      <td>5.155472e+05</td>\n",
       "      <td>0.556667</td>\n",
       "      <td>5.218951e+05</td>\n",
       "      <td>0.535</td>\n",
       "      <td>0.502588</td>\n",
       "    </tr>\n",
       "    <tr>\n",
       "      <th>26</th>\n",
       "      <td>0.207317</td>\n",
       "      <td>0.663434</td>\n",
       "      <td>0.168890</td>\n",
       "      <td>0.070830</td>\n",
       "      <td>7.229650e-01</td>\n",
       "      <td>0.493333</td>\n",
       "      <td>7.617883e-01</td>\n",
       "      <td>0.480</td>\n",
       "      <td>0.147514</td>\n",
       "    </tr>\n",
       "    <tr>\n",
       "      <th>27</th>\n",
       "      <td>0.598194</td>\n",
       "      <td>0.547390</td>\n",
       "      <td>0.271183</td>\n",
       "      <td>0.591924</td>\n",
       "      <td>6.919878e-01</td>\n",
       "      <td>0.526667</td>\n",
       "      <td>6.925038e-01</td>\n",
       "      <td>0.520</td>\n",
       "      <td>0.011716</td>\n",
       "    </tr>\n",
       "    <tr>\n",
       "      <th>28</th>\n",
       "      <td>0.903056</td>\n",
       "      <td>0.109752</td>\n",
       "      <td>0.206404</td>\n",
       "      <td>0.027224</td>\n",
       "      <td>6.951450e-01</td>\n",
       "      <td>0.526667</td>\n",
       "      <td>6.944631e-01</td>\n",
       "      <td>0.520</td>\n",
       "      <td>0.056921</td>\n",
       "    </tr>\n",
       "    <tr>\n",
       "      <th>29</th>\n",
       "      <td>0.198606</td>\n",
       "      <td>0.279825</td>\n",
       "      <td>0.030765</td>\n",
       "      <td>0.039997</td>\n",
       "      <td>9.000672e+04</td>\n",
       "      <td>0.518333</td>\n",
       "      <td>9.043722e+04</td>\n",
       "      <td>0.440</td>\n",
       "      <td>0.226397</td>\n",
       "    </tr>\n",
       "    <tr>\n",
       "      <th>30</th>\n",
       "      <td>0.051322</td>\n",
       "      <td>0.149393</td>\n",
       "      <td>0.237129</td>\n",
       "      <td>0.309455</td>\n",
       "      <td>6.923729e-01</td>\n",
       "      <td>0.526667</td>\n",
       "      <td>6.932427e-01</td>\n",
       "      <td>0.520</td>\n",
       "      <td>0.047377</td>\n",
       "    </tr>\n",
       "    <tr>\n",
       "      <th>31</th>\n",
       "      <td>0.395157</td>\n",
       "      <td>0.150137</td>\n",
       "      <td>0.238508</td>\n",
       "      <td>0.798820</td>\n",
       "      <td>6.918768e-01</td>\n",
       "      <td>0.526667</td>\n",
       "      <td>6.924737e-01</td>\n",
       "      <td>0.520</td>\n",
       "      <td>0.009281</td>\n",
       "    </tr>\n",
       "    <tr>\n",
       "      <th>32</th>\n",
       "      <td>0.145739</td>\n",
       "      <td>0.058948</td>\n",
       "      <td>0.648639</td>\n",
       "      <td>0.020099</td>\n",
       "      <td>6.917620e-01</td>\n",
       "      <td>0.526667</td>\n",
       "      <td>6.924880e-01</td>\n",
       "      <td>0.520</td>\n",
       "      <td>0.010187</td>\n",
       "    </tr>\n",
       "    <tr>\n",
       "      <th>33</th>\n",
       "      <td>0.976300</td>\n",
       "      <td>0.298523</td>\n",
       "      <td>0.070697</td>\n",
       "      <td>0.649414</td>\n",
       "      <td>1.526175e+00</td>\n",
       "      <td>0.473333</td>\n",
       "      <td>1.507116e+00</td>\n",
       "      <td>0.480</td>\n",
       "      <td>0.297107</td>\n",
       "    </tr>\n",
       "    <tr>\n",
       "      <th>34</th>\n",
       "      <td>0.277539</td>\n",
       "      <td>0.347575</td>\n",
       "      <td>0.283036</td>\n",
       "      <td>0.056250</td>\n",
       "      <td>6.917545e-01</td>\n",
       "      <td>0.526667</td>\n",
       "      <td>6.924141e-01</td>\n",
       "      <td>0.520</td>\n",
       "      <td>0.023463</td>\n",
       "    </tr>\n",
       "    <tr>\n",
       "      <th>35</th>\n",
       "      <td>0.131198</td>\n",
       "      <td>0.383346</td>\n",
       "      <td>0.027795</td>\n",
       "      <td>0.276905</td>\n",
       "      <td>6.929069e-01</td>\n",
       "      <td>0.503333</td>\n",
       "      <td>6.923878e-01</td>\n",
       "      <td>0.520</td>\n",
       "      <td>0.067734</td>\n",
       "    </tr>\n",
       "    <tr>\n",
       "      <th>36</th>\n",
       "      <td>0.242820</td>\n",
       "      <td>0.694879</td>\n",
       "      <td>0.026494</td>\n",
       "      <td>0.043321</td>\n",
       "      <td>6.954722e-01</td>\n",
       "      <td>0.606667</td>\n",
       "      <td>7.541656e-01</td>\n",
       "      <td>0.505</td>\n",
       "      <td>0.006095</td>\n",
       "    </tr>\n",
       "    <tr>\n",
       "      <th>37</th>\n",
       "      <td>0.498211</td>\n",
       "      <td>0.186846</td>\n",
       "      <td>0.753014</td>\n",
       "      <td>0.675567</td>\n",
       "      <td>6.984068e-01</td>\n",
       "      <td>0.523333</td>\n",
       "      <td>6.967207e-01</td>\n",
       "      <td>0.520</td>\n",
       "      <td>0.191391</td>\n",
       "    </tr>\n",
       "    <tr>\n",
       "      <th>38</th>\n",
       "      <td>0.733329</td>\n",
       "      <td>0.733001</td>\n",
       "      <td>0.965864</td>\n",
       "      <td>0.082742</td>\n",
       "      <td>6.927006e-01</td>\n",
       "      <td>0.530000</td>\n",
       "      <td>6.996474e-01</td>\n",
       "      <td>0.480</td>\n",
       "      <td>0.195389</td>\n",
       "    </tr>\n",
       "    <tr>\n",
       "      <th>39</th>\n",
       "      <td>0.696313</td>\n",
       "      <td>0.956268</td>\n",
       "      <td>0.029979</td>\n",
       "      <td>0.735728</td>\n",
       "      <td>6.919871e-01</td>\n",
       "      <td>0.526667</td>\n",
       "      <td>6.925002e-01</td>\n",
       "      <td>0.520</td>\n",
       "      <td>0.002642</td>\n",
       "    </tr>\n",
       "  </tbody>\n",
       "</table>\n",
       "</div>"
      ],
      "text/plain": [
       "    dropout_1  dropout_2      l2_1      l2_2          loss  accuracy  \\\n",
       "0    0.931612   0.967210  0.067904  0.869231  6.923992e-01  0.526667   \n",
       "1    0.205958   0.363644  0.029457  0.816038  6.920340e-01  0.526667   \n",
       "2    0.646210   0.790830  0.792973  0.035568  6.921743e-01  0.526667   \n",
       "3    0.592776   0.856450  0.152186  0.030768  9.026136e+05  0.505000   \n",
       "4    0.662456   0.343386  0.027930  0.077732  6.917593e-01  0.526667   \n",
       "5    0.935803   0.367336  0.041379  0.041885  6.920245e-01  0.526667   \n",
       "6    0.123315   0.264835  0.039293  0.081507  6.918415e-01  0.526667   \n",
       "7    0.195417   0.551929  0.018667  0.317075  6.936207e-01  0.526667   \n",
       "8    0.206481   0.511752  0.073458  0.225111  6.920207e-01  0.526667   \n",
       "9    0.844901   0.745115  0.380857  0.139344  6.921481e-01  0.526667   \n",
       "10   0.372446   0.010679  0.098455  0.978597  6.919843e-01  0.526667   \n",
       "11   0.291921   0.216879  0.711894  0.059474  6.918389e-01  0.526667   \n",
       "12   0.635092   0.919634  0.132781  0.041605  6.992341e-01  0.526667   \n",
       "13   0.721348   0.341768  0.069978  0.023876  6.917981e-01  0.526667   \n",
       "14   0.066222   0.664344  0.436097  0.047547  2.635182e+06  0.495000   \n",
       "15   0.797668   0.764290  0.031733  0.037493  6.924468e-01  0.526667   \n",
       "16   0.072494   0.795194  0.025635  0.026940  6.924200e-01  0.526667   \n",
       "17   0.407912   0.084556  0.187605  0.214041  6.959317e-01  0.480000   \n",
       "18   0.882250   0.462387  0.019769  0.412927  6.918587e-01  0.526667   \n",
       "19   0.168741   0.912359  0.162538  0.222422  6.920444e-01  0.526667   \n",
       "20   0.456060   0.163200  0.379648  0.340608  4.717589e+04  0.540000   \n",
       "21   0.580458   0.847218  0.032019  0.110935  6.927818e-01  0.526667   \n",
       "22   0.153323   0.751813  0.221256  0.037730  6.801953e-01  0.653333   \n",
       "23   0.485901   0.878637  0.023394  0.023948  3.261158e+05  0.473333   \n",
       "24   0.959670   0.497020  0.140431  0.361394  6.919225e-01  0.526667   \n",
       "25   0.989244   0.158737  0.033313  0.084750  5.155472e+05  0.556667   \n",
       "26   0.207317   0.663434  0.168890  0.070830  7.229650e-01  0.493333   \n",
       "27   0.598194   0.547390  0.271183  0.591924  6.919878e-01  0.526667   \n",
       "28   0.903056   0.109752  0.206404  0.027224  6.951450e-01  0.526667   \n",
       "29   0.198606   0.279825  0.030765  0.039997  9.000672e+04  0.518333   \n",
       "30   0.051322   0.149393  0.237129  0.309455  6.923729e-01  0.526667   \n",
       "31   0.395157   0.150137  0.238508  0.798820  6.918768e-01  0.526667   \n",
       "32   0.145739   0.058948  0.648639  0.020099  6.917620e-01  0.526667   \n",
       "33   0.976300   0.298523  0.070697  0.649414  1.526175e+00  0.473333   \n",
       "34   0.277539   0.347575  0.283036  0.056250  6.917545e-01  0.526667   \n",
       "35   0.131198   0.383346  0.027795  0.276905  6.929069e-01  0.503333   \n",
       "36   0.242820   0.694879  0.026494  0.043321  6.954722e-01  0.606667   \n",
       "37   0.498211   0.186846  0.753014  0.675567  6.984068e-01  0.523333   \n",
       "38   0.733329   0.733001  0.965864  0.082742  6.927006e-01  0.530000   \n",
       "39   0.696313   0.956268  0.029979  0.735728  6.919871e-01  0.526667   \n",
       "\n",
       "        val_loss  val_accuracy        lr  \n",
       "0   6.930782e-01         0.520  0.007475  \n",
       "1   6.927779e-01         0.520  0.047772  \n",
       "2   6.925189e-01         0.520  0.027272  \n",
       "3   9.078088e+05         0.575  0.896186  \n",
       "4   6.923962e-01         0.520  0.007941  \n",
       "5   6.926640e-01         0.520  0.010829  \n",
       "6   6.924130e-01         0.520  0.014364  \n",
       "7   6.931338e-01         0.520  0.022893  \n",
       "8   6.926341e-01         0.520  0.005911  \n",
       "9   6.928127e-01         0.520  0.004063  \n",
       "10  6.924848e-01         0.520  0.010611  \n",
       "11  6.924426e-01         0.520  0.008838  \n",
       "12  6.979869e-01         0.520  0.002728  \n",
       "13  6.924671e-01         0.520  0.016257  \n",
       "14  2.642779e+06         0.560  0.845615  \n",
       "15  6.934064e-01         0.520  0.010481  \n",
       "16  6.927170e-01         0.520  0.023679  \n",
       "17  6.928929e-01         0.520  0.075369  \n",
       "18  6.924445e-01         0.520  0.011255  \n",
       "19  6.926538e-01         0.520  0.005304  \n",
       "20  4.698130e+04         0.480  0.556856  \n",
       "21  6.935133e-01         0.520  0.028883  \n",
       "22  7.942425e-01         0.525  0.003107  \n",
       "23  3.271347e+05         0.440  0.966313  \n",
       "24  6.924844e-01         0.520  0.016653  \n",
       "25  5.218951e+05         0.535  0.502588  \n",
       "26  7.617883e-01         0.480  0.147514  \n",
       "27  6.925038e-01         0.520  0.011716  \n",
       "28  6.944631e-01         0.520  0.056921  \n",
       "29  9.043722e+04         0.440  0.226397  \n",
       "30  6.932427e-01         0.520  0.047377  \n",
       "31  6.924737e-01         0.520  0.009281  \n",
       "32  6.924880e-01         0.520  0.010187  \n",
       "33  1.507116e+00         0.480  0.297107  \n",
       "34  6.924141e-01         0.520  0.023463  \n",
       "35  6.923878e-01         0.520  0.067734  \n",
       "36  7.541656e-01         0.505  0.006095  \n",
       "37  6.967207e-01         0.520  0.191391  \n",
       "38  6.996474e-01         0.480  0.195389  \n",
       "39  6.925002e-01         0.520  0.002642  "
      ]
     },
     "execution_count": 68,
     "metadata": {},
     "output_type": "execute_result"
    }
   ],
   "source": [
    "tune_results"
   ]
  },
  {
   "cell_type": "code",
   "execution_count": 190,
   "metadata": {
    "scrolled": true
   },
   "outputs": [
    {
     "data": {
      "text/plain": [
       "array([[1000]])"
      ]
     },
     "execution_count": 190,
     "metadata": {},
     "output_type": "execute_result"
    }
   ],
   "source": [
    "metrics.confusion_matrix(y_train.argmax(1), y_pred.argmax(1))"
   ]
  },
  {
   "cell_type": "code",
   "execution_count": 44,
   "metadata": {},
   "outputs": [
    {
     "name": "stdout",
     "output_type": "stream",
     "text": [
      "200/200 [==============================] - 0s     \n"
     ]
    },
    {
     "data": {
      "text/plain": [
       "[0.76113231897354128, 0.53000000000000003, 0.5427497005462647]"
      ]
     },
     "execution_count": 44,
     "metadata": {},
     "output_type": "execute_result"
    }
   ],
   "source": [
    "model.evaluate(x_test, y_test)"
   ]
  },
  {
   "cell_type": "code",
   "execution_count": 16,
   "metadata": {
    "collapsed": true
   },
   "outputs": [],
   "source": [
    "tune_reg = pd.read_csv('C:/Users/oou/Desktop/Analytics/Machine Learning/Reg_Tune.csv')"
   ]
  },
  {
   "cell_type": "code",
   "execution_count": 98,
   "metadata": {
    "collapsed": true
   },
   "outputs": [],
   "source": [
    "tune_results.to_csv('/Users/Owen/Documents/Machine Learning/Projects/Hang Seng Composite/Reg_Tune.csv')"
   ]
  },
  {
   "cell_type": "code",
   "execution_count": 194,
   "metadata": {},
   "outputs": [
    {
     "data": {
      "text/plain": [
       "<matplotlib.collections.PathCollection at 0x24e30ce10>"
      ]
     },
     "execution_count": 194,
     "metadata": {},
     "output_type": "execute_result"
    },
    {
     "data": {
      "image/png": "[encoded data removed]",
      "text/plain": [
       "<matplotlib.figure.Figure at 0x24e1d9898>"
      ]
     },
     "metadata": {},
     "output_type": "display_data"
    }
   ],
   "source": [
    "plt.figure()\n",
    "sns.set_style(\"white\")\n",
    "plt.scatter(tune_results['dropout_1'], tune_results['dropout_2'], c = tune_results['val_binary_accuracy'], cmap = 'Greens')"
   ]
  },
  {
   "cell_type": "code",
   "execution_count": 26,
   "metadata": {},
   "outputs": [
    {
     "data": {
      "text/plain": [
       "dropout_1              0.516177\n",
       "dropout_2              0.310560\n",
       "l2_1                   0.002840\n",
       "l2_2                   0.479195\n",
       "loss                   0.838360\n",
       "binary_accuracy        0.547500\n",
       "val_loss               0.818783\n",
       "val_binary_accuracy    0.596774\n",
       "Name: 57, dtype: float64"
      ]
     },
     "execution_count": 26,
     "metadata": {},
     "output_type": "execute_result"
    }
   ],
   "source": [
    "tune_reg.iloc[57]"
   ]
  },
  {
   "cell_type": "code",
   "execution_count": null,
   "metadata": {
    "collapsed": true
   },
   "outputs": [],
   "source": []
  }
 ],
 "metadata": {
  "kernelspec": {
   "display_name": "Python 3",
   "language": "python",
   "name": "python3"
  },
  "language_info": {
   "codemirror_mode": {
    "name": "ipython",
    "version": 3
   },
   "file_extension": ".py",
   "mimetype": "text/x-python",
   "name": "python",
   "nbconvert_exporter": "python",
   "pygments_lexer": "ipython3",
   "version": "3.6.3"
  }
 },
 "nbformat": 4,
 "nbformat_minor": 2
}
