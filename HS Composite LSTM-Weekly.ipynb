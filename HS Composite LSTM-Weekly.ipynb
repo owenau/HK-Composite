{
 "cells": [
  {
   "cell_type": "markdown",
   "metadata": {},
   "source": [
    "### Pre-processing procedures:\n",
    "\n",
    "1. Forward-fill valuation-related items, including FCF, dividends\n",
    "2. Use market cap/price column and valuation columns to calculate ratios\n",
    "3. Back-fill revere classifications\n",
    "4. Cross-sectional z-scores\n",
    "5. One-hot classifications"
   ]
  },
  {
   "cell_type": "code",
   "execution_count": 121,
   "metadata": {},
   "outputs": [],
   "source": [
    "import pandas as pd\n",
    "import numpy as np\n",
    "import tensorflow as tf\n",
    "import matplotlib.pyplot as plt\n",
    "\n",
    "import keras\n",
    "from keras.models import Sequential\n",
    "from keras.layers import Dense\n",
    "from keras.layers import Dropout\n",
    "from keras.layers import Embedding\n",
    "\n",
    "from keras.layers import LSTM\n",
    "from keras import backend as K\n",
    "from keras import regularizers\n",
    "\n",
    "import seaborn as sns\n",
    "\n",
    "from sklearn import metrics\n",
    "\n",
    "%matplotlib inline"
   ]
  },
  {
   "cell_type": "code",
   "execution_count": 122,
   "metadata": {
    "collapsed": true
   },
   "outputs": [],
   "source": [
    "bins = 4\n",
    "ret_seq = False\n",
    "timestep = 16"
   ]
  },
  {
   "cell_type": "code",
   "execution_count": 123,
   "metadata": {},
   "outputs": [],
   "source": [
    "# Import data from csv\n",
    "\n",
    "all_data = pd.read_csv('~/Projects/HS-Composite/HS_Composite_Weekly.csv',\n",
    "                      parse_dates = ['Date'], infer_datetime_format = True)\n",
    "\n",
    "#all_data = pd.read_csv('C:/Users/oou/Desktop/Analytics/Machine Learning/HS-Composite/HS_Composite_Weekly.csv',\n",
    "#                      parse_dates = ['Date'], infer_datetime_format = True)\n",
    "    \n",
    "#all_data = pd.read_csv('/Users/Owen/Documents/Machine Learning/Projects/Hang Seng Composite/HS_Composite.csv',\n",
    "#                       parse_dates = ['Date'], infer_datetime_format = True).set_index(['Date', 'Ticker'])"
   ]
  },
  {
   "cell_type": "code",
   "execution_count": 124,
   "metadata": {
    "collapsed": true
   },
   "outputs": [],
   "source": [
    "#all_data = all_data[(all_data['Ticker']!='LX75953') & (all_data['Ticker']!='LX87416')]"
   ]
  },
  {
   "cell_type": "code",
   "execution_count": 125,
   "metadata": {
    "collapsed": true
   },
   "outputs": [],
   "source": [
    "def insert_na(series, time_step):\n",
    "    \n",
    "    output = np.zeros_like(series, dtype=float)\n",
    "    \n",
    "    length = output.shape[0]//time_step * time_step\n",
    "    output[length:] = np.nan\n",
    "    \n",
    "    return output"
   ]
  },
  {
   "cell_type": "code",
   "execution_count": 126,
   "metadata": {
    "collapsed": true
   },
   "outputs": [],
   "source": [
    "# Convert dates to numbers\n",
    "all_data['Date Num'] = all_data['Date'].rank(method='dense')\n",
    "\n",
    "# Count discontinuity in dates\n",
    "all_data['Count'] = all_data.groupby('Ticker')['Date Num'].transform(lambda x: np.append(0, np.cumsum(np.diff(x)>1)))\n",
    "\n",
    "# Mark dates out of bounds as NaN\n",
    "all_data['Count_na'] = all_data.groupby(['Ticker','Count'])['Count'].transform(lambda x: insert_na(x, timestep))\n",
    "\n",
    "all_data.set_index(['Date', 'Ticker'], inplace=True)"
   ]
  },
  {
   "cell_type": "markdown",
   "metadata": {},
   "source": [
    "**The Forward fill FY1 PE line should be changed. Should forward fill EPS and then calculate PE**"
   ]
  },
  {
   "cell_type": "code",
   "execution_count": 127,
   "metadata": {
    "collapsed": true
   },
   "outputs": [],
   "source": [
    "def process_data(data):\n",
    "    \n",
    "    #Forward fill Valuation Data\n",
    "    data.loc[:,'Book Value':'1M EPS Revision'] = data.loc[:,'Book Value':'1M EPS Revision'].groupby(level = 1).ffill()\n",
    "    \n",
    "    #Fill N/A Estimate data with 0 (regard it as no signal)\n",
    "    data.loc[:,'1M EPS Revision':'FY1 EPS Growth'] = data.loc[:,'1M EPS Revision':'FY1 EPS Growth'].fillna(value = 0)\n",
    "    \n",
    "    #Calculate valuation ratios\n",
    "\n",
    "    data['PB Ratio'] = data['Market Cap']/data['Book Value']\n",
    "    ata['Dividend Yield'] = data['Total Dividends']/data['Market Cap']\n",
    "    data['Earnings Yield'] = data['EPS']/data['Price']\n",
    "    data['FCF Yield'] = data['Free Cash Flow']/data['Market Cap']\n",
    "    data['Log Market Cap'] = np.log(data['Market Cap'])\n",
    "\n",
    "    data.fillna(0, inplace = True)\n",
    "    \n",
    "    return data"
   ]
  },
  {
   "cell_type": "code",
   "execution_count": 128,
   "metadata": {
    "collapsed": true
   },
   "outputs": [],
   "source": [
    "#Forward fill Valuation Data\n",
    "all_data.loc[:,'Book Value':'1M EPS Revision'] = all_data.loc[:,'Book Value':'1M EPS Revision'].groupby(level = 1).ffill()\n",
    "\n",
    "#Fill N/A Estimate data with 0 (regard it as no signal)\n",
    "all_data.loc[:,'1M EPS Revision':'FY1 EPS Growth'] = all_data.loc[:,'1M EPS Revision':'FY1 EPS Growth'].fillna(value = 0)"
   ]
  },
  {
   "cell_type": "code",
   "execution_count": 129,
   "metadata": {
    "collapsed": true
   },
   "outputs": [],
   "source": [
    "#Calculate valuation ratios\n",
    "\n",
    "all_data['PB Ratio'] = all_data['Market Cap']/all_data['Book Value']\n",
    "all_data['Dividend Yield'] = all_data['Total Dividends']/all_data['Market Cap']\n",
    "all_data['Earnings Yield'] = all_data['EPS']/all_data['Price']\n",
    "all_data['FCF Yield'] = all_data['Free Cash Flow']/all_data['Market Cap']\n",
    "all_data['Log Market Cap'] = np.log(all_data['Market Cap'])"
   ]
  },
  {
   "cell_type": "markdown",
   "metadata": {},
   "source": [
    "**Cut returns into two bins**"
   ]
  },
  {
   "cell_type": "code",
   "execution_count": 130,
   "metadata": {
    "collapsed": true
   },
   "outputs": [],
   "source": [
    "all_data['Return Rank'] = all_data['Returns'].groupby('Date').transform(lambda x: pd.qcut(x, bins, labels = False))\n",
    "#all_data['Return Rank'] = all_data.groupby('Date')['Returns'].transform(lambda x: x.rank() <= 50)"
   ]
  },
  {
   "cell_type": "markdown",
   "metadata": {},
   "source": [
    "**Standarising features**"
   ]
  },
  {
   "cell_type": "code",
   "execution_count": 131,
   "metadata": {
    "collapsed": true
   },
   "outputs": [],
   "source": [
    "zscore = lambda x: (x - x.mean())/x.std()\n",
    "\n",
    "zscore_cols = ['-1W Return', '-2W Return', '7D Volatility', '30D Volatility', 'MACD',\n",
    "               'RSI', '1M Turnover %', 'Log Market Cap']\n",
    "\n",
    "zscores = [col+' z-score' for col in zscore_cols]\n",
    "\n",
    "grp_zscore_cols = ['Gross Profitability', 'Return on Equity', 'Gross Margin', '1-Year Sales Growth',\n",
    "                   '5-Year Sales Growth', '1-Year EPS Growth', '5-Year EPS Growth', 'EBIT Interest Coverage',\n",
    "                   'Book Leverage', '1M EPS Revision', 'FY1 PE', 'FY0 EPS Surprise', 'FY1 EPS Growth',\n",
    "                   'PB Ratio', 'Dividend Yield', 'Earnings Yield', 'FCF Yield']\n",
    "\n",
    "grp_zscores = [col+' grp z-score' for col in grp_zscore_cols]\n",
    "\n",
    "all_data[zscores] = all_data.groupby('Date')[zscore_cols].transform(zscore)\n",
    "    \n",
    "#all_data[grp_zscores] = all_data.groupby('Date')[grp_zscore_cols].transform(zscore)\n",
    "    \n",
    "all_data[grp_zscores] = all_data.groupby(['Date', 'HSCI Industry'])[grp_zscore_cols].transform(zscore)\n",
    "\n",
    "#all_data['Returns'] = all_data.groupby('Date')['Returns'].transform(zscore)"
   ]
  },
  {
   "cell_type": "markdown",
   "metadata": {},
   "source": [
    "**Create one-hot arrays for Revere classification and return ranking**"
   ]
  },
  {
   "cell_type": "code",
   "execution_count": 132,
   "metadata": {
    "collapsed": true
   },
   "outputs": [],
   "source": [
    "#new_index = pd.MultiIndex.from_product(all_data.index.levels)\n",
    "#all_data = all_data.reindex(new_index, fill_value=0)\n",
    "## pad the dataframe with zeros so that all stocks have complete history"
   ]
  },
  {
   "cell_type": "code",
   "execution_count": 133,
   "metadata": {
    "collapsed": true
   },
   "outputs": [],
   "source": [
    "all_data = all_data[all_data['Count_na'].notnull()].drop(['Date Num', 'Count', 'Count_na'], axis=1)"
   ]
  },
  {
   "cell_type": "code",
   "execution_count": 134,
   "metadata": {
    "collapsed": true
   },
   "outputs": [],
   "source": [
    "all_data.sort_index(level = [1,0], inplace = True)\n",
    "all_data.fillna(0, inplace = True)"
   ]
  },
  {
   "cell_type": "code",
   "execution_count": 135,
   "metadata": {
    "collapsed": true
   },
   "outputs": [],
   "source": [
    "#CHANGE 36 TO 35 WHEN DOING MULTI-CLASS CLASSIFICATION AS THE 'RETURN RANKS' COLUMN IS ONE-HOTTED\n",
    "def reshape_data(all_data, num_classes):\n",
    "    \n",
    "    if num_classes == 2:\n",
    "        \n",
    "        all_data = pd.get_dummies(all_data,\n",
    "                          prefix={'HSCI Industry': 'Ind'},\n",
    "                          prefix_sep='_',\n",
    "                          columns=['HSCI Industry'])\n",
    "        \n",
    "        x_data_reshaped = all_data.iloc[:, 36:].values.reshape(-1, timestep, 36)\n",
    "        y_data_reshaped = all_data['Return Rank'].values.reshape(-1, timestep, 1)\n",
    "        #returns_reshaped = all_data['Returns'].values.reshape(-1, timestep, 1)\n",
    "        #y_data_reshaped = all_data.iloc[::, -2:].values.reshape(2832, timestep, 2)\n",
    "    else:\n",
    "        \n",
    "        #returns_reshaped = all_data['Returns'].values.reshape(1000, timestep, 1)\n",
    "        \n",
    "        all_data = pd.get_dummies(all_data,\n",
    "                          prefix={'HSCI Industry': 'Ind','Return Rank': 'Ret_Rank'},\n",
    "                          prefix_sep='_',\n",
    "                          columns=['HSCI Industry', 'Return Rank'])\n",
    "        \n",
    "        x_data_reshaped = all_data.iloc[:, 35:-num_classes].values.reshape(-1, timestep, 36)\n",
    "        y_data_reshaped = all_data.iloc[:, -num_classes:].values.reshape(-1, timestep, num_classes)\n",
    "        \n",
    "    return x_data_reshaped, y_data_reshaped#, returns_reshaped"
   ]
  },
  {
   "cell_type": "code",
   "execution_count": 136,
   "metadata": {},
   "outputs": [],
   "source": [
    "x_data_reshaped, y_data_reshaped = reshape_data(all_data, bins)"
   ]
  },
  {
   "cell_type": "code",
   "execution_count": 137,
   "metadata": {
    "collapsed": true
   },
   "outputs": [],
   "source": [
    "#x_data_reshaped = x_data_reshaped[np.sum(returns_reshaped, axis = (1,2))!=0,:,:]\n",
    "#y_data_reshaped = y_data_reshaped[np.sum(returns_reshaped, axis = (1,2))!=0,:,:]"
   ]
  },
  {
   "cell_type": "code",
   "execution_count": 138,
   "metadata": {
    "collapsed": true
   },
   "outputs": [],
   "source": [
    "if ret_seq == False: y_data_reshaped = y_data_reshaped[:,-1,:] #last return of each sequence (for return_sequences = False)"
   ]
  },
  {
   "cell_type": "code",
   "execution_count": 139,
   "metadata": {},
   "outputs": [
    {
     "data": {
      "text/plain": [
       "(10959, 16, 36)"
      ]
     },
     "execution_count": 139,
     "metadata": {},
     "output_type": "execute_result"
    }
   ],
   "source": [
    "x_data_reshaped.shape"
   ]
  },
  {
   "cell_type": "code",
   "execution_count": 140,
   "metadata": {
    "collapsed": true
   },
   "outputs": [],
   "source": [
    "#shuffle = np.random.permutation(x_data_reshaped.shape[0])\n",
    "shuffle = np.arange(x_data_reshaped.shape[0])\n",
    "\n",
    "x_train = x_data_reshaped[shuffle[0:2000],:,:]\n",
    "y_train = y_data_reshaped[shuffle[0:2000],:]\n",
    "\n",
    "x_dev = x_data_reshaped[shuffle[2000:2500],:,:]\n",
    "y_dev = y_data_reshaped[shuffle[2000:2500],:]\n",
    "\n",
    "x_test = x_data_reshaped[shuffle[9500:],:,:]\n",
    "y_test = y_data_reshaped[shuffle[9500:],:]"
   ]
  },
  {
   "cell_type": "code",
   "execution_count": 141,
   "metadata": {
    "collapsed": true
   },
   "outputs": [],
   "source": [
    "def precision(y_true, y_pred):\n",
    "    \"\"\"Precision metric.\n",
    "\n",
    "    Only computes a batch-wise average of precision.\n",
    "\n",
    "    Computes the precision, a metric for multi-label classification of\n",
    "    how many selected items are relevant.\n",
    "    \"\"\"\n",
    "    true_positives = K.sum(K.round(K.clip(y_true * y_pred, 0, 1)))\n",
    "    predicted_positives = K.sum(K.round(K.clip(y_pred, 0, 1)))\n",
    "    precision = true_positives / (predicted_positives + K.epsilon())\n",
    "    return precision\n"
   ]
  },
  {
   "cell_type": "code",
   "execution_count": 142,
   "metadata": {
    "collapsed": true
   },
   "outputs": [],
   "source": [
    "def create_model(dropout_1 = 0, dropout_2 = 0, l2_1 = 0, l2_2 = 0, lr = 0.001, num_classes = 2):\n",
    "\n",
    "    model = Sequential()\n",
    "\n",
    "    model.add(LSTM(80, input_shape = (timestep, 36), return_sequences=True, dropout=dropout_1,\n",
    "                   kernel_regularizer=regularizers.l2(l2_1)))\n",
    "    #kernel_regularizer=regularizers.l2(0.1)\n",
    "\n",
    "\n",
    "    model.add(LSTM(80, dropout=dropout_2,return_sequences=ret_seq, kernel_regularizer=regularizers.l2(l2_2)))\n",
    "    #model.add(Dropout(0.1))\n",
    "    \n",
    "    #model.add(Dense(80, activation='tanh', kernel_regularizer=regularizers.l2(0.3)))\n",
    "\n",
    "    if num_classes == 2:\n",
    "        model.add(Dense(1, activation='sigmoid'))\n",
    "\n",
    "        model.compile(loss='binary_crossentropy', optimizer=keras.optimizers.Adam(lr = lr),\n",
    "                      metrics=['binary_accuracy', precision])\n",
    "    else:\n",
    "        model.add(Dense(num_classes, activation='softmax'))\n",
    "\n",
    "        model.compile(loss='categorical_crossentropy', optimizer=keras.optimizers.Adam(lr = lr),\n",
    "                      metrics=['categorical_accuracy'])\n",
    "    \n",
    "    return model"
   ]
  },
  {
   "cell_type": "code",
   "execution_count": 143,
   "metadata": {
    "collapsed": true
   },
   "outputs": [],
   "source": [
    "model = create_model(0,0,0.1,0, 0.0001, bins)"
   ]
  },
  {
   "cell_type": "code",
   "execution_count": 144,
   "metadata": {},
   "outputs": [
    {
     "name": "stdout",
     "output_type": "stream",
     "text": [
      "Train on 2000 samples, validate on 500 samples\n",
      "Epoch 1/40\n",
      "2s - loss: 7.6594 - categorical_accuracy: 0.2665 - val_loss: 7.4211 - val_categorical_accuracy: 0.2820\n",
      "Epoch 2/40\n",
      "1s - loss: 7.1956 - categorical_accuracy: 0.3165 - val_loss: 6.9826 - val_categorical_accuracy: 0.2840\n",
      "Epoch 3/40\n",
      "1s - loss: 6.7665 - categorical_accuracy: 0.3255 - val_loss: 6.5775 - val_categorical_accuracy: 0.2800\n",
      "Epoch 4/40\n",
      "1s - loss: 6.3690 - categorical_accuracy: 0.3355 - val_loss: 6.2012 - val_categorical_accuracy: 0.2780\n",
      "Epoch 5/40\n",
      "1s - loss: 5.9999 - categorical_accuracy: 0.3375 - val_loss: 5.8511 - val_categorical_accuracy: 0.2820\n",
      "Epoch 6/40\n",
      "1s - loss: 5.6568 - categorical_accuracy: 0.3455 - val_loss: 5.5257 - val_categorical_accuracy: 0.2880\n",
      "Epoch 7/40\n",
      "1s - loss: 5.3374 - categorical_accuracy: 0.3530 - val_loss: 5.2220 - val_categorical_accuracy: 0.2980\n",
      "Epoch 8/40\n",
      "1s - loss: 5.0401 - categorical_accuracy: 0.3495 - val_loss: 4.9393 - val_categorical_accuracy: 0.2940\n",
      "Epoch 9/40\n",
      "1s - loss: 4.7631 - categorical_accuracy: 0.3510 - val_loss: 4.6751 - val_categorical_accuracy: 0.2980\n",
      "Epoch 10/40\n",
      "1s - loss: 4.5052 - categorical_accuracy: 0.3565 - val_loss: 4.4289 - val_categorical_accuracy: 0.2940\n",
      "Epoch 11/40\n",
      "1s - loss: 4.2650 - categorical_accuracy: 0.3580 - val_loss: 4.1998 - val_categorical_accuracy: 0.2920\n",
      "Epoch 12/40\n",
      "1s - loss: 4.0420 - categorical_accuracy: 0.3580 - val_loss: 3.9876 - val_categorical_accuracy: 0.2960\n",
      "Epoch 13/40\n",
      "1s - loss: 3.8338 - categorical_accuracy: 0.3610 - val_loss: 3.7883 - val_categorical_accuracy: 0.2960\n",
      "Epoch 14/40\n",
      "1s - loss: 3.6397 - categorical_accuracy: 0.3645 - val_loss: 3.6042 - val_categorical_accuracy: 0.2940\n",
      "Epoch 15/40\n",
      "1s - loss: 3.4598 - categorical_accuracy: 0.3605 - val_loss: 3.4315 - val_categorical_accuracy: 0.2980\n",
      "Epoch 16/40\n",
      "1s - loss: 3.2924 - categorical_accuracy: 0.3610 - val_loss: 3.2714 - val_categorical_accuracy: 0.3040\n",
      "Epoch 17/40\n",
      "1s - loss: 3.1366 - categorical_accuracy: 0.3660 - val_loss: 3.1251 - val_categorical_accuracy: 0.2980\n",
      "Epoch 18/40\n",
      "1s - loss: 2.9921 - categorical_accuracy: 0.3680 - val_loss: 2.9876 - val_categorical_accuracy: 0.2980\n",
      "Epoch 19/40\n",
      "1s - loss: 2.8582 - categorical_accuracy: 0.3715 - val_loss: 2.8590 - val_categorical_accuracy: 0.3000\n",
      "Epoch 20/40\n",
      "1s - loss: 2.7344 - categorical_accuracy: 0.3645 - val_loss: 2.7412 - val_categorical_accuracy: 0.2980\n",
      "Epoch 21/40\n",
      "1s - loss: 2.6181 - categorical_accuracy: 0.3690 - val_loss: 2.6315 - val_categorical_accuracy: 0.3020\n",
      "Epoch 22/40\n",
      "1s - loss: 2.5120 - categorical_accuracy: 0.3710 - val_loss: 2.5306 - val_categorical_accuracy: 0.2980\n",
      "Epoch 23/40\n",
      "1s - loss: 2.4127 - categorical_accuracy: 0.3735 - val_loss: 2.4376 - val_categorical_accuracy: 0.3040\n",
      "Epoch 24/40\n",
      "1s - loss: 2.3219 - categorical_accuracy: 0.3750 - val_loss: 2.3521 - val_categorical_accuracy: 0.3040\n",
      "Epoch 25/40\n",
      "1s - loss: 2.2369 - categorical_accuracy: 0.3775 - val_loss: 2.2716 - val_categorical_accuracy: 0.2940\n",
      "Epoch 26/40\n",
      "1s - loss: 2.1591 - categorical_accuracy: 0.3745 - val_loss: 2.1988 - val_categorical_accuracy: 0.3020\n",
      "Epoch 27/40\n",
      "1s - loss: 2.0874 - categorical_accuracy: 0.3745 - val_loss: 2.1316 - val_categorical_accuracy: 0.3020\n",
      "Epoch 28/40\n"
     ]
    },
    {
     "ename": "KeyboardInterrupt",
     "evalue": "",
     "output_type": "error",
     "traceback": [
      "\u001b[0;31m---------------------------------------------------------------------------\u001b[0m",
      "\u001b[0;31mKeyboardInterrupt\u001b[0m                         Traceback (most recent call last)",
      "\u001b[0;32m<ipython-input-144-198e47fb13fa>\u001b[0m in \u001b[0;36m<module>\u001b[0;34m()\u001b[0m\n\u001b[0;32m----> 1\u001b[0;31m \u001b[0mresult\u001b[0m \u001b[0;34m=\u001b[0m \u001b[0mmodel\u001b[0m\u001b[0;34m.\u001b[0m\u001b[0mfit\u001b[0m\u001b[0;34m(\u001b[0m\u001b[0mx_train\u001b[0m\u001b[0;34m,\u001b[0m \u001b[0my_train\u001b[0m\u001b[0;34m,\u001b[0m \u001b[0mepochs\u001b[0m\u001b[0;34m=\u001b[0m\u001b[0;36m40\u001b[0m\u001b[0;34m,\u001b[0m \u001b[0mbatch_size\u001b[0m\u001b[0;34m=\u001b[0m\u001b[0;36m64\u001b[0m\u001b[0;34m,\u001b[0m \u001b[0mverbose\u001b[0m\u001b[0;34m=\u001b[0m\u001b[0;36m2\u001b[0m\u001b[0;34m,\u001b[0m \u001b[0mvalidation_data\u001b[0m \u001b[0;34m=\u001b[0m \u001b[0;34m(\u001b[0m\u001b[0mx_dev\u001b[0m\u001b[0;34m,\u001b[0m \u001b[0my_dev\u001b[0m\u001b[0;34m)\u001b[0m\u001b[0;34m)\u001b[0m\u001b[0;34m\u001b[0m\u001b[0m\n\u001b[0m",
      "\u001b[0;32m~/anaconda3/lib/python3.6/site-packages/keras/models.py\u001b[0m in \u001b[0;36mfit\u001b[0;34m(self, x, y, batch_size, epochs, verbose, callbacks, validation_split, validation_data, shuffle, class_weight, sample_weight, initial_epoch, **kwargs)\u001b[0m\n\u001b[1;32m    865\u001b[0m                               \u001b[0mclass_weight\u001b[0m\u001b[0;34m=\u001b[0m\u001b[0mclass_weight\u001b[0m\u001b[0;34m,\u001b[0m\u001b[0;34m\u001b[0m\u001b[0m\n\u001b[1;32m    866\u001b[0m                               \u001b[0msample_weight\u001b[0m\u001b[0;34m=\u001b[0m\u001b[0msample_weight\u001b[0m\u001b[0;34m,\u001b[0m\u001b[0;34m\u001b[0m\u001b[0m\n\u001b[0;32m--> 867\u001b[0;31m                               initial_epoch=initial_epoch)\n\u001b[0m\u001b[1;32m    868\u001b[0m \u001b[0;34m\u001b[0m\u001b[0m\n\u001b[1;32m    869\u001b[0m     def evaluate(self, x, y, batch_size=32, verbose=1,\n",
      "\u001b[0;32m~/anaconda3/lib/python3.6/site-packages/keras/engine/training.py\u001b[0m in \u001b[0;36mfit\u001b[0;34m(self, x, y, batch_size, epochs, verbose, callbacks, validation_split, validation_data, shuffle, class_weight, sample_weight, initial_epoch, steps_per_epoch, validation_steps, **kwargs)\u001b[0m\n\u001b[1;32m   1596\u001b[0m                               \u001b[0minitial_epoch\u001b[0m\u001b[0;34m=\u001b[0m\u001b[0minitial_epoch\u001b[0m\u001b[0;34m,\u001b[0m\u001b[0;34m\u001b[0m\u001b[0m\n\u001b[1;32m   1597\u001b[0m                               \u001b[0msteps_per_epoch\u001b[0m\u001b[0;34m=\u001b[0m\u001b[0msteps_per_epoch\u001b[0m\u001b[0;34m,\u001b[0m\u001b[0;34m\u001b[0m\u001b[0m\n\u001b[0;32m-> 1598\u001b[0;31m                               validation_steps=validation_steps)\n\u001b[0m\u001b[1;32m   1599\u001b[0m \u001b[0;34m\u001b[0m\u001b[0m\n\u001b[1;32m   1600\u001b[0m     def evaluate(self, x, y,\n",
      "\u001b[0;32m~/anaconda3/lib/python3.6/site-packages/keras/engine/training.py\u001b[0m in \u001b[0;36m_fit_loop\u001b[0;34m(self, f, ins, out_labels, batch_size, epochs, verbose, callbacks, val_f, val_ins, shuffle, callback_metrics, initial_epoch, steps_per_epoch, validation_steps)\u001b[0m\n\u001b[1;32m   1181\u001b[0m                     \u001b[0mbatch_logs\u001b[0m\u001b[0;34m[\u001b[0m\u001b[0;34m'size'\u001b[0m\u001b[0;34m]\u001b[0m \u001b[0;34m=\u001b[0m \u001b[0mlen\u001b[0m\u001b[0;34m(\u001b[0m\u001b[0mbatch_ids\u001b[0m\u001b[0;34m)\u001b[0m\u001b[0;34m\u001b[0m\u001b[0m\n\u001b[1;32m   1182\u001b[0m                     \u001b[0mcallbacks\u001b[0m\u001b[0;34m.\u001b[0m\u001b[0mon_batch_begin\u001b[0m\u001b[0;34m(\u001b[0m\u001b[0mbatch_index\u001b[0m\u001b[0;34m,\u001b[0m \u001b[0mbatch_logs\u001b[0m\u001b[0;34m)\u001b[0m\u001b[0;34m\u001b[0m\u001b[0m\n\u001b[0;32m-> 1183\u001b[0;31m                     \u001b[0mouts\u001b[0m \u001b[0;34m=\u001b[0m \u001b[0mf\u001b[0m\u001b[0;34m(\u001b[0m\u001b[0mins_batch\u001b[0m\u001b[0;34m)\u001b[0m\u001b[0;34m\u001b[0m\u001b[0m\n\u001b[0m\u001b[1;32m   1184\u001b[0m                     \u001b[0;32mif\u001b[0m \u001b[0;32mnot\u001b[0m \u001b[0misinstance\u001b[0m\u001b[0;34m(\u001b[0m\u001b[0mouts\u001b[0m\u001b[0;34m,\u001b[0m \u001b[0mlist\u001b[0m\u001b[0;34m)\u001b[0m\u001b[0;34m:\u001b[0m\u001b[0;34m\u001b[0m\u001b[0m\n\u001b[1;32m   1185\u001b[0m                         \u001b[0mouts\u001b[0m \u001b[0;34m=\u001b[0m \u001b[0;34m[\u001b[0m\u001b[0mouts\u001b[0m\u001b[0;34m]\u001b[0m\u001b[0;34m\u001b[0m\u001b[0m\n",
      "\u001b[0;32m~/anaconda3/lib/python3.6/site-packages/keras/backend/tensorflow_backend.py\u001b[0m in \u001b[0;36m__call__\u001b[0;34m(self, inputs)\u001b[0m\n\u001b[1;32m   2271\u001b[0m         updated = session.run(self.outputs + [self.updates_op],\n\u001b[1;32m   2272\u001b[0m                               \u001b[0mfeed_dict\u001b[0m\u001b[0;34m=\u001b[0m\u001b[0mfeed_dict\u001b[0m\u001b[0;34m,\u001b[0m\u001b[0;34m\u001b[0m\u001b[0m\n\u001b[0;32m-> 2273\u001b[0;31m                               **self.session_kwargs)\n\u001b[0m\u001b[1;32m   2274\u001b[0m         \u001b[0;32mreturn\u001b[0m \u001b[0mupdated\u001b[0m\u001b[0;34m[\u001b[0m\u001b[0;34m:\u001b[0m\u001b[0mlen\u001b[0m\u001b[0;34m(\u001b[0m\u001b[0mself\u001b[0m\u001b[0;34m.\u001b[0m\u001b[0moutputs\u001b[0m\u001b[0;34m)\u001b[0m\u001b[0;34m]\u001b[0m\u001b[0;34m\u001b[0m\u001b[0m\n\u001b[1;32m   2275\u001b[0m \u001b[0;34m\u001b[0m\u001b[0m\n",
      "\u001b[0;32m~/anaconda3/lib/python3.6/site-packages/tensorflow/python/client/session.py\u001b[0m in \u001b[0;36mrun\u001b[0;34m(self, fetches, feed_dict, options, run_metadata)\u001b[0m\n\u001b[1;32m    893\u001b[0m     \u001b[0;32mtry\u001b[0m\u001b[0;34m:\u001b[0m\u001b[0;34m\u001b[0m\u001b[0m\n\u001b[1;32m    894\u001b[0m       result = self._run(None, fetches, feed_dict, options_ptr,\n\u001b[0;32m--> 895\u001b[0;31m                          run_metadata_ptr)\n\u001b[0m\u001b[1;32m    896\u001b[0m       \u001b[0;32mif\u001b[0m \u001b[0mrun_metadata\u001b[0m\u001b[0;34m:\u001b[0m\u001b[0;34m\u001b[0m\u001b[0m\n\u001b[1;32m    897\u001b[0m         \u001b[0mproto_data\u001b[0m \u001b[0;34m=\u001b[0m \u001b[0mtf_session\u001b[0m\u001b[0;34m.\u001b[0m\u001b[0mTF_GetBuffer\u001b[0m\u001b[0;34m(\u001b[0m\u001b[0mrun_metadata_ptr\u001b[0m\u001b[0;34m)\u001b[0m\u001b[0;34m\u001b[0m\u001b[0m\n",
      "\u001b[0;32m~/anaconda3/lib/python3.6/site-packages/tensorflow/python/client/session.py\u001b[0m in \u001b[0;36m_run\u001b[0;34m(self, handle, fetches, feed_dict, options, run_metadata)\u001b[0m\n\u001b[1;32m   1122\u001b[0m     \u001b[0;32mif\u001b[0m \u001b[0mfinal_fetches\u001b[0m \u001b[0;32mor\u001b[0m \u001b[0mfinal_targets\u001b[0m \u001b[0;32mor\u001b[0m \u001b[0;34m(\u001b[0m\u001b[0mhandle\u001b[0m \u001b[0;32mand\u001b[0m \u001b[0mfeed_dict_tensor\u001b[0m\u001b[0;34m)\u001b[0m\u001b[0;34m:\u001b[0m\u001b[0;34m\u001b[0m\u001b[0m\n\u001b[1;32m   1123\u001b[0m       results = self._do_run(handle, final_targets, final_fetches,\n\u001b[0;32m-> 1124\u001b[0;31m                              feed_dict_tensor, options, run_metadata)\n\u001b[0m\u001b[1;32m   1125\u001b[0m     \u001b[0;32melse\u001b[0m\u001b[0;34m:\u001b[0m\u001b[0;34m\u001b[0m\u001b[0m\n\u001b[1;32m   1126\u001b[0m       \u001b[0mresults\u001b[0m \u001b[0;34m=\u001b[0m \u001b[0;34m[\u001b[0m\u001b[0;34m]\u001b[0m\u001b[0;34m\u001b[0m\u001b[0m\n",
      "\u001b[0;32m~/anaconda3/lib/python3.6/site-packages/tensorflow/python/client/session.py\u001b[0m in \u001b[0;36m_do_run\u001b[0;34m(self, handle, target_list, fetch_list, feed_dict, options, run_metadata)\u001b[0m\n\u001b[1;32m   1319\u001b[0m     \u001b[0;32mif\u001b[0m \u001b[0mhandle\u001b[0m \u001b[0;32mis\u001b[0m \u001b[0;32mNone\u001b[0m\u001b[0;34m:\u001b[0m\u001b[0;34m\u001b[0m\u001b[0m\n\u001b[1;32m   1320\u001b[0m       return self._do_call(_run_fn, self._session, feeds, fetches, targets,\n\u001b[0;32m-> 1321\u001b[0;31m                            options, run_metadata)\n\u001b[0m\u001b[1;32m   1322\u001b[0m     \u001b[0;32melse\u001b[0m\u001b[0;34m:\u001b[0m\u001b[0;34m\u001b[0m\u001b[0m\n\u001b[1;32m   1323\u001b[0m       \u001b[0;32mreturn\u001b[0m \u001b[0mself\u001b[0m\u001b[0;34m.\u001b[0m\u001b[0m_do_call\u001b[0m\u001b[0;34m(\u001b[0m\u001b[0m_prun_fn\u001b[0m\u001b[0;34m,\u001b[0m \u001b[0mself\u001b[0m\u001b[0;34m.\u001b[0m\u001b[0m_session\u001b[0m\u001b[0;34m,\u001b[0m \u001b[0mhandle\u001b[0m\u001b[0;34m,\u001b[0m \u001b[0mfeeds\u001b[0m\u001b[0;34m,\u001b[0m \u001b[0mfetches\u001b[0m\u001b[0;34m)\u001b[0m\u001b[0;34m\u001b[0m\u001b[0m\n",
      "\u001b[0;32m~/anaconda3/lib/python3.6/site-packages/tensorflow/python/client/session.py\u001b[0m in \u001b[0;36m_do_call\u001b[0;34m(self, fn, *args)\u001b[0m\n\u001b[1;32m   1325\u001b[0m   \u001b[0;32mdef\u001b[0m \u001b[0m_do_call\u001b[0m\u001b[0;34m(\u001b[0m\u001b[0mself\u001b[0m\u001b[0;34m,\u001b[0m \u001b[0mfn\u001b[0m\u001b[0;34m,\u001b[0m \u001b[0;34m*\u001b[0m\u001b[0margs\u001b[0m\u001b[0;34m)\u001b[0m\u001b[0;34m:\u001b[0m\u001b[0;34m\u001b[0m\u001b[0m\n\u001b[1;32m   1326\u001b[0m     \u001b[0;32mtry\u001b[0m\u001b[0;34m:\u001b[0m\u001b[0;34m\u001b[0m\u001b[0m\n\u001b[0;32m-> 1327\u001b[0;31m       \u001b[0;32mreturn\u001b[0m \u001b[0mfn\u001b[0m\u001b[0;34m(\u001b[0m\u001b[0;34m*\u001b[0m\u001b[0margs\u001b[0m\u001b[0;34m)\u001b[0m\u001b[0;34m\u001b[0m\u001b[0m\n\u001b[0m\u001b[1;32m   1328\u001b[0m     \u001b[0;32mexcept\u001b[0m \u001b[0merrors\u001b[0m\u001b[0;34m.\u001b[0m\u001b[0mOpError\u001b[0m \u001b[0;32mas\u001b[0m \u001b[0me\u001b[0m\u001b[0;34m:\u001b[0m\u001b[0;34m\u001b[0m\u001b[0m\n\u001b[1;32m   1329\u001b[0m       \u001b[0mmessage\u001b[0m \u001b[0;34m=\u001b[0m \u001b[0mcompat\u001b[0m\u001b[0;34m.\u001b[0m\u001b[0mas_text\u001b[0m\u001b[0;34m(\u001b[0m\u001b[0me\u001b[0m\u001b[0;34m.\u001b[0m\u001b[0mmessage\u001b[0m\u001b[0;34m)\u001b[0m\u001b[0;34m\u001b[0m\u001b[0m\n",
      "\u001b[0;32m~/anaconda3/lib/python3.6/site-packages/tensorflow/python/client/session.py\u001b[0m in \u001b[0;36m_run_fn\u001b[0;34m(session, feed_dict, fetch_list, target_list, options, run_metadata)\u001b[0m\n\u001b[1;32m   1304\u001b[0m           return tf_session.TF_Run(session, options,\n\u001b[1;32m   1305\u001b[0m                                    \u001b[0mfeed_dict\u001b[0m\u001b[0;34m,\u001b[0m \u001b[0mfetch_list\u001b[0m\u001b[0;34m,\u001b[0m \u001b[0mtarget_list\u001b[0m\u001b[0;34m,\u001b[0m\u001b[0;34m\u001b[0m\u001b[0m\n\u001b[0;32m-> 1306\u001b[0;31m                                    status, run_metadata)\n\u001b[0m\u001b[1;32m   1307\u001b[0m \u001b[0;34m\u001b[0m\u001b[0m\n\u001b[1;32m   1308\u001b[0m     \u001b[0;32mdef\u001b[0m \u001b[0m_prun_fn\u001b[0m\u001b[0;34m(\u001b[0m\u001b[0msession\u001b[0m\u001b[0;34m,\u001b[0m \u001b[0mhandle\u001b[0m\u001b[0;34m,\u001b[0m \u001b[0mfeed_dict\u001b[0m\u001b[0;34m,\u001b[0m \u001b[0mfetch_list\u001b[0m\u001b[0;34m)\u001b[0m\u001b[0;34m:\u001b[0m\u001b[0;34m\u001b[0m\u001b[0m\n",
      "\u001b[0;31mKeyboardInterrupt\u001b[0m: "
     ]
    }
   ],
   "source": [
    "result = model.fit(x_train, y_train, epochs=40, batch_size=64, verbose=2, validation_data = (x_dev, y_dev))"
   ]
  },
  {
   "cell_type": "code",
   "execution_count": 62,
   "metadata": {},
   "outputs": [
    {
     "data": {
      "text/plain": [
       "96"
      ]
     },
     "execution_count": 62,
     "metadata": {},
     "output_type": "execute_result"
    }
   ],
   "source": [
    "np.sum(y_dev == 0)"
   ]
  },
  {
   "cell_type": "code",
   "execution_count": 27,
   "metadata": {},
   "outputs": [
    {
     "name": "stdout",
     "output_type": "stream",
     "text": [
      "             precision    recall  f1-score   support\n",
      "\n",
      "     Class0       1.00      1.00      1.00       600\n",
      "\n",
      "avg / total       1.00      1.00      1.00       600\n",
      "\n"
     ]
    },
    {
     "name": "stderr",
     "output_type": "stream",
     "text": [
      "/home/owen_aumanhui/anaconda3/lib/python3.6/site-packages/sklearn/metrics/classification.py:1428: UserWarning: labels size, 1, does not match size of target_names, 2\n",
      "  .format(len(labels), len(target_names))\n"
     ]
    }
   ],
   "source": [
    "if ret_seq:\n",
    "    target_names = ['Class'+str(n) for n in range(bins)]\n",
    "    y_pred = model.predict(x_test)\n",
    "    print(metrics.classification_report(y_test.argmax(2).flatten(), y_pred.argmax(2).flatten(), target_names=target_names))\n",
    "\n",
    "else:\n",
    "    target_names = ['Class'+str(n) for n in range(bins)]\n",
    "    y_pred = model.predict(x_train)\n",
    "    print(metrics.classification_report(y_train.argmax(1), y_pred.argmax(1), target_names=target_names))"
   ]
  },
  {
   "cell_type": "code",
   "execution_count": 86,
   "metadata": {},
   "outputs": [
    {
     "data": {
      "image/png": "[encoded data removed]",
      "text/plain": [
       "<matplotlib.figure.Figure at 0x7ff97d942080>"
      ]
     },
     "metadata": {},
     "output_type": "display_data"
    }
   ],
   "source": [
    "plt.figure(figsize = (15,5))\n",
    "sns.set_style(\"white\")\n",
    "\n",
    "plt.subplot(121)\n",
    "plt.plot(result.history['loss'][10:])\n",
    "plt.plot(result.history['val_loss'][10:])\n",
    "plt.legend(['Loss', 'Val Loss'])\n",
    "\n",
    "plt.subplot(122)\n",
    "plt.plot(result.history['binary_accuracy'])\n",
    "plt.plot(result.history['val_binary_accuracy'])\n",
    "plt.legend(['Accuracy', 'Val Accuracy']);\n",
    "\n",
    "#plt.subplot(223)\n",
    "#plt.plot(result.history['precision'])\n",
    "#plt.plot(result.history['val_precision'])\n",
    "#plt.legend(['Precision', 'Val Precision']);"
   ]
  },
  {
   "cell_type": "code",
   "execution_count": 34,
   "metadata": {},
   "outputs": [
    {
     "data": {
      "text/plain": [
       "array([[284,   0],\n",
       "       [  0, 316]])"
      ]
     },
     "execution_count": 34,
     "metadata": {},
     "output_type": "execute_result"
    }
   ],
   "source": [
    "y_pred = model.predict(x_train)\n",
    "metrics.confusion_matrix(y_train, np.round(y_pred))"
   ]
  },
  {
   "cell_type": "code",
   "execution_count": 67,
   "metadata": {},
   "outputs": [
    {
     "name": "stdout",
     "output_type": "stream",
     "text": [
      "Running iteration 0\n",
      "Running iteration 1\n",
      "Running iteration 2\n",
      "Running iteration 3\n",
      "Running iteration 4\n",
      "Running iteration 5\n",
      "Running iteration 6\n",
      "Running iteration 7\n",
      "Running iteration 8\n",
      "Running iteration 9\n",
      "Running iteration 10\n",
      "Running iteration 11\n",
      "Running iteration 12\n",
      "Running iteration 13\n",
      "Running iteration 14\n",
      "Running iteration 15\n",
      "Running iteration 16\n",
      "Running iteration 17\n",
      "Running iteration 18\n",
      "Running iteration 19\n",
      "Running iteration 20\n",
      "Running iteration 21\n",
      "Running iteration 22\n",
      "Running iteration 23\n",
      "Running iteration 24\n",
      "Running iteration 25\n",
      "Running iteration 26\n",
      "Running iteration 27\n",
      "Running iteration 28\n",
      "Running iteration 29\n",
      "Running iteration 30\n",
      "Running iteration 31\n",
      "Running iteration 32\n",
      "Running iteration 33\n",
      "Running iteration 34\n",
      "Running iteration 35\n",
      "Running iteration 36\n",
      "Running iteration 37\n",
      "Running iteration 38\n",
      "Running iteration 39\n"
     ]
    }
   ],
   "source": [
    "tune_results = pd.DataFrame(np.zeros((40, 9)),\n",
    "                            columns = ['dropout_1', 'dropout_2', 'l2_1', \n",
    "                                       'l2_2', 'loss', 'accuracy',\n",
    "                                      'val_loss', 'val_accuracy', 'lr'])\n",
    "\n",
    "for i in range(40):\n",
    "    \n",
    "    #if i % 5 == 0: print(\"Running iteration {}-{}\".format(i, i+5))\n",
    "    print(\"Running iteration {}\".format(i))\n",
    "          \n",
    "    dropout_1 = np.random.uniform(0, 1)\n",
    "    dropout_2 = np.random.uniform(0, 1)\n",
    "    lr = np.exp(np.random.uniform(-6, 0))\n",
    "    l2_1 = np.exp(np.random.uniform(-4, 0))\n",
    "    l2_2 = np.exp(np.random.uniform(-4, 0))\n",
    "    \n",
    "    \n",
    "    model = create_model(dropout_1, dropout_2, l2_1, l2_2, lr, bins)\n",
    "    result = model.fit(x_train, y_train, epochs=80, batch_size=128, verbose=0, validation_data = (x_dev, y_dev))\n",
    "    \n",
    "    tune_results.iloc[i] = [dropout_1, dropout_2, l2_1, l2_2,\n",
    "                            result.history['loss'][-1], result.history['binary_accuracy'][-1],\n",
    "                            result.history['val_loss'][-1], result.history['val_binary_accuracy'][-1], lr]\n",
    "                           #result.history['precision'][-1], result.history['val_precision'][-1]]\n",
    "    "
   ]
  },
  {
   "cell_type": "code",
   "execution_count": 68,
   "metadata": {},
   "outputs": [
    {
     "data": {
      "text/html": [
       "<div>\n",
       "<style>\n",
       "    .dataframe thead tr:only-child th {\n",
       "        text-align: right;\n",
       "    }\n",
       "\n",
       "    .dataframe thead th {\n",
       "        text-align: left;\n",
       "    }\n",
       "\n",
       "    .dataframe tbody tr th {\n",
       "        vertical-align: top;\n",
       "    }\n",
       "</style>\n",
       "<table border=\"1\" class=\"dataframe\">\n",
       "  <thead>\n",
       "    <tr style=\"text-align: right;\">\n",
       "      <th></th>\n",
       "      <th>dropout_1</th>\n",
       "      <th>dropout_2</th>\n",
       "      <th>l2_1</th>\n",
       "      <th>l2_2</th>\n",
       "      <th>loss</th>\n",
       "      <th>accuracy</th>\n",
       "      <th>val_loss</th>\n",
       "      <th>val_accuracy</th>\n",
       "      <th>lr</th>\n",
       "    </tr>\n",
       "  </thead>\n",
       "  <tbody>\n",
       "    <tr>\n",
       "      <th>0</th>\n",
       "      <td>0.931612</td>\n",
       "      <td>0.967210</td>\n",
       "      <td>0.067904</td>\n",
       "      <td>0.869231</td>\n",
       "      <td>6.923992e-01</td>\n",
       "      <td>0.526667</td>\n",
       "      <td>6.930782e-01</td>\n",
       "      <td>0.520</td>\n",
       "      <td>0.007475</td>\n",
       "    </tr>\n",
       "    <tr>\n",
       "      <th>1</th>\n",
       "      <td>0.205958</td>\n",
       "      <td>0.363644</td>\n",
       "      <td>0.029457</td>\n",
       "      <td>0.816038</td>\n",
       "      <td>6.920340e-01</td>\n",
       "      <td>0.526667</td>\n",
       "      <td>6.927779e-01</td>\n",
       "      <td>0.520</td>\n",
       "      <td>0.047772</td>\n",
       "    </tr>\n",
       "    <tr>\n",
       "      <th>2</th>\n",
       "      <td>0.646210</td>\n",
       "      <td>0.790830</td>\n",
       "      <td>0.792973</td>\n",
       "      <td>0.035568</td>\n",
       "      <td>6.921743e-01</td>\n",
       "      <td>0.526667</td>\n",
       "      <td>6.925189e-01</td>\n",
       "      <td>0.520</td>\n",
       "      <td>0.027272</td>\n",
       "    </tr>\n",
       "    <tr>\n",
       "      <th>3</th>\n",
       "      <td>0.592776</td>\n",
       "      <td>0.856450</td>\n",
       "      <td>0.152186</td>\n",
       "      <td>0.030768</td>\n",
       "      <td>9.026136e+05</td>\n",
       "      <td>0.505000</td>\n",
       "      <td>9.078088e+05</td>\n",
       "      <td>0.575</td>\n",
       "      <td>0.896186</td>\n",
       "    </tr>\n",
       "    <tr>\n",
       "      <th>4</th>\n",
       "      <td>0.662456</td>\n",
       "      <td>0.343386</td>\n",
       "      <td>0.027930</td>\n",
       "      <td>0.077732</td>\n",
       "      <td>6.917593e-01</td>\n",
       "      <td>0.526667</td>\n",
       "      <td>6.923962e-01</td>\n",
       "      <td>0.520</td>\n",
       "      <td>0.007941</td>\n",
       "    </tr>\n",
       "    <tr>\n",
       "      <th>5</th>\n",
       "      <td>0.935803</td>\n",
       "      <td>0.367336</td>\n",
       "      <td>0.041379</td>\n",
       "      <td>0.041885</td>\n",
       "      <td>6.920245e-01</td>\n",
       "      <td>0.526667</td>\n",
       "      <td>6.926640e-01</td>\n",
       "      <td>0.520</td>\n",
       "      <td>0.010829</td>\n",
       "    </tr>\n",
       "    <tr>\n",
       "      <th>6</th>\n",
       "      <td>0.123315</td>\n",
       "      <td>0.264835</td>\n",
       "      <td>0.039293</td>\n",
       "      <td>0.081507</td>\n",
       "      <td>6.918415e-01</td>\n",
       "      <td>0.526667</td>\n",
       "      <td>6.924130e-01</td>\n",
       "      <td>0.520</td>\n",
       "      <td>0.014364</td>\n",
       "    </tr>\n",
       "    <tr>\n",
       "      <th>7</th>\n",
       "      <td>0.195417</td>\n",
       "      <td>0.551929</td>\n",
       "      <td>0.018667</td>\n",
       "      <td>0.317075</td>\n",
       "      <td>6.936207e-01</td>\n",
       "      <td>0.526667</td>\n",
       "      <td>6.931338e-01</td>\n",
       "      <td>0.520</td>\n",
       "      <td>0.022893</td>\n",
       "    </tr>\n",
       "    <tr>\n",
       "      <th>8</th>\n",
       "      <td>0.206481</td>\n",
       "      <td>0.511752</td>\n",
       "      <td>0.073458</td>\n",
       "      <td>0.225111</td>\n",
       "      <td>6.920207e-01</td>\n",
       "      <td>0.526667</td>\n",
       "      <td>6.926341e-01</td>\n",
       "      <td>0.520</td>\n",
       "      <td>0.005911</td>\n",
       "    </tr>\n",
       "    <tr>\n",
       "      <th>9</th>\n",
       "      <td>0.844901</td>\n",
       "      <td>0.745115</td>\n",
       "      <td>0.380857</td>\n",
       "      <td>0.139344</td>\n",
       "      <td>6.921481e-01</td>\n",
       "      <td>0.526667</td>\n",
       "      <td>6.928127e-01</td>\n",
       "      <td>0.520</td>\n",
       "      <td>0.004063</td>\n",
       "    </tr>\n",
       "    <tr>\n",
       "      <th>10</th>\n",
       "      <td>0.372446</td>\n",
       "      <td>0.010679</td>\n",
       "      <td>0.098455</td>\n",
       "      <td>0.978597</td>\n",
       "      <td>6.919843e-01</td>\n",
       "      <td>0.526667</td>\n",
       "      <td>6.924848e-01</td>\n",
       "      <td>0.520</td>\n",
       "      <td>0.010611</td>\n",
       "    </tr>\n",
       "    <tr>\n",
       "      <th>11</th>\n",
       "      <td>0.291921</td>\n",
       "      <td>0.216879</td>\n",
       "      <td>0.711894</td>\n",
       "      <td>0.059474</td>\n",
       "      <td>6.918389e-01</td>\n",
       "      <td>0.526667</td>\n",
       "      <td>6.924426e-01</td>\n",
       "      <td>0.520</td>\n",
       "      <td>0.008838</td>\n",
       "    </tr>\n",
       "    <tr>\n",
       "      <th>12</th>\n",
       "      <td>0.635092</td>\n",
       "      <td>0.919634</td>\n",
       "      <td>0.132781</td>\n",
       "      <td>0.041605</td>\n",
       "      <td>6.992341e-01</td>\n",
       "      <td>0.526667</td>\n",
       "      <td>6.979869e-01</td>\n",
       "      <td>0.520</td>\n",
       "      <td>0.002728</td>\n",
       "    </tr>\n",
       "    <tr>\n",
       "      <th>13</th>\n",
       "      <td>0.721348</td>\n",
       "      <td>0.341768</td>\n",
       "      <td>0.069978</td>\n",
       "      <td>0.023876</td>\n",
       "      <td>6.917981e-01</td>\n",
       "      <td>0.526667</td>\n",
       "      <td>6.924671e-01</td>\n",
       "      <td>0.520</td>\n",
       "      <td>0.016257</td>\n",
       "    </tr>\n",
       "    <tr>\n",
       "      <th>14</th>\n",
       "      <td>0.066222</td>\n",
       "      <td>0.664344</td>\n",
       "      <td>0.436097</td>\n",
       "      <td>0.047547</td>\n",
       "      <td>2.635182e+06</td>\n",
       "      <td>0.495000</td>\n",
       "      <td>2.642779e+06</td>\n",
       "      <td>0.560</td>\n",
       "      <td>0.845615</td>\n",
       "    </tr>\n",
       "    <tr>\n",
       "      <th>15</th>\n",
       "      <td>0.797668</td>\n",
       "      <td>0.764290</td>\n",
       "      <td>0.031733</td>\n",
       "      <td>0.037493</td>\n",
       "      <td>6.924468e-01</td>\n",
       "      <td>0.526667</td>\n",
       "      <td>6.934064e-01</td>\n",
       "      <td>0.520</td>\n",
       "      <td>0.010481</td>\n",
       "    </tr>\n",
       "    <tr>\n",
       "      <th>16</th>\n",
       "      <td>0.072494</td>\n",
       "      <td>0.795194</td>\n",
       "      <td>0.025635</td>\n",
       "      <td>0.026940</td>\n",
       "      <td>6.924200e-01</td>\n",
       "      <td>0.526667</td>\n",
       "      <td>6.927170e-01</td>\n",
       "      <td>0.520</td>\n",
       "      <td>0.023679</td>\n",
       "    </tr>\n",
       "    <tr>\n",
       "      <th>17</th>\n",
       "      <td>0.407912</td>\n",
       "      <td>0.084556</td>\n",
       "      <td>0.187605</td>\n",
       "      <td>0.214041</td>\n",
       "      <td>6.959317e-01</td>\n",
       "      <td>0.480000</td>\n",
       "      <td>6.928929e-01</td>\n",
       "      <td>0.520</td>\n",
       "      <td>0.075369</td>\n",
       "    </tr>\n",
       "    <tr>\n",
       "      <th>18</th>\n",
       "      <td>0.882250</td>\n",
       "      <td>0.462387</td>\n",
       "      <td>0.019769</td>\n",
       "      <td>0.412927</td>\n",
       "      <td>6.918587e-01</td>\n",
       "      <td>0.526667</td>\n",
       "      <td>6.924445e-01</td>\n",
       "      <td>0.520</td>\n",
       "      <td>0.011255</td>\n",
       "    </tr>\n",
       "    <tr>\n",
       "      <th>19</th>\n",
       "      <td>0.168741</td>\n",
       "      <td>0.912359</td>\n",
       "      <td>0.162538</td>\n",
       "      <td>0.222422</td>\n",
       "      <td>6.920444e-01</td>\n",
       "      <td>0.526667</td>\n",
       "      <td>6.926538e-01</td>\n",
       "      <td>0.520</td>\n",
       "      <td>0.005304</td>\n",
       "    </tr>\n",
       "    <tr>\n",
       "      <th>20</th>\n",
       "      <td>0.456060</td>\n",
       "      <td>0.163200</td>\n",
       "      <td>0.379648</td>\n",
       "      <td>0.340608</td>\n",
       "      <td>4.717589e+04</td>\n",
       "      <td>0.540000</td>\n",
       "      <td>4.698130e+04</td>\n",
       "      <td>0.480</td>\n",
       "      <td>0.556856</td>\n",
       "    </tr>\n",
       "    <tr>\n",
       "      <th>21</th>\n",
       "      <td>0.580458</td>\n",
       "      <td>0.847218</td>\n",
       "      <td>0.032019</td>\n",
       "      <td>0.110935</td>\n",
       "      <td>6.927818e-01</td>\n",
       "      <td>0.526667</td>\n",
       "      <td>6.935133e-01</td>\n",
       "      <td>0.520</td>\n",
       "      <td>0.028883</td>\n",
       "    </tr>\n",
       "    <tr>\n",
       "      <th>22</th>\n",
       "      <td>0.153323</td>\n",
       "      <td>0.751813</td>\n",
       "      <td>0.221256</td>\n",
       "      <td>0.037730</td>\n",
       "      <td>6.801953e-01</td>\n",
       "      <td>0.653333</td>\n",
       "      <td>7.942425e-01</td>\n",
       "      <td>0.525</td>\n",
       "      <td>0.003107</td>\n",
       "    </tr>\n",
       "    <tr>\n",
       "      <th>23</th>\n",
       "      <td>0.485901</td>\n",
       "      <td>0.878637</td>\n",
       "      <td>0.023394</td>\n",
       "      <td>0.023948</td>\n",
       "      <td>3.261158e+05</td>\n",
       "      <td>0.473333</td>\n",
       "      <td>3.271347e+05</td>\n",
       "      <td>0.440</td>\n",
       "      <td>0.966313</td>\n",
       "    </tr>\n",
       "    <tr>\n",
       "      <th>24</th>\n",
       "      <td>0.959670</td>\n",
       "      <td>0.497020</td>\n",
       "      <td>0.140431</td>\n",
       "      <td>0.361394</td>\n",
       "      <td>6.919225e-01</td>\n",
       "      <td>0.526667</td>\n",
       "      <td>6.924844e-01</td>\n",
       "      <td>0.520</td>\n",
       "      <td>0.016653</td>\n",
       "    </tr>\n",
       "    <tr>\n",
       "      <th>25</th>\n",
       "      <td>0.989244</td>\n",
       "      <td>0.158737</td>\n",
       "      <td>0.033313</td>\n",
       "      <td>0.084750</td>\n",
       "      <td>5.155472e+05</td>\n",
       "      <td>0.556667</td>\n",
       "      <td>5.218951e+05</td>\n",
       "      <td>0.535</td>\n",
       "      <td>0.502588</td>\n",
       "    </tr>\n",
       "    <tr>\n",
       "      <th>26</th>\n",
       "      <td>0.207317</td>\n",
       "      <td>0.663434</td>\n",
       "      <td>0.168890</td>\n",
       "      <td>0.070830</td>\n",
       "      <td>7.229650e-01</td>\n",
       "      <td>0.493333</td>\n",
       "      <td>7.617883e-01</td>\n",
       "      <td>0.480</td>\n",
       "      <td>0.147514</td>\n",
       "    </tr>\n",
       "    <tr>\n",
       "      <th>27</th>\n",
       "      <td>0.598194</td>\n",
       "      <td>0.547390</td>\n",
       "      <td>0.271183</td>\n",
       "      <td>0.591924</td>\n",
       "      <td>6.919878e-01</td>\n",
       "      <td>0.526667</td>\n",
       "      <td>6.925038e-01</td>\n",
       "      <td>0.520</td>\n",
       "      <td>0.011716</td>\n",
       "    </tr>\n",
       "    <tr>\n",
       "      <th>28</th>\n",
       "      <td>0.903056</td>\n",
       "      <td>0.109752</td>\n",
       "      <td>0.206404</td>\n",
       "      <td>0.027224</td>\n",
       "      <td>6.951450e-01</td>\n",
       "      <td>0.526667</td>\n",
       "      <td>6.944631e-01</td>\n",
       "      <td>0.520</td>\n",
       "      <td>0.056921</td>\n",
       "    </tr>\n",
       "    <tr>\n",
       "      <th>29</th>\n",
       "      <td>0.198606</td>\n",
       "      <td>0.279825</td>\n",
       "      <td>0.030765</td>\n",
       "      <td>0.039997</td>\n",
       "      <td>9.000672e+04</td>\n",
       "      <td>0.518333</td>\n",
       "      <td>9.043722e+04</td>\n",
       "      <td>0.440</td>\n",
       "      <td>0.226397</td>\n",
       "    </tr>\n",
       "    <tr>\n",
       "      <th>30</th>\n",
       "      <td>0.051322</td>\n",
       "      <td>0.149393</td>\n",
       "      <td>0.237129</td>\n",
       "      <td>0.309455</td>\n",
       "      <td>6.923729e-01</td>\n",
       "      <td>0.526667</td>\n",
       "      <td>6.932427e-01</td>\n",
       "      <td>0.520</td>\n",
       "      <td>0.047377</td>\n",
       "    </tr>\n",
       "    <tr>\n",
       "      <th>31</th>\n",
       "      <td>0.395157</td>\n",
       "      <td>0.150137</td>\n",
       "      <td>0.238508</td>\n",
       "      <td>0.798820</td>\n",
       "      <td>6.918768e-01</td>\n",
       "      <td>0.526667</td>\n",
       "      <td>6.924737e-01</td>\n",
       "      <td>0.520</td>\n",
       "      <td>0.009281</td>\n",
       "    </tr>\n",
       "    <tr>\n",
       "      <th>32</th>\n",
       "      <td>0.145739</td>\n",
       "      <td>0.058948</td>\n",
       "      <td>0.648639</td>\n",
       "      <td>0.020099</td>\n",
       "      <td>6.917620e-01</td>\n",
       "      <td>0.526667</td>\n",
       "      <td>6.924880e-01</td>\n",
       "      <td>0.520</td>\n",
       "      <td>0.010187</td>\n",
       "    </tr>\n",
       "    <tr>\n",
       "      <th>33</th>\n",
       "      <td>0.976300</td>\n",
       "      <td>0.298523</td>\n",
       "      <td>0.070697</td>\n",
       "      <td>0.649414</td>\n",
       "      <td>1.526175e+00</td>\n",
       "      <td>0.473333</td>\n",
       "      <td>1.507116e+00</td>\n",
       "      <td>0.480</td>\n",
       "      <td>0.297107</td>\n",
       "    </tr>\n",
       "    <tr>\n",
       "      <th>34</th>\n",
       "      <td>0.277539</td>\n",
       "      <td>0.347575</td>\n",
       "      <td>0.283036</td>\n",
       "      <td>0.056250</td>\n",
       "      <td>6.917545e-01</td>\n",
       "      <td>0.526667</td>\n",
       "      <td>6.924141e-01</td>\n",
       "      <td>0.520</td>\n",
       "      <td>0.023463</td>\n",
       "    </tr>\n",
       "    <tr>\n",
       "      <th>35</th>\n",
       "      <td>0.131198</td>\n",
       "      <td>0.383346</td>\n",
       "      <td>0.027795</td>\n",
       "      <td>0.276905</td>\n",
       "      <td>6.929069e-01</td>\n",
       "      <td>0.503333</td>\n",
       "      <td>6.923878e-01</td>\n",
       "      <td>0.520</td>\n",
       "      <td>0.067734</td>\n",
       "    </tr>\n",
       "    <tr>\n",
       "      <th>36</th>\n",
       "      <td>0.242820</td>\n",
       "      <td>0.694879</td>\n",
       "      <td>0.026494</td>\n",
       "      <td>0.043321</td>\n",
       "      <td>6.954722e-01</td>\n",
       "      <td>0.606667</td>\n",
       "      <td>7.541656e-01</td>\n",
       "      <td>0.505</td>\n",
       "      <td>0.006095</td>\n",
       "    </tr>\n",
       "    <tr>\n",
       "      <th>37</th>\n",
       "      <td>0.498211</td>\n",
       "      <td>0.186846</td>\n",
       "      <td>0.753014</td>\n",
       "      <td>0.675567</td>\n",
       "      <td>6.984068e-01</td>\n",
       "      <td>0.523333</td>\n",
       "      <td>6.967207e-01</td>\n",
       "      <td>0.520</td>\n",
       "      <td>0.191391</td>\n",
       "    </tr>\n",
       "    <tr>\n",
       "      <th>38</th>\n",
       "      <td>0.733329</td>\n",
       "      <td>0.733001</td>\n",
       "      <td>0.965864</td>\n",
       "      <td>0.082742</td>\n",
       "      <td>6.927006e-01</td>\n",
       "      <td>0.530000</td>\n",
       "      <td>6.996474e-01</td>\n",
       "      <td>0.480</td>\n",
       "      <td>0.195389</td>\n",
       "    </tr>\n",
       "    <tr>\n",
       "      <th>39</th>\n",
       "      <td>0.696313</td>\n",
       "      <td>0.956268</td>\n",
       "      <td>0.029979</td>\n",
       "      <td>0.735728</td>\n",
       "      <td>6.919871e-01</td>\n",
       "      <td>0.526667</td>\n",
       "      <td>6.925002e-01</td>\n",
       "      <td>0.520</td>\n",
       "      <td>0.002642</td>\n",
       "    </tr>\n",
       "  </tbody>\n",
       "</table>\n",
       "</div>"
      ],
      "text/plain": [
       "    dropout_1  dropout_2      l2_1      l2_2          loss  accuracy  \\\n",
       "0    0.931612   0.967210  0.067904  0.869231  6.923992e-01  0.526667   \n",
       "1    0.205958   0.363644  0.029457  0.816038  6.920340e-01  0.526667   \n",
       "2    0.646210   0.790830  0.792973  0.035568  6.921743e-01  0.526667   \n",
       "3    0.592776   0.856450  0.152186  0.030768  9.026136e+05  0.505000   \n",
       "4    0.662456   0.343386  0.027930  0.077732  6.917593e-01  0.526667   \n",
       "5    0.935803   0.367336  0.041379  0.041885  6.920245e-01  0.526667   \n",
       "6    0.123315   0.264835  0.039293  0.081507  6.918415e-01  0.526667   \n",
       "7    0.195417   0.551929  0.018667  0.317075  6.936207e-01  0.526667   \n",
       "8    0.206481   0.511752  0.073458  0.225111  6.920207e-01  0.526667   \n",
       "9    0.844901   0.745115  0.380857  0.139344  6.921481e-01  0.526667   \n",
       "10   0.372446   0.010679  0.098455  0.978597  6.919843e-01  0.526667   \n",
       "11   0.291921   0.216879  0.711894  0.059474  6.918389e-01  0.526667   \n",
       "12   0.635092   0.919634  0.132781  0.041605  6.992341e-01  0.526667   \n",
       "13   0.721348   0.341768  0.069978  0.023876  6.917981e-01  0.526667   \n",
       "14   0.066222   0.664344  0.436097  0.047547  2.635182e+06  0.495000   \n",
       "15   0.797668   0.764290  0.031733  0.037493  6.924468e-01  0.526667   \n",
       "16   0.072494   0.795194  0.025635  0.026940  6.924200e-01  0.526667   \n",
       "17   0.407912   0.084556  0.187605  0.214041  6.959317e-01  0.480000   \n",
       "18   0.882250   0.462387  0.019769  0.412927  6.918587e-01  0.526667   \n",
       "19   0.168741   0.912359  0.162538  0.222422  6.920444e-01  0.526667   \n",
       "20   0.456060   0.163200  0.379648  0.340608  4.717589e+04  0.540000   \n",
       "21   0.580458   0.847218  0.032019  0.110935  6.927818e-01  0.526667   \n",
       "22   0.153323   0.751813  0.221256  0.037730  6.801953e-01  0.653333   \n",
       "23   0.485901   0.878637  0.023394  0.023948  3.261158e+05  0.473333   \n",
       "24   0.959670   0.497020  0.140431  0.361394  6.919225e-01  0.526667   \n",
       "25   0.989244   0.158737  0.033313  0.084750  5.155472e+05  0.556667   \n",
       "26   0.207317   0.663434  0.168890  0.070830  7.229650e-01  0.493333   \n",
       "27   0.598194   0.547390  0.271183  0.591924  6.919878e-01  0.526667   \n",
       "28   0.903056   0.109752  0.206404  0.027224  6.951450e-01  0.526667   \n",
       "29   0.198606   0.279825  0.030765  0.039997  9.000672e+04  0.518333   \n",
       "30   0.051322   0.149393  0.237129  0.309455  6.923729e-01  0.526667   \n",
       "31   0.395157   0.150137  0.238508  0.798820  6.918768e-01  0.526667   \n",
       "32   0.145739   0.058948  0.648639  0.020099  6.917620e-01  0.526667   \n",
       "33   0.976300   0.298523  0.070697  0.649414  1.526175e+00  0.473333   \n",
       "34   0.277539   0.347575  0.283036  0.056250  6.917545e-01  0.526667   \n",
       "35   0.131198   0.383346  0.027795  0.276905  6.929069e-01  0.503333   \n",
       "36   0.242820   0.694879  0.026494  0.043321  6.954722e-01  0.606667   \n",
       "37   0.498211   0.186846  0.753014  0.675567  6.984068e-01  0.523333   \n",
       "38   0.733329   0.733001  0.965864  0.082742  6.927006e-01  0.530000   \n",
       "39   0.696313   0.956268  0.029979  0.735728  6.919871e-01  0.526667   \n",
       "\n",
       "        val_loss  val_accuracy        lr  \n",
       "0   6.930782e-01         0.520  0.007475  \n",
       "1   6.927779e-01         0.520  0.047772  \n",
       "2   6.925189e-01         0.520  0.027272  \n",
       "3   9.078088e+05         0.575  0.896186  \n",
       "4   6.923962e-01         0.520  0.007941  \n",
       "5   6.926640e-01         0.520  0.010829  \n",
       "6   6.924130e-01         0.520  0.014364  \n",
       "7   6.931338e-01         0.520  0.022893  \n",
       "8   6.926341e-01         0.520  0.005911  \n",
       "9   6.928127e-01         0.520  0.004063  \n",
       "10  6.924848e-01         0.520  0.010611  \n",
       "11  6.924426e-01         0.520  0.008838  \n",
       "12  6.979869e-01         0.520  0.002728  \n",
       "13  6.924671e-01         0.520  0.016257  \n",
       "14  2.642779e+06         0.560  0.845615  \n",
       "15  6.934064e-01         0.520  0.010481  \n",
       "16  6.927170e-01         0.520  0.023679  \n",
       "17  6.928929e-01         0.520  0.075369  \n",
       "18  6.924445e-01         0.520  0.011255  \n",
       "19  6.926538e-01         0.520  0.005304  \n",
       "20  4.698130e+04         0.480  0.556856  \n",
       "21  6.935133e-01         0.520  0.028883  \n",
       "22  7.942425e-01         0.525  0.003107  \n",
       "23  3.271347e+05         0.440  0.966313  \n",
       "24  6.924844e-01         0.520  0.016653  \n",
       "25  5.218951e+05         0.535  0.502588  \n",
       "26  7.617883e-01         0.480  0.147514  \n",
       "27  6.925038e-01         0.520  0.011716  \n",
       "28  6.944631e-01         0.520  0.056921  \n",
       "29  9.043722e+04         0.440  0.226397  \n",
       "30  6.932427e-01         0.520  0.047377  \n",
       "31  6.924737e-01         0.520  0.009281  \n",
       "32  6.924880e-01         0.520  0.010187  \n",
       "33  1.507116e+00         0.480  0.297107  \n",
       "34  6.924141e-01         0.520  0.023463  \n",
       "35  6.923878e-01         0.520  0.067734  \n",
       "36  7.541656e-01         0.505  0.006095  \n",
       "37  6.967207e-01         0.520  0.191391  \n",
       "38  6.996474e-01         0.480  0.195389  \n",
       "39  6.925002e-01         0.520  0.002642  "
      ]
     },
     "execution_count": 68,
     "metadata": {},
     "output_type": "execute_result"
    }
   ],
   "source": [
    "tune_results"
   ]
  },
  {
   "cell_type": "code",
   "execution_count": 190,
   "metadata": {
    "scrolled": true
   },
   "outputs": [
    {
     "data": {
      "text/plain": [
       "array([[1000]])"
      ]
     },
     "execution_count": 190,
     "metadata": {},
     "output_type": "execute_result"
    }
   ],
   "source": [
    "metrics.confusion_matrix(y_train.argmax(1), y_pred.argmax(1))"
   ]
  },
  {
   "cell_type": "code",
   "execution_count": 44,
   "metadata": {},
   "outputs": [
    {
     "name": "stdout",
     "output_type": "stream",
     "text": [
      "200/200 [==============================] - 0s     \n"
     ]
    },
    {
     "data": {
      "text/plain": [
       "[0.76113231897354128, 0.53000000000000003, 0.5427497005462647]"
      ]
     },
     "execution_count": 44,
     "metadata": {},
     "output_type": "execute_result"
    }
   ],
   "source": [
    "model.evaluate(x_test, y_test)"
   ]
  },
  {
   "cell_type": "code",
   "execution_count": 16,
   "metadata": {
    "collapsed": true
   },
   "outputs": [],
   "source": [
    "tune_reg = pd.read_csv('C:/Users/oou/Desktop/Analytics/Machine Learning/Reg_Tune.csv')"
   ]
  },
  {
   "cell_type": "code",
   "execution_count": 98,
   "metadata": {
    "collapsed": true
   },
   "outputs": [],
   "source": [
    "tune_results.to_csv('/Users/Owen/Documents/Machine Learning/Projects/Hang Seng Composite/Reg_Tune.csv')"
   ]
  },
  {
   "cell_type": "code",
   "execution_count": 194,
   "metadata": {},
   "outputs": [
    {
     "data": {
      "text/plain": [
       "<matplotlib.collections.PathCollection at 0x24e30ce10>"
      ]
     },
     "execution_count": 194,
     "metadata": {},
     "output_type": "execute_result"
    },
    {
     "data": {
      "image/png": "[encoded data removed]",
      "text/plain": [
       "<matplotlib.figure.Figure at 0x24e1d9898>"
      ]
     },
     "metadata": {},
     "output_type": "display_data"
    }
   ],
   "source": [
    "plt.figure()\n",
    "sns.set_style(\"white\")\n",
    "plt.scatter(tune_results['dropout_1'], tune_results['dropout_2'], c = tune_results['val_binary_accuracy'], cmap = 'Greens')"
   ]
  },
  {
   "cell_type": "code",
   "execution_count": 26,
   "metadata": {},
   "outputs": [
    {
     "data": {
      "text/plain": [
       "dropout_1              0.516177\n",
       "dropout_2              0.310560\n",
       "l2_1                   0.002840\n",
       "l2_2                   0.479195\n",
       "loss                   0.838360\n",
       "binary_accuracy        0.547500\n",
       "val_loss               0.818783\n",
       "val_binary_accuracy    0.596774\n",
       "Name: 57, dtype: float64"
      ]
     },
     "execution_count": 26,
     "metadata": {},
     "output_type": "execute_result"
    }
   ],
   "source": [
    "tune_reg.iloc[57]"
   ]
  },
  {
   "cell_type": "code",
   "execution_count": null,
   "metadata": {
    "collapsed": true
   },
   "outputs": [],
   "source": []
  }
 ],
 "metadata": {
  "kernelspec": {
   "display_name": "Python 3",
   "language": "python",
   "name": "python3"
  },
  "language_info": {
   "codemirror_mode": {
    "name": "ipython",
    "version": 3
   },
   "file_extension": ".py",
   "mimetype": "text/x-python",
   "name": "python",
   "nbconvert_exporter": "python",
   "pygments_lexer": "ipython3",
   "version": "3.6.3"
  }
 },
 "nbformat": 4,
 "nbformat_minor": 2
}
