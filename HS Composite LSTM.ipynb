{
 "cells": [
  {
   "cell_type": "markdown",
   "metadata": {},
   "source": [
    "### Pre-processing procedures:\n",
    "\n",
    "1. Forward-fill valuation-related items, including FCF, dividends\n",
    "2. Use market cap/price column and valuation columns to calculate ratios\n",
    "3. Back-fill revere classifications\n",
    "4. Cross-sectional z-scores\n",
    "5. One-hot classifications"
   ]
  },
  {
   "cell_type": "code",
   "execution_count": 146,
   "metadata": {
    "collapsed": true
   },
   "outputs": [],
   "source": [
    "import pandas as pd\n",
    "import numpy as np\n",
    "import tensorflow as tf\n",
    "import matplotlib.pyplot as plt\n",
    "\n",
    "import keras\n",
    "from keras.models import Sequential\n",
    "from keras.layers import Dense\n",
    "from keras.layers import Dropout\n",
    "from keras.layers import Embedding\n",
    "\n",
    "from keras.layers import LSTM\n",
    "from keras import backend as K\n",
    "from keras import regularizers\n",
    "\n",
    "import seaborn as sns\n",
    "\n",
    "from sklearn import metrics\n",
    "\n",
    "%matplotlib inline"
   ]
  },
  {
   "cell_type": "code",
   "execution_count": 147,
   "metadata": {
    "collapsed": true
   },
   "outputs": [],
   "source": [
    "# Import data from csv\n",
    "\n",
    "\n",
    "\n",
    "all_data = pd.read_csv('C:/Users/oou/Desktop/Analytics/Machine Learning/HS_Composite.csv',\n",
    "                      parse_dates = ['Date'], infer_datetime_format = True).set_index(['Date', 'Ticker'])\n",
    "    \n",
    "#all_data = pd.read_csv('/Users/Owen/Documents/Machine Learning/Projects/Hang Seng Composite/HS_Composite.csv',\n",
    "#                       parse_dates = ['Date'], infer_datetime_format = True).set_index(['Date', 'Ticker'])"
   ]
  },
  {
   "cell_type": "markdown",
   "metadata": {},
   "source": [
    "**The Forward fill FY1 PE line should be changed. Should forward fill EPS and then calculate PE**"
   ]
  },
  {
   "cell_type": "code",
   "execution_count": 148,
   "metadata": {
    "collapsed": true
   },
   "outputs": [],
   "source": [
    "def process_data(data):\n",
    "    \n",
    "    #Forward fill Valuation Data\n",
    "    data.loc[:,'Book Value':'1M EPS Revision'] = data.loc[:,'Book Value':'1M EPS Revision'].groupby(level = 1).ffill()\n",
    "    \n",
    "    #Fill N/A Estimate data with 0 (regard it as no signal)\n",
    "    data.loc[:,'1M EPS Revision':'FY1 EPS Growth'] = data.loc[:,'1M EPS Revision':'FY1 EPS Growth'].fillna(value = 0)\n",
    "    \n",
    "    #Calculate valuation ratios\n",
    "\n",
    "    data['PB Ratio'] = data['Market Cap']/data['Book Value']\n",
    "    ata['Dividend Yield'] = data['Total Dividends']/data['Market Cap']\n",
    "    data['Earnings Yield'] = data['EPS']/data['Price']\n",
    "    data['FCF Yield'] = data['Free Cash Flow']/data['Market Cap']\n",
    "    data['Log Market Cap'] = np.log(data['Market Cap'])\n",
    "\n",
    "    data.fillna(0, inplace = True)\n",
    "    \n",
    "    return data"
   ]
  },
  {
   "cell_type": "code",
   "execution_count": 149,
   "metadata": {
    "collapsed": true
   },
   "outputs": [],
   "source": [
    "#Forward fill Valuation Data\n",
    "all_data.loc[:,'Book Value':'1M EPS Revision'] = all_data.loc[:,'Book Value':'1M EPS Revision'].groupby(level = 1).ffill()\n",
    "\n",
    "#Fill N/A Estimate data with 0 (regard it as no signal)\n",
    "all_data.loc[:,'1M EPS Revision':'FY1 EPS Growth'] = all_data.loc[:,'1M EPS Revision':'FY1 EPS Growth'].fillna(value = 0)"
   ]
  },
  {
   "cell_type": "code",
   "execution_count": 150,
   "metadata": {
    "collapsed": true
   },
   "outputs": [],
   "source": [
    "#Calculate valuation ratios\n",
    "\n",
    "all_data['PB Ratio'] = all_data['Market Cap']/all_data['Book Value']\n",
    "all_data['Dividend Yield'] = all_data['Total Dividends']/all_data['Market Cap']\n",
    "all_data['Earnings Yield'] = all_data['EPS']/all_data['Price']\n",
    "all_data['FCF Yield'] = all_data['Free Cash Flow']/all_data['Market Cap']\n",
    "all_data['Log Market Cap'] = np.log(all_data['Market Cap'])\n",
    "\n",
    "all_data.fillna(0, inplace = True)"
   ]
  },
  {
   "cell_type": "markdown",
   "metadata": {},
   "source": [
    "**Cut returns into two bins**"
   ]
  },
  {
   "cell_type": "code",
   "execution_count": 151,
   "metadata": {
    "collapsed": true
   },
   "outputs": [],
   "source": [
    "all_data['Return Rank'] = all_data['Returns'].groupby('Date').transform(lambda x: pd.qcut(x, 3, labels = False))\n",
    "#all_data['Return Rank'] = all_data.groupby('Date')['Returns'].transform(lambda x: x.rank() <= 50)"
   ]
  },
  {
   "cell_type": "markdown",
   "metadata": {},
   "source": [
    "**Standarising features**"
   ]
  },
  {
   "cell_type": "code",
   "execution_count": 152,
   "metadata": {
    "collapsed": true
   },
   "outputs": [],
   "source": [
    "zscore = lambda x: (x - x.mean())/x.std()\n",
    "\n",
    "zscore_cols = ['-1M Return', '-3M Return', '30D Volatility', '90D Volatility', 'MACD',\n",
    "               'RSI', '1M Turnover %', 'Log Market Cap']\n",
    "\n",
    "zscores = [col+' z-score' for col in zscore_cols]\n",
    "\n",
    "grp_zscore_cols = ['Gross Profitability', 'Return on Equity', 'Gross Margin', '1-Year Sales Growth',\n",
    "                   '5-Year Sales Growth', '1-Year EPS Growth', '5-Year EPS Growth', 'EBIT Interest Coverage',\n",
    "                   'Book Leverage', '1M EPS Revision', 'FY1 PE', 'FY0 EPS Surprise', 'FY1 EPS Growth',\n",
    "                   'PB Ratio', 'Dividend Yield', 'Earnings Yield', 'FCF Yield']\n",
    "\n",
    "grp_zscores = [col+' grp z-score' for col in grp_zscore_cols]\n",
    "\n",
    "all_data[zscores] = all_data.groupby('Date')[zscore_cols].transform(zscore)\n",
    "    \n",
    "all_data[grp_zscores] = all_data.groupby('Date')[grp_zscore_cols].transform(zscore)\n",
    "    \n",
    "#all_data[grp_zscores] = all_data.groupby(['Date', 'HSCI Industry'])[grp_zscore_cols].transform(zscore)\n",
    "\n",
    "#all_data['Returns'] = all_data.groupby('Date')['Returns'].transform(zscore)"
   ]
  },
  {
   "cell_type": "markdown",
   "metadata": {},
   "source": [
    "**Create one-hot arrays for Revere classification and return ranking**"
   ]
  },
  {
   "cell_type": "code",
   "execution_count": 153,
   "metadata": {
    "collapsed": true
   },
   "outputs": [],
   "source": [
    "new_index = pd.MultiIndex.from_product(all_data.index.levels)\n",
    "all_data = all_data.reindex(new_index, fill_value=0)\n",
    "## pad the dataframe with zeros so that all stocks have complete history"
   ]
  },
  {
   "cell_type": "code",
   "execution_count": 154,
   "metadata": {
    "collapsed": true
   },
   "outputs": [],
   "source": [
    "all_data.sort_index(level = [1,0], inplace = True)\n",
    "all_data.fillna(0, inplace = True)"
   ]
  },
  {
   "cell_type": "code",
   "execution_count": 155,
   "metadata": {
    "collapsed": true
   },
   "outputs": [],
   "source": [
    "#CHANGE 36 TO 35 WHEN DOING MULTI-CLASS CLASSIFICATION AS THE 'RETURN RANKS' COLUMN IS ONE-HOTTED\n",
    "def reshape_data(all_data, num_classes):\n",
    "    \n",
    "    if num_classes == 2:\n",
    "        \n",
    "        all_data = pd.get_dummies(all_data,\n",
    "                          prefix={'HSCI Industry': 'Ind'},\n",
    "                          prefix_sep='_',\n",
    "                          columns=['HSCI Industry'])\n",
    "        \n",
    "        x_data_reshaped = all_data.iloc[:, 36:].values.reshape(2832, 32, 37)\n",
    "        y_data_reshaped = all_data['Return Rank'].values.reshape(2832, 32, 1)\n",
    "        returns_reshaped = all_data['Returns'].values.reshape(2832, 32, 1)\n",
    "        #y_data_reshaped = all_data.iloc[::, -2:].values.reshape(2832, 32, 2)\n",
    "    else:\n",
    "        \n",
    "        returns_reshaped = all_data['Returns'].values.reshape(2832, 32, 1)\n",
    "        \n",
    "        all_data = pd.get_dummies(all_data,\n",
    "                          prefix={'HSCI Industry': 'Ind','Return Rank': 'Ret_Rank'},\n",
    "                          prefix_sep='_',\n",
    "                          columns=['HSCI Industry', 'Return Rank'])\n",
    "        \n",
    "        x_data_reshaped = all_data.iloc[:, 35:-num_classes].values.reshape(2832, 32, 37)\n",
    "        y_data_reshaped = all_data.iloc[:, -3:].values.reshape(2832, 32, num_classes)\n",
    "        #y_data_reshaped = all_data.iloc[::, -2:].values.reshape(2832, 32, 2)\n",
    "        \n",
    "    return x_data_reshaped, y_data_reshaped, returns_reshaped"
   ]
  },
  {
   "cell_type": "code",
   "execution_count": 156,
   "metadata": {
    "collapsed": true
   },
   "outputs": [],
   "source": [
    "x_data_reshaped, y_data_reshaped, returns_reshaped = reshape_data(all_data, 3)"
   ]
  },
  {
   "cell_type": "code",
   "execution_count": 157,
   "metadata": {
    "collapsed": true
   },
   "outputs": [],
   "source": [
    "x_data_reshaped = x_data_reshaped[np.sum(returns_reshaped, axis = (1,2))!=0,:,:]\n",
    "y_data_reshaped = y_data_reshaped[np.sum(returns_reshaped, axis = (1,2))!=0,:,:]"
   ]
  },
  {
   "cell_type": "code",
   "execution_count": 158,
   "metadata": {
    "collapsed": true
   },
   "outputs": [],
   "source": [
    "#y_data_reshaped = y_data_reshaped[:,-1,:] #last return of each sequence (for return_sequences = False)"
   ]
  },
  {
   "cell_type": "code",
   "execution_count": 159,
   "metadata": {
    "collapsed": true
   },
   "outputs": [],
   "source": [
    "#shuffle = np.random.permutation(x_data_reshaped.shape[0])\n",
    "shuffle = np.arange(x_data_reshaped.shape[0])\n",
    "\n",
    "x_train = x_data_reshaped[shuffle[0:1000],:,:]\n",
    "y_train = y_data_reshaped[shuffle[0:1000],:]\n",
    "\n",
    "x_dev = x_data_reshaped[shuffle[1000:1373],:,:]\n",
    "y_dev = y_data_reshaped[shuffle[1000:1373],:]\n",
    "\n",
    "x_test = x_data_reshaped[shuffle[1373:],:,:]\n",
    "y_test = y_data_reshaped[shuffle[1373:],:]"
   ]
  },
  {
   "cell_type": "code",
   "execution_count": 160,
   "metadata": {
    "collapsed": true
   },
   "outputs": [],
   "source": [
    "def precision(y_true, y_pred):\n",
    "    \"\"\"Precision metric.\n",
    "\n",
    "    Only computes a batch-wise average of precision.\n",
    "\n",
    "    Computes the precision, a metric for multi-label classification of\n",
    "    how many selected items are relevant.\n",
    "    \"\"\"\n",
    "    true_positives = K.sum(K.round(K.clip(y_true * y_pred, 0, 1)))\n",
    "    predicted_positives = K.sum(K.round(K.clip(y_pred, 0, 1)))\n",
    "    precision = true_positives / (predicted_positives + K.epsilon())\n",
    "    return precision\n"
   ]
  },
  {
   "cell_type": "code",
   "execution_count": 161,
   "metadata": {
    "collapsed": true
   },
   "outputs": [],
   "source": [
    "def create_model(dropout_1 = 0, dropout_2 = 0, l2_1 = 0, l2_2 = 0, lr = 0.001, num_classes = 2):\n",
    "\n",
    "    model = Sequential()\n",
    "\n",
    "    model.add(LSTM(50, input_shape = (32, 37), return_sequences=True, dropout=dropout_1,\n",
    "                   kernel_regularizer=regularizers.l2(l2_1)))\n",
    "    #kernel_regularizer=regularizers.l2(0.1)\n",
    "\n",
    "\n",
    "    model.add(LSTM(50, dropout=dropout_2,return_sequences=True, kernel_regularizer=regularizers.l2(l2_2)))\n",
    "    #model.add(Dropout(0.1))\n",
    "    \n",
    "    model.add(Dense(50, activation='relu'))#, kernel_regularizer=regularizers.l2(0.3)))\n",
    "\n",
    "    if num_classes == 2:\n",
    "        model.add(Dense(1, activation='sigmoid'))\n",
    "\n",
    "        model.compile(loss='binary_crossentropy', optimizer=keras.optimizers.Adam(lr = lr),\n",
    "                      metrics=['binary_accuracy', precision])\n",
    "    else:\n",
    "        model.add(Dense(num_classes, activation='softmax'))\n",
    "\n",
    "        model.compile(loss='categorical_crossentropy', optimizer=keras.optimizers.Adam(lr = lr),\n",
    "                      metrics=['categorical_accuracy', precision])\n",
    "    \n",
    "    return model"
   ]
  },
  {
   "cell_type": "code",
   "execution_count": 162,
   "metadata": {
    "collapsed": true
   },
   "outputs": [],
   "source": [
    "model = create_model(0.3,0,0.09,0.09, 0.0003,3)"
   ]
  },
  {
   "cell_type": "code",
   "execution_count": 163,
   "metadata": {
    "collapsed": true
   },
   "outputs": [],
   "source": [
    "result = model.fit(x_train, y_train, epochs=80, batch_size=64, verbose=0, validation_data = (x_dev, y_dev))"
   ]
  },
  {
   "cell_type": "code",
   "execution_count": 144,
   "metadata": {},
   "outputs": [
    {
     "data": {
      "image/png": "[encoded data removed]",
      "text/plain": [
       "<matplotlib.figure.Figure at 0x19c7a320>"
      ]
     },
     "metadata": {},
     "output_type": "display_data"
    }
   ],
   "source": [
    "plt.figure(figsize = (15,5))\n",
    "sns.set_style(\"white\")\n",
    "\n",
    "plt.subplot(121)\n",
    "plt.plot(result.history['loss'][10:])\n",
    "plt.plot(result.history['val_loss'][10:])\n",
    "plt.legend(['Loss', 'Val Loss'])\n",
    "\n",
    "plt.subplot(122)\n",
    "plt.plot(result.history['categorical_accuracy'])\n",
    "plt.plot(result.history['val_categorical_accuracy'])\n",
    "plt.legend(['Accuracy', 'Val Accuracy']);"
   ]
  },
  {
   "cell_type": "code",
   "execution_count": 123,
   "metadata": {},
   "outputs": [
    {
     "name": "stdout",
     "output_type": "stream",
     "text": [
      "370/370 [==============================] - 0s     \n"
     ]
    },
    {
     "data": {
      "text/plain": [
       "[1.1105262447047879, 0.49729729778057818, 0.59290229114326276]"
      ]
     },
     "execution_count": 123,
     "metadata": {},
     "output_type": "execute_result"
    }
   ],
   "source": [
    "model.evaluate(x_test,y_test)"
   ]
  },
  {
   "cell_type": "code",
   "execution_count": 21,
   "metadata": {},
   "outputs": [
    {
     "name": "stdout",
     "output_type": "stream",
     "text": [
      "Running iteration 0-5\n",
      "Running iteration 5-10\n",
      "Running iteration 10-15\n",
      "Running iteration 15-20\n",
      "Running iteration 20-25\n",
      "Running iteration 25-30\n",
      "Running iteration 30-35\n",
      "Running iteration 35-40\n"
     ]
    }
   ],
   "source": [
    "tune_results = pd.DataFrame(np.zeros((40, 10)),\n",
    "                            columns = ['dropout_1', 'dropout_2', 'l2_1', \n",
    "                                       'l2_2', 'loss', 'binary_accuracy',\n",
    "                                      'val_loss', 'val_binary_accuracy',\n",
    "                                      'precision', 'val_precision'])\n",
    "\n",
    "for i in range(40):\n",
    "    \n",
    "    if i % 5 == 0: print(\"Running iteration {}-{}\".format(i, i+5))\n",
    "    \n",
    "    dropout_1 = np.random.uniform(0, 1)\n",
    "    dropout_2 = np.random.uniform(0, 1)\n",
    "    l2_1 = np.exp(np.random.uniform(-4, 0))\n",
    "    l2_2 = np.exp(np.random.uniform(-4, 0))\n",
    "    \n",
    "    model = create_model(dropout_1, dropout_2, l2_1, l2_2)\n",
    "    result = model.fit(x_train, y_train, epochs=30, batch_size=64, verbose=0, validation_data = (x_dev, y_dev))\n",
    "    \n",
    "    tune_results.iloc[i] = [dropout_1, dropout_2, l2_1, l2_2,\n",
    "                            result.history['loss'][-1], result.history['binary_accuracy'][-1],\n",
    "                            result.history['val_loss'][-1], result.history['val_binary_accuracy'][-1],\n",
    "                           result.history['precision'][-1], result.history['val_precision'][-1]]\n",
    "    "
   ]
  },
  {
   "cell_type": "code",
   "execution_count": 22,
   "metadata": {},
   "outputs": [
    {
     "data": {
      "text/html": [
       "<div>\n",
       "<style>\n",
       "    .dataframe thead tr:only-child th {\n",
       "        text-align: right;\n",
       "    }\n",
       "\n",
       "    .dataframe thead th {\n",
       "        text-align: left;\n",
       "    }\n",
       "\n",
       "    .dataframe tbody tr th {\n",
       "        vertical-align: top;\n",
       "    }\n",
       "</style>\n",
       "<table border=\"1\" class=\"dataframe\">\n",
       "  <thead>\n",
       "    <tr style=\"text-align: right;\">\n",
       "      <th></th>\n",
       "      <th>dropout_1</th>\n",
       "      <th>dropout_2</th>\n",
       "      <th>l2_1</th>\n",
       "      <th>l2_2</th>\n",
       "      <th>loss</th>\n",
       "      <th>binary_accuracy</th>\n",
       "      <th>val_loss</th>\n",
       "      <th>val_binary_accuracy</th>\n",
       "      <th>precision</th>\n",
       "      <th>val_precision</th>\n",
       "    </tr>\n",
       "  </thead>\n",
       "  <tbody>\n",
       "    <tr>\n",
       "      <th>0</th>\n",
       "      <td>0.432287</td>\n",
       "      <td>0.597083</td>\n",
       "      <td>0.344731</td>\n",
       "      <td>0.018970</td>\n",
       "      <td>0.197279</td>\n",
       "      <td>0.954</td>\n",
       "      <td>0.198914</td>\n",
       "      <td>0.957105</td>\n",
       "      <td>0.0</td>\n",
       "      <td>0.0</td>\n",
       "    </tr>\n",
       "    <tr>\n",
       "      <th>1</th>\n",
       "      <td>0.313442</td>\n",
       "      <td>0.529763</td>\n",
       "      <td>0.571159</td>\n",
       "      <td>0.408374</td>\n",
       "      <td>0.208808</td>\n",
       "      <td>0.954</td>\n",
       "      <td>0.217286</td>\n",
       "      <td>0.957105</td>\n",
       "      <td>0.0</td>\n",
       "      <td>0.0</td>\n",
       "    </tr>\n",
       "    <tr>\n",
       "      <th>2</th>\n",
       "      <td>0.300408</td>\n",
       "      <td>0.931889</td>\n",
       "      <td>0.112958</td>\n",
       "      <td>0.110097</td>\n",
       "      <td>0.195045</td>\n",
       "      <td>0.954</td>\n",
       "      <td>0.184011</td>\n",
       "      <td>0.957105</td>\n",
       "      <td>0.0</td>\n",
       "      <td>0.0</td>\n",
       "    </tr>\n",
       "    <tr>\n",
       "      <th>3</th>\n",
       "      <td>0.424101</td>\n",
       "      <td>0.840372</td>\n",
       "      <td>0.335804</td>\n",
       "      <td>0.574859</td>\n",
       "      <td>0.216855</td>\n",
       "      <td>0.954</td>\n",
       "      <td>0.200957</td>\n",
       "      <td>0.957105</td>\n",
       "      <td>0.0</td>\n",
       "      <td>0.0</td>\n",
       "    </tr>\n",
       "    <tr>\n",
       "      <th>4</th>\n",
       "      <td>0.706262</td>\n",
       "      <td>0.237455</td>\n",
       "      <td>0.042749</td>\n",
       "      <td>0.166376</td>\n",
       "      <td>0.193815</td>\n",
       "      <td>0.954</td>\n",
       "      <td>0.184273</td>\n",
       "      <td>0.957105</td>\n",
       "      <td>0.0</td>\n",
       "      <td>0.0</td>\n",
       "    </tr>\n",
       "    <tr>\n",
       "      <th>5</th>\n",
       "      <td>0.146156</td>\n",
       "      <td>0.557654</td>\n",
       "      <td>0.628471</td>\n",
       "      <td>0.663259</td>\n",
       "      <td>0.226371</td>\n",
       "      <td>0.954</td>\n",
       "      <td>0.221670</td>\n",
       "      <td>0.957105</td>\n",
       "      <td>0.0</td>\n",
       "      <td>0.0</td>\n",
       "    </tr>\n",
       "    <tr>\n",
       "      <th>6</th>\n",
       "      <td>0.415733</td>\n",
       "      <td>0.626764</td>\n",
       "      <td>0.021579</td>\n",
       "      <td>0.159197</td>\n",
       "      <td>0.190018</td>\n",
       "      <td>0.954</td>\n",
       "      <td>0.194188</td>\n",
       "      <td>0.957105</td>\n",
       "      <td>0.0</td>\n",
       "      <td>0.0</td>\n",
       "    </tr>\n",
       "    <tr>\n",
       "      <th>7</th>\n",
       "      <td>0.509308</td>\n",
       "      <td>0.647348</td>\n",
       "      <td>0.053474</td>\n",
       "      <td>0.181486</td>\n",
       "      <td>0.195082</td>\n",
       "      <td>0.954</td>\n",
       "      <td>0.184145</td>\n",
       "      <td>0.957105</td>\n",
       "      <td>0.0</td>\n",
       "      <td>0.0</td>\n",
       "    </tr>\n",
       "    <tr>\n",
       "      <th>8</th>\n",
       "      <td>0.604593</td>\n",
       "      <td>0.233654</td>\n",
       "      <td>0.018518</td>\n",
       "      <td>0.076072</td>\n",
       "      <td>0.189963</td>\n",
       "      <td>0.954</td>\n",
       "      <td>0.184008</td>\n",
       "      <td>0.957105</td>\n",
       "      <td>0.0</td>\n",
       "      <td>0.0</td>\n",
       "    </tr>\n",
       "    <tr>\n",
       "      <th>9</th>\n",
       "      <td>0.149720</td>\n",
       "      <td>0.318862</td>\n",
       "      <td>0.485430</td>\n",
       "      <td>0.335098</td>\n",
       "      <td>0.206369</td>\n",
       "      <td>0.954</td>\n",
       "      <td>0.211608</td>\n",
       "      <td>0.957105</td>\n",
       "      <td>0.0</td>\n",
       "      <td>0.0</td>\n",
       "    </tr>\n",
       "    <tr>\n",
       "      <th>10</th>\n",
       "      <td>0.182743</td>\n",
       "      <td>0.574497</td>\n",
       "      <td>0.357145</td>\n",
       "      <td>0.394649</td>\n",
       "      <td>0.210970</td>\n",
       "      <td>0.954</td>\n",
       "      <td>0.196997</td>\n",
       "      <td>0.957105</td>\n",
       "      <td>0.0</td>\n",
       "      <td>0.0</td>\n",
       "    </tr>\n",
       "    <tr>\n",
       "      <th>11</th>\n",
       "      <td>0.275877</td>\n",
       "      <td>0.851545</td>\n",
       "      <td>0.173212</td>\n",
       "      <td>0.291321</td>\n",
       "      <td>0.202664</td>\n",
       "      <td>0.954</td>\n",
       "      <td>0.190879</td>\n",
       "      <td>0.957105</td>\n",
       "      <td>0.0</td>\n",
       "      <td>0.0</td>\n",
       "    </tr>\n",
       "    <tr>\n",
       "      <th>12</th>\n",
       "      <td>0.731954</td>\n",
       "      <td>0.755578</td>\n",
       "      <td>0.166606</td>\n",
       "      <td>0.104663</td>\n",
       "      <td>0.195990</td>\n",
       "      <td>0.954</td>\n",
       "      <td>0.184681</td>\n",
       "      <td>0.957105</td>\n",
       "      <td>0.0</td>\n",
       "      <td>0.0</td>\n",
       "    </tr>\n",
       "    <tr>\n",
       "      <th>13</th>\n",
       "      <td>0.270359</td>\n",
       "      <td>0.117083</td>\n",
       "      <td>0.978672</td>\n",
       "      <td>0.235812</td>\n",
       "      <td>0.221773</td>\n",
       "      <td>0.954</td>\n",
       "      <td>0.219473</td>\n",
       "      <td>0.957105</td>\n",
       "      <td>0.0</td>\n",
       "      <td>0.0</td>\n",
       "    </tr>\n",
       "    <tr>\n",
       "      <th>14</th>\n",
       "      <td>0.859633</td>\n",
       "      <td>0.767945</td>\n",
       "      <td>0.489889</td>\n",
       "      <td>0.023080</td>\n",
       "      <td>0.206909</td>\n",
       "      <td>0.954</td>\n",
       "      <td>0.193639</td>\n",
       "      <td>0.957105</td>\n",
       "      <td>0.0</td>\n",
       "      <td>0.0</td>\n",
       "    </tr>\n",
       "    <tr>\n",
       "      <th>15</th>\n",
       "      <td>0.032196</td>\n",
       "      <td>0.996870</td>\n",
       "      <td>0.104464</td>\n",
       "      <td>0.296037</td>\n",
       "      <td>0.207730</td>\n",
       "      <td>0.954</td>\n",
       "      <td>0.194831</td>\n",
       "      <td>0.957105</td>\n",
       "      <td>0.0</td>\n",
       "      <td>0.0</td>\n",
       "    </tr>\n",
       "    <tr>\n",
       "      <th>16</th>\n",
       "      <td>0.779436</td>\n",
       "      <td>0.329300</td>\n",
       "      <td>0.715261</td>\n",
       "      <td>0.033286</td>\n",
       "      <td>0.214075</td>\n",
       "      <td>0.954</td>\n",
       "      <td>0.199355</td>\n",
       "      <td>0.957105</td>\n",
       "      <td>0.0</td>\n",
       "      <td>0.0</td>\n",
       "    </tr>\n",
       "    <tr>\n",
       "      <th>17</th>\n",
       "      <td>0.777454</td>\n",
       "      <td>0.548226</td>\n",
       "      <td>0.536812</td>\n",
       "      <td>0.219428</td>\n",
       "      <td>0.210877</td>\n",
       "      <td>0.954</td>\n",
       "      <td>0.196823</td>\n",
       "      <td>0.957105</td>\n",
       "      <td>0.0</td>\n",
       "      <td>0.0</td>\n",
       "    </tr>\n",
       "    <tr>\n",
       "      <th>18</th>\n",
       "      <td>0.851656</td>\n",
       "      <td>0.302150</td>\n",
       "      <td>0.122307</td>\n",
       "      <td>0.021382</td>\n",
       "      <td>0.192520</td>\n",
       "      <td>0.954</td>\n",
       "      <td>0.183520</td>\n",
       "      <td>0.957105</td>\n",
       "      <td>0.0</td>\n",
       "      <td>0.0</td>\n",
       "    </tr>\n",
       "    <tr>\n",
       "      <th>19</th>\n",
       "      <td>0.720910</td>\n",
       "      <td>0.179950</td>\n",
       "      <td>0.026278</td>\n",
       "      <td>0.478999</td>\n",
       "      <td>0.203585</td>\n",
       "      <td>0.954</td>\n",
       "      <td>0.193141</td>\n",
       "      <td>0.957105</td>\n",
       "      <td>0.0</td>\n",
       "      <td>0.0</td>\n",
       "    </tr>\n",
       "    <tr>\n",
       "      <th>20</th>\n",
       "      <td>0.344770</td>\n",
       "      <td>0.995110</td>\n",
       "      <td>0.023379</td>\n",
       "      <td>0.168173</td>\n",
       "      <td>0.220688</td>\n",
       "      <td>0.954</td>\n",
       "      <td>0.207419</td>\n",
       "      <td>0.957105</td>\n",
       "      <td>0.0</td>\n",
       "      <td>0.0</td>\n",
       "    </tr>\n",
       "    <tr>\n",
       "      <th>21</th>\n",
       "      <td>0.520636</td>\n",
       "      <td>0.739024</td>\n",
       "      <td>0.131755</td>\n",
       "      <td>0.208406</td>\n",
       "      <td>0.192202</td>\n",
       "      <td>0.954</td>\n",
       "      <td>0.192108</td>\n",
       "      <td>0.957105</td>\n",
       "      <td>0.0</td>\n",
       "      <td>0.0</td>\n",
       "    </tr>\n",
       "    <tr>\n",
       "      <th>22</th>\n",
       "      <td>0.744046</td>\n",
       "      <td>0.894808</td>\n",
       "      <td>0.051638</td>\n",
       "      <td>0.082203</td>\n",
       "      <td>0.193604</td>\n",
       "      <td>0.954</td>\n",
       "      <td>0.182725</td>\n",
       "      <td>0.957105</td>\n",
       "      <td>0.0</td>\n",
       "      <td>0.0</td>\n",
       "    </tr>\n",
       "    <tr>\n",
       "      <th>23</th>\n",
       "      <td>0.157215</td>\n",
       "      <td>0.518826</td>\n",
       "      <td>0.286137</td>\n",
       "      <td>0.138947</td>\n",
       "      <td>0.197045</td>\n",
       "      <td>0.954</td>\n",
       "      <td>0.211380</td>\n",
       "      <td>0.957105</td>\n",
       "      <td>0.0</td>\n",
       "      <td>0.0</td>\n",
       "    </tr>\n",
       "    <tr>\n",
       "      <th>24</th>\n",
       "      <td>0.664297</td>\n",
       "      <td>0.609126</td>\n",
       "      <td>0.056321</td>\n",
       "      <td>0.335557</td>\n",
       "      <td>0.201186</td>\n",
       "      <td>0.954</td>\n",
       "      <td>0.188299</td>\n",
       "      <td>0.957105</td>\n",
       "      <td>0.0</td>\n",
       "      <td>0.0</td>\n",
       "    </tr>\n",
       "    <tr>\n",
       "      <th>25</th>\n",
       "      <td>0.582449</td>\n",
       "      <td>0.271023</td>\n",
       "      <td>0.067635</td>\n",
       "      <td>0.073136</td>\n",
       "      <td>0.189168</td>\n",
       "      <td>0.954</td>\n",
       "      <td>0.184325</td>\n",
       "      <td>0.957105</td>\n",
       "      <td>0.0</td>\n",
       "      <td>0.0</td>\n",
       "    </tr>\n",
       "    <tr>\n",
       "      <th>26</th>\n",
       "      <td>0.473742</td>\n",
       "      <td>0.424281</td>\n",
       "      <td>0.171531</td>\n",
       "      <td>0.410765</td>\n",
       "      <td>0.197831</td>\n",
       "      <td>0.954</td>\n",
       "      <td>0.196895</td>\n",
       "      <td>0.957105</td>\n",
       "      <td>0.0</td>\n",
       "      <td>0.0</td>\n",
       "    </tr>\n",
       "    <tr>\n",
       "      <th>27</th>\n",
       "      <td>0.773479</td>\n",
       "      <td>0.082991</td>\n",
       "      <td>0.363925</td>\n",
       "      <td>0.031171</td>\n",
       "      <td>0.201400</td>\n",
       "      <td>0.954</td>\n",
       "      <td>0.188639</td>\n",
       "      <td>0.957105</td>\n",
       "      <td>0.0</td>\n",
       "      <td>0.0</td>\n",
       "    </tr>\n",
       "    <tr>\n",
       "      <th>28</th>\n",
       "      <td>0.813074</td>\n",
       "      <td>0.286279</td>\n",
       "      <td>0.036298</td>\n",
       "      <td>0.054198</td>\n",
       "      <td>0.193894</td>\n",
       "      <td>0.954</td>\n",
       "      <td>0.182162</td>\n",
       "      <td>0.957105</td>\n",
       "      <td>0.0</td>\n",
       "      <td>0.0</td>\n",
       "    </tr>\n",
       "    <tr>\n",
       "      <th>29</th>\n",
       "      <td>0.907361</td>\n",
       "      <td>0.609178</td>\n",
       "      <td>0.421286</td>\n",
       "      <td>0.021374</td>\n",
       "      <td>0.202283</td>\n",
       "      <td>0.954</td>\n",
       "      <td>0.190057</td>\n",
       "      <td>0.957105</td>\n",
       "      <td>0.0</td>\n",
       "      <td>0.0</td>\n",
       "    </tr>\n",
       "    <tr>\n",
       "      <th>30</th>\n",
       "      <td>0.433023</td>\n",
       "      <td>0.011831</td>\n",
       "      <td>0.348571</td>\n",
       "      <td>0.660456</td>\n",
       "      <td>0.227687</td>\n",
       "      <td>0.954</td>\n",
       "      <td>0.207391</td>\n",
       "      <td>0.957105</td>\n",
       "      <td>0.0</td>\n",
       "      <td>0.0</td>\n",
       "    </tr>\n",
       "    <tr>\n",
       "      <th>31</th>\n",
       "      <td>0.400764</td>\n",
       "      <td>0.557259</td>\n",
       "      <td>0.125068</td>\n",
       "      <td>0.118678</td>\n",
       "      <td>0.190186</td>\n",
       "      <td>0.954</td>\n",
       "      <td>0.196049</td>\n",
       "      <td>0.957105</td>\n",
       "      <td>0.0</td>\n",
       "      <td>0.0</td>\n",
       "    </tr>\n",
       "    <tr>\n",
       "      <th>32</th>\n",
       "      <td>0.585551</td>\n",
       "      <td>0.335408</td>\n",
       "      <td>0.224407</td>\n",
       "      <td>0.108302</td>\n",
       "      <td>0.203296</td>\n",
       "      <td>0.954</td>\n",
       "      <td>0.191747</td>\n",
       "      <td>0.957105</td>\n",
       "      <td>0.0</td>\n",
       "      <td>0.0</td>\n",
       "    </tr>\n",
       "    <tr>\n",
       "      <th>33</th>\n",
       "      <td>0.346138</td>\n",
       "      <td>0.079348</td>\n",
       "      <td>0.026182</td>\n",
       "      <td>0.623091</td>\n",
       "      <td>0.198366</td>\n",
       "      <td>0.954</td>\n",
       "      <td>0.205921</td>\n",
       "      <td>0.957105</td>\n",
       "      <td>0.0</td>\n",
       "      <td>0.0</td>\n",
       "    </tr>\n",
       "    <tr>\n",
       "      <th>34</th>\n",
       "      <td>0.296877</td>\n",
       "      <td>0.382969</td>\n",
       "      <td>0.427832</td>\n",
       "      <td>0.042844</td>\n",
       "      <td>0.197635</td>\n",
       "      <td>0.954</td>\n",
       "      <td>0.194562</td>\n",
       "      <td>0.957105</td>\n",
       "      <td>0.0</td>\n",
       "      <td>0.0</td>\n",
       "    </tr>\n",
       "    <tr>\n",
       "      <th>35</th>\n",
       "      <td>0.941710</td>\n",
       "      <td>0.405055</td>\n",
       "      <td>0.019275</td>\n",
       "      <td>0.431152</td>\n",
       "      <td>0.201922</td>\n",
       "      <td>0.954</td>\n",
       "      <td>0.189932</td>\n",
       "      <td>0.957105</td>\n",
       "      <td>0.0</td>\n",
       "      <td>0.0</td>\n",
       "    </tr>\n",
       "    <tr>\n",
       "      <th>36</th>\n",
       "      <td>0.524350</td>\n",
       "      <td>0.074898</td>\n",
       "      <td>0.039146</td>\n",
       "      <td>0.148532</td>\n",
       "      <td>0.184831</td>\n",
       "      <td>0.954</td>\n",
       "      <td>0.189603</td>\n",
       "      <td>0.957105</td>\n",
       "      <td>0.0</td>\n",
       "      <td>0.0</td>\n",
       "    </tr>\n",
       "    <tr>\n",
       "      <th>37</th>\n",
       "      <td>0.947584</td>\n",
       "      <td>0.908387</td>\n",
       "      <td>0.283361</td>\n",
       "      <td>0.276296</td>\n",
       "      <td>0.204785</td>\n",
       "      <td>0.954</td>\n",
       "      <td>0.191942</td>\n",
       "      <td>0.957105</td>\n",
       "      <td>0.0</td>\n",
       "      <td>0.0</td>\n",
       "    </tr>\n",
       "    <tr>\n",
       "      <th>38</th>\n",
       "      <td>0.735147</td>\n",
       "      <td>0.921298</td>\n",
       "      <td>0.440389</td>\n",
       "      <td>0.279261</td>\n",
       "      <td>0.210857</td>\n",
       "      <td>0.954</td>\n",
       "      <td>0.197245</td>\n",
       "      <td>0.957105</td>\n",
       "      <td>0.0</td>\n",
       "      <td>0.0</td>\n",
       "    </tr>\n",
       "    <tr>\n",
       "      <th>39</th>\n",
       "      <td>0.476933</td>\n",
       "      <td>0.595447</td>\n",
       "      <td>0.046024</td>\n",
       "      <td>0.398738</td>\n",
       "      <td>0.202023</td>\n",
       "      <td>0.954</td>\n",
       "      <td>0.188983</td>\n",
       "      <td>0.957105</td>\n",
       "      <td>0.0</td>\n",
       "      <td>0.0</td>\n",
       "    </tr>\n",
       "  </tbody>\n",
       "</table>\n",
       "</div>"
      ],
      "text/plain": [
       "    dropout_1  dropout_2      l2_1      l2_2      loss  binary_accuracy  \\\n",
       "0    0.432287   0.597083  0.344731  0.018970  0.197279            0.954   \n",
       "1    0.313442   0.529763  0.571159  0.408374  0.208808            0.954   \n",
       "2    0.300408   0.931889  0.112958  0.110097  0.195045            0.954   \n",
       "3    0.424101   0.840372  0.335804  0.574859  0.216855            0.954   \n",
       "4    0.706262   0.237455  0.042749  0.166376  0.193815            0.954   \n",
       "5    0.146156   0.557654  0.628471  0.663259  0.226371            0.954   \n",
       "6    0.415733   0.626764  0.021579  0.159197  0.190018            0.954   \n",
       "7    0.509308   0.647348  0.053474  0.181486  0.195082            0.954   \n",
       "8    0.604593   0.233654  0.018518  0.076072  0.189963            0.954   \n",
       "9    0.149720   0.318862  0.485430  0.335098  0.206369            0.954   \n",
       "10   0.182743   0.574497  0.357145  0.394649  0.210970            0.954   \n",
       "11   0.275877   0.851545  0.173212  0.291321  0.202664            0.954   \n",
       "12   0.731954   0.755578  0.166606  0.104663  0.195990            0.954   \n",
       "13   0.270359   0.117083  0.978672  0.235812  0.221773            0.954   \n",
       "14   0.859633   0.767945  0.489889  0.023080  0.206909            0.954   \n",
       "15   0.032196   0.996870  0.104464  0.296037  0.207730            0.954   \n",
       "16   0.779436   0.329300  0.715261  0.033286  0.214075            0.954   \n",
       "17   0.777454   0.548226  0.536812  0.219428  0.210877            0.954   \n",
       "18   0.851656   0.302150  0.122307  0.021382  0.192520            0.954   \n",
       "19   0.720910   0.179950  0.026278  0.478999  0.203585            0.954   \n",
       "20   0.344770   0.995110  0.023379  0.168173  0.220688            0.954   \n",
       "21   0.520636   0.739024  0.131755  0.208406  0.192202            0.954   \n",
       "22   0.744046   0.894808  0.051638  0.082203  0.193604            0.954   \n",
       "23   0.157215   0.518826  0.286137  0.138947  0.197045            0.954   \n",
       "24   0.664297   0.609126  0.056321  0.335557  0.201186            0.954   \n",
       "25   0.582449   0.271023  0.067635  0.073136  0.189168            0.954   \n",
       "26   0.473742   0.424281  0.171531  0.410765  0.197831            0.954   \n",
       "27   0.773479   0.082991  0.363925  0.031171  0.201400            0.954   \n",
       "28   0.813074   0.286279  0.036298  0.054198  0.193894            0.954   \n",
       "29   0.907361   0.609178  0.421286  0.021374  0.202283            0.954   \n",
       "30   0.433023   0.011831  0.348571  0.660456  0.227687            0.954   \n",
       "31   0.400764   0.557259  0.125068  0.118678  0.190186            0.954   \n",
       "32   0.585551   0.335408  0.224407  0.108302  0.203296            0.954   \n",
       "33   0.346138   0.079348  0.026182  0.623091  0.198366            0.954   \n",
       "34   0.296877   0.382969  0.427832  0.042844  0.197635            0.954   \n",
       "35   0.941710   0.405055  0.019275  0.431152  0.201922            0.954   \n",
       "36   0.524350   0.074898  0.039146  0.148532  0.184831            0.954   \n",
       "37   0.947584   0.908387  0.283361  0.276296  0.204785            0.954   \n",
       "38   0.735147   0.921298  0.440389  0.279261  0.210857            0.954   \n",
       "39   0.476933   0.595447  0.046024  0.398738  0.202023            0.954   \n",
       "\n",
       "    val_loss  val_binary_accuracy  precision  val_precision  \n",
       "0   0.198914             0.957105        0.0            0.0  \n",
       "1   0.217286             0.957105        0.0            0.0  \n",
       "2   0.184011             0.957105        0.0            0.0  \n",
       "3   0.200957             0.957105        0.0            0.0  \n",
       "4   0.184273             0.957105        0.0            0.0  \n",
       "5   0.221670             0.957105        0.0            0.0  \n",
       "6   0.194188             0.957105        0.0            0.0  \n",
       "7   0.184145             0.957105        0.0            0.0  \n",
       "8   0.184008             0.957105        0.0            0.0  \n",
       "9   0.211608             0.957105        0.0            0.0  \n",
       "10  0.196997             0.957105        0.0            0.0  \n",
       "11  0.190879             0.957105        0.0            0.0  \n",
       "12  0.184681             0.957105        0.0            0.0  \n",
       "13  0.219473             0.957105        0.0            0.0  \n",
       "14  0.193639             0.957105        0.0            0.0  \n",
       "15  0.194831             0.957105        0.0            0.0  \n",
       "16  0.199355             0.957105        0.0            0.0  \n",
       "17  0.196823             0.957105        0.0            0.0  \n",
       "18  0.183520             0.957105        0.0            0.0  \n",
       "19  0.193141             0.957105        0.0            0.0  \n",
       "20  0.207419             0.957105        0.0            0.0  \n",
       "21  0.192108             0.957105        0.0            0.0  \n",
       "22  0.182725             0.957105        0.0            0.0  \n",
       "23  0.211380             0.957105        0.0            0.0  \n",
       "24  0.188299             0.957105        0.0            0.0  \n",
       "25  0.184325             0.957105        0.0            0.0  \n",
       "26  0.196895             0.957105        0.0            0.0  \n",
       "27  0.188639             0.957105        0.0            0.0  \n",
       "28  0.182162             0.957105        0.0            0.0  \n",
       "29  0.190057             0.957105        0.0            0.0  \n",
       "30  0.207391             0.957105        0.0            0.0  \n",
       "31  0.196049             0.957105        0.0            0.0  \n",
       "32  0.191747             0.957105        0.0            0.0  \n",
       "33  0.205921             0.957105        0.0            0.0  \n",
       "34  0.194562             0.957105        0.0            0.0  \n",
       "35  0.189932             0.957105        0.0            0.0  \n",
       "36  0.189603             0.957105        0.0            0.0  \n",
       "37  0.191942             0.957105        0.0            0.0  \n",
       "38  0.197245             0.957105        0.0            0.0  \n",
       "39  0.188983             0.957105        0.0            0.0  "
      ]
     },
     "execution_count": 22,
     "metadata": {},
     "output_type": "execute_result"
    }
   ],
   "source": [
    "tune_results"
   ]
  },
  {
   "cell_type": "code",
   "execution_count": 145,
   "metadata": {},
   "outputs": [
    {
     "data": {
      "text/plain": [
       "array([[132,  22,  12],\n",
       "       [ 52,  22,  17],\n",
       "       [ 65,  24,  24]], dtype=int64)"
      ]
     },
     "execution_count": 145,
     "metadata": {},
     "output_type": "execute_result"
    }
   ],
   "source": [
    "y_pred = model.predict(x_test)\n",
    "metrics.confusion_matrix(y_test.argmax(1), y_pred.argmax(1))"
   ]
  },
  {
   "cell_type": "code",
   "execution_count": 103,
   "metadata": {
    "collapsed": true
   },
   "outputs": [],
   "source": [
    "metrics.confusion_matrix(y_train, np.around(y_pred))"
   ]
  },
  {
   "cell_type": "code",
   "execution_count": 190,
   "metadata": {
    "scrolled": true
   },
   "outputs": [
    {
     "data": {
      "text/plain": [
       "array([[1000]])"
      ]
     },
     "execution_count": 190,
     "metadata": {},
     "output_type": "execute_result"
    }
   ],
   "source": [
    "metrics.confusion_matrix(y_train.argmax(1), y_pred.argmax(1))"
   ]
  },
  {
   "cell_type": "code",
   "execution_count": 136,
   "metadata": {},
   "outputs": [
    {
     "name": "stdout",
     "output_type": "stream",
     "text": [
      "128/166 [======================>.......] - ETA: 0s"
     ]
    },
    {
     "data": {
      "text/plain": [
       "[0.7013421683426363, 0.54216867469879515]"
      ]
     },
     "execution_count": 136,
     "metadata": {},
     "output_type": "execute_result"
    }
   ],
   "source": [
    "model.evaluate(x_test, y_test)"
   ]
  },
  {
   "cell_type": "code",
   "execution_count": 16,
   "metadata": {
    "collapsed": true
   },
   "outputs": [],
   "source": [
    "tune_reg = pd.read_csv('C:/Users/oou/Desktop/Analytics/Machine Learning/Reg_Tune.csv')"
   ]
  },
  {
   "cell_type": "code",
   "execution_count": 98,
   "metadata": {
    "collapsed": true
   },
   "outputs": [],
   "source": [
    "tune_results.to_csv('/Users/Owen/Documents/Machine Learning/Projects/Hang Seng Composite/Reg_Tune.csv')"
   ]
  },
  {
   "cell_type": "code",
   "execution_count": 194,
   "metadata": {},
   "outputs": [
    {
     "data": {
      "text/plain": [
       "<matplotlib.collections.PathCollection at 0x24e30ce10>"
      ]
     },
     "execution_count": 194,
     "metadata": {},
     "output_type": "execute_result"
    },
    {
     "data": {
      "image/png": "[encoded data removed]",
      "text/plain": [
       "<matplotlib.figure.Figure at 0x24e1d9898>"
      ]
     },
     "metadata": {},
     "output_type": "display_data"
    }
   ],
   "source": [
    "plt.figure()\n",
    "sns.set_style(\"white\")\n",
    "plt.scatter(tune_results['dropout_1'], tune_results['dropout_2'], c = tune_results['val_binary_accuracy'], cmap = 'Greens')"
   ]
  },
  {
   "cell_type": "code",
   "execution_count": 26,
   "metadata": {},
   "outputs": [
    {
     "data": {
      "text/plain": [
       "dropout_1              0.516177\n",
       "dropout_2              0.310560\n",
       "l2_1                   0.002840\n",
       "l2_2                   0.479195\n",
       "loss                   0.838360\n",
       "binary_accuracy        0.547500\n",
       "val_loss               0.818783\n",
       "val_binary_accuracy    0.596774\n",
       "Name: 57, dtype: float64"
      ]
     },
     "execution_count": 26,
     "metadata": {},
     "output_type": "execute_result"
    }
   ],
   "source": [
    "tune_reg.iloc[57]"
   ]
  },
  {
   "cell_type": "code",
   "execution_count": null,
   "metadata": {
    "collapsed": true
   },
   "outputs": [],
   "source": []
  }
 ],
 "metadata": {
  "kernelspec": {
   "display_name": "Python 3",
   "language": "python",
   "name": "python3"
  },
  "language_info": {
   "codemirror_mode": {
    "name": "ipython",
    "version": 3
   },
   "file_extension": ".py",
   "mimetype": "text/x-python",
   "name": "python",
   "nbconvert_exporter": "python",
   "pygments_lexer": "ipython3",
   "version": "3.6.2"
  }
 },
 "nbformat": 4,
 "nbformat_minor": 2
}
