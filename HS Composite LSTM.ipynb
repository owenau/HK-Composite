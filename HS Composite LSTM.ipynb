{
 "cells": [
  {
   "cell_type": "markdown",
   "metadata": {},
   "source": [
    "### Pre-processing procedures:\n",
    "\n",
    "1. Forward-fill valuation-related items, including FCF, dividends\n",
    "2. Use market cap/price column and valuation columns to calculate ratios\n",
    "3. Back-fill revere classifications\n",
    "4. Cross-sectional z-scores\n",
    "5. One-hot classifications"
   ]
  },
  {
   "cell_type": "code",
   "execution_count": 362,
   "metadata": {},
   "outputs": [],
   "source": [
    "import pandas as pd\n",
    "import numpy as np\n",
    "import tensorflow as tf\n",
    "import matplotlib.pyplot as plt\n",
    "\n",
    "import keras\n",
    "from keras.models import Sequential\n",
    "from keras.layers import Dense\n",
    "from keras.layers import Dropout\n",
    "from keras.layers import Embedding\n",
    "\n",
    "from keras.layers import LSTM\n",
    "from keras import backend as K\n",
    "from keras import regularizers\n",
    "\n",
    "import seaborn as sns\n",
    "\n",
    "from sklearn import metrics\n",
    "\n",
    "%matplotlib inline"
   ]
  },
  {
   "cell_type": "code",
   "execution_count": 363,
   "metadata": {
    "collapsed": true
   },
   "outputs": [],
   "source": [
    "bins = 5\n",
    "ret_seq = True"
   ]
  },
  {
   "cell_type": "code",
   "execution_count": 364,
   "metadata": {
    "collapsed": true
   },
   "outputs": [],
   "source": [
    "# Import data from csv\n",
    "\n",
    "time_step = 2\n",
    "\n",
    "all_data = pd.read_csv('~/Projects/HS-Composite/HS_Composite.csv',\n",
    "                      parse_dates = ['Date'], infer_datetime_format = True)\n",
    "\n",
    "#all_data = pd.read_csv('C:/Users/oou/Desktop/Analytics/Machine Learning/HS_Composite.csv',\n",
    "#                      parse_dates = ['Date'], infer_datetime_format = True)\n",
    "    \n",
    "#all_data = pd.read_csv('/Users/Owen/Documents/Machine Learning/Projects/Hang Seng Composite/HS_Composite.csv',\n",
    "#                       parse_dates = ['Date'], infer_datetime_format = True).set_index(['Date', 'Ticker'])"
   ]
  },
  {
   "cell_type": "code",
   "execution_count": 365,
   "metadata": {},
   "outputs": [],
   "source": [
    "all_data = all_data[(all_data['Ticker']!='LX75953') & (all_data['Ticker']!='LX87416')]"
   ]
  },
  {
   "cell_type": "code",
   "execution_count": 366,
   "metadata": {
    "collapsed": true
   },
   "outputs": [],
   "source": [
    "def insert_na(series, time_step):\n",
    "    \n",
    "    output = np.zeros_like(series, dtype=float)\n",
    "    \n",
    "    length = output.shape[0]//time_step * time_step\n",
    "    output[length:] = np.nan\n",
    "    \n",
    "    return output"
   ]
  },
  {
   "cell_type": "code",
   "execution_count": 367,
   "metadata": {
    "collapsed": true
   },
   "outputs": [],
   "source": [
    "# Convert dates to numbers\n",
    "all_data['Date Num'] = all_data['Date'].rank(method='dense')\n",
    "\n",
    "# Count discontinuity in dates\n",
    "all_data['Count'] = all_data.groupby('Ticker')['Date Num'].transform(lambda x: np.append(0, np.cumsum(np.diff(x)>1)))\n",
    "\n",
    "# Mark dates out of bounds as NaN\n",
    "all_data['Count_na'] = all_data.groupby(['Ticker','Count'])['Count'].transform(lambda x: insert_na(x, 32))\n",
    "\n",
    "all_data.set_index(['Date', 'Ticker'], inplace=True)"
   ]
  },
  {
   "cell_type": "markdown",
   "metadata": {},
   "source": [
    "**The Forward fill FY1 PE line should be changed. Should forward fill EPS and then calculate PE**"
   ]
  },
  {
   "cell_type": "code",
   "execution_count": 368,
   "metadata": {
    "collapsed": true
   },
   "outputs": [],
   "source": [
    "def process_data(data):\n",
    "    \n",
    "    #Forward fill Valuation Data\n",
    "    data.loc[:,'Book Value':'1M EPS Revision'] = data.loc[:,'Book Value':'1M EPS Revision'].groupby(level = 1).ffill()\n",
    "    \n",
    "    #Fill N/A Estimate data with 0 (regard it as no signal)\n",
    "    data.loc[:,'1M EPS Revision':'FY1 EPS Growth'] = data.loc[:,'1M EPS Revision':'FY1 EPS Growth'].fillna(value = 0)\n",
    "    \n",
    "    #Calculate valuation ratios\n",
    "\n",
    "    data['PB Ratio'] = data['Market Cap']/data['Book Value']\n",
    "    ata['Dividend Yield'] = data['Total Dividends']/data['Market Cap']\n",
    "    data['Earnings Yield'] = data['EPS']/data['Price']\n",
    "    data['FCF Yield'] = data['Free Cash Flow']/data['Market Cap']\n",
    "    data['Log Market Cap'] = np.log(data['Market Cap'])\n",
    "\n",
    "    data.fillna(0, inplace = True)\n",
    "    \n",
    "    return data"
   ]
  },
  {
   "cell_type": "code",
   "execution_count": 369,
   "metadata": {
    "collapsed": true
   },
   "outputs": [],
   "source": [
    "#Forward fill Valuation Data\n",
    "all_data.loc[:,'Book Value':'1M EPS Revision'] = all_data.loc[:,'Book Value':'1M EPS Revision'].groupby(level = 1).ffill()\n",
    "\n",
    "#Fill N/A Estimate data with 0 (regard it as no signal)\n",
    "all_data.loc[:,'1M EPS Revision':'FY1 EPS Growth'] = all_data.loc[:,'1M EPS Revision':'FY1 EPS Growth'].fillna(value = 0)"
   ]
  },
  {
   "cell_type": "code",
   "execution_count": 370,
   "metadata": {
    "collapsed": true
   },
   "outputs": [],
   "source": [
    "#Calculate valuation ratios\n",
    "\n",
    "all_data['PB Ratio'] = all_data['Market Cap']/all_data['Book Value']\n",
    "all_data['Dividend Yield'] = all_data['Total Dividends']/all_data['Market Cap']\n",
    "all_data['Earnings Yield'] = all_data['EPS']/all_data['Price']\n",
    "all_data['FCF Yield'] = all_data['Free Cash Flow']/all_data['Market Cap']\n",
    "all_data['Log Market Cap'] = np.log(all_data['Market Cap'])"
   ]
  },
  {
   "cell_type": "markdown",
   "metadata": {},
   "source": [
    "**Cut returns into two bins**"
   ]
  },
  {
   "cell_type": "code",
   "execution_count": 371,
   "metadata": {
    "collapsed": true
   },
   "outputs": [],
   "source": [
    "all_data['Return Rank'] = all_data['Returns'].groupby('Date').transform(lambda x: pd.qcut(x, bins, labels = False))\n",
    "#all_data['Return Rank'] = all_data.groupby('Date')['Returns'].transform(lambda x: x.rank() <= 50)"
   ]
  },
  {
   "cell_type": "markdown",
   "metadata": {},
   "source": [
    "**Standarising features**"
   ]
  },
  {
   "cell_type": "code",
   "execution_count": 372,
   "metadata": {},
   "outputs": [],
   "source": [
    "zscore = lambda x: (x - x.mean())/x.std()\n",
    "\n",
    "zscore_cols = ['-1M Return', '-3M Return', '30D Volatility', '90D Volatility', 'MACD',\n",
    "               'RSI', '1M Turnover %', 'Log Market Cap']\n",
    "\n",
    "zscores = [col+' z-score' for col in zscore_cols]\n",
    "\n",
    "grp_zscore_cols = ['Gross Profitability', 'Return on Equity', 'Gross Margin', '1-Year Sales Growth',\n",
    "                   '5-Year Sales Growth', '1-Year EPS Growth', '5-Year EPS Growth', 'EBIT Interest Coverage',\n",
    "                   'Book Leverage', '1M EPS Revision', 'FY1 PE', 'FY0 EPS Surprise', 'FY1 EPS Growth',\n",
    "                   'PB Ratio', 'Dividend Yield', 'Earnings Yield', 'FCF Yield']\n",
    "\n",
    "grp_zscores = [col+' grp z-score' for col in grp_zscore_cols]\n",
    "\n",
    "all_data[zscores] = all_data.groupby('Date')[zscore_cols].transform(zscore)\n",
    "    \n",
    "#all_data[grp_zscores] = all_data.groupby('Date')[grp_zscore_cols].transform(zscore)\n",
    "    \n",
    "all_data[grp_zscores] = all_data.groupby(['Date', 'HSCI Industry'])[grp_zscore_cols].transform(zscore)\n",
    "\n",
    "#all_data['Returns'] = all_data.groupby('Date')['Returns'].transform(zscore)"
   ]
  },
  {
   "cell_type": "markdown",
   "metadata": {},
   "source": [
    "**Create one-hot arrays for Revere classification and return ranking**"
   ]
  },
  {
   "cell_type": "code",
   "execution_count": 373,
   "metadata": {
    "collapsed": true
   },
   "outputs": [],
   "source": [
    "#new_index = pd.MultiIndex.from_product(all_data.index.levels)\n",
    "#all_data = all_data.reindex(new_index, fill_value=0)\n",
    "## pad the dataframe with zeros so that all stocks have complete history"
   ]
  },
  {
   "cell_type": "code",
   "execution_count": 374,
   "metadata": {
    "collapsed": true
   },
   "outputs": [],
   "source": [
    "all_data = all_data[all_data['Count_na'].notnull()].drop(['Date Num', 'Count', 'Count_na'], axis=1)"
   ]
  },
  {
   "cell_type": "code",
   "execution_count": 375,
   "metadata": {
    "collapsed": true
   },
   "outputs": [],
   "source": [
    "all_data.sort_index(level = [1,0], inplace = True)\n",
    "all_data.fillna(0, inplace = True)"
   ]
  },
  {
   "cell_type": "code",
   "execution_count": 376,
   "metadata": {
    "collapsed": true
   },
   "outputs": [],
   "source": [
    "#CHANGE 36 TO 35 WHEN DOING MULTI-CLASS CLASSIFICATION AS THE 'RETURN RANKS' COLUMN IS ONE-HOTTED\n",
    "def reshape_data(all_data, num_classes):\n",
    "    \n",
    "    if num_classes == 2:\n",
    "        \n",
    "        all_data = pd.get_dummies(all_data,\n",
    "                          prefix={'HSCI Industry': 'Ind'},\n",
    "                          prefix_sep='_',\n",
    "                          columns=['HSCI Industry'])\n",
    "        \n",
    "        x_data_reshaped = all_data.iloc[:, 36:].values.reshape(-1, 32, 36)\n",
    "        y_data_reshaped = all_data['Return Rank'].values.reshape(-1, 32, 1)\n",
    "        returns_reshaped = all_data['Returns'].values.reshape(-1, 32, 1)\n",
    "        #y_data_reshaped = all_data.iloc[::, -2:].values.reshape(2832, 32, 2)\n",
    "    else:\n",
    "        \n",
    "        returns_reshaped = all_data['Returns'].values.reshape(1000, 32, 1)\n",
    "        \n",
    "        all_data = pd.get_dummies(all_data,\n",
    "                          prefix={'HSCI Industry': 'Ind','Return Rank': 'Ret_Rank'},\n",
    "                          prefix_sep='_',\n",
    "                          columns=['HSCI Industry', 'Return Rank'])\n",
    "        \n",
    "        x_data_reshaped = all_data.iloc[:, 35:-num_classes].values.reshape(1000, 32, 36)\n",
    "        y_data_reshaped = all_data.iloc[:, -num_classes:].values.reshape(1000, 32, num_classes)\n",
    "        \n",
    "    return x_data_reshaped, y_data_reshaped, returns_reshaped"
   ]
  },
  {
   "cell_type": "code",
   "execution_count": 377,
   "metadata": {
    "collapsed": true
   },
   "outputs": [],
   "source": [
    "x_data_reshaped, y_data_reshaped, returns_reshaped = reshape_data(all_data, bins)"
   ]
  },
  {
   "cell_type": "code",
   "execution_count": 378,
   "metadata": {
    "collapsed": true
   },
   "outputs": [],
   "source": [
    "#x_data_reshaped = x_data_reshaped[np.sum(returns_reshaped, axis = (1,2))!=0,:,:]\n",
    "#y_data_reshaped = y_data_reshaped[np.sum(returns_reshaped, axis = (1,2))!=0,:,:]"
   ]
  },
  {
   "cell_type": "code",
   "execution_count": 379,
   "metadata": {
    "collapsed": true
   },
   "outputs": [],
   "source": [
    "if ret_seq == False: y_data_reshaped = y_data_reshaped[:,-1,:] #last return of each sequence (for return_sequences = False)"
   ]
  },
  {
   "cell_type": "code",
   "execution_count": 380,
   "metadata": {
    "collapsed": true
   },
   "outputs": [],
   "source": [
    "#shuffle = np.random.permutation(x_data_reshaped.shape[0])\n",
    "shuffle = np.arange(x_data_reshaped.shape[0])\n",
    "\n",
    "x_train = x_data_reshaped[shuffle[0:600],:,:]\n",
    "y_train = y_data_reshaped[shuffle[0:600],:]\n",
    "\n",
    "x_dev = x_data_reshaped[shuffle[600:800],:,:]\n",
    "y_dev = y_data_reshaped[shuffle[600:800],:]\n",
    "\n",
    "x_test = x_data_reshaped[shuffle[800:],:,:]\n",
    "y_test = y_data_reshaped[shuffle[800:],:]"
   ]
  },
  {
   "cell_type": "code",
   "execution_count": 381,
   "metadata": {
    "collapsed": true
   },
   "outputs": [],
   "source": [
    "def precision(y_true, y_pred):\n",
    "    \"\"\"Precision metric.\n",
    "\n",
    "    Only computes a batch-wise average of precision.\n",
    "\n",
    "    Computes the precision, a metric for multi-label classification of\n",
    "    how many selected items are relevant.\n",
    "    \"\"\"\n",
    "    true_positives = K.sum(K.round(K.clip(y_true * y_pred, 0, 1)))\n",
    "    predicted_positives = K.sum(K.round(K.clip(y_pred, 0, 1)))\n",
    "    precision = true_positives / (predicted_positives + K.epsilon())\n",
    "    return precision\n"
   ]
  },
  {
   "cell_type": "code",
   "execution_count": 390,
   "metadata": {},
   "outputs": [],
   "source": [
    "def create_model(dropout_1 = 0, dropout_2 = 0, l2_1 = 0, l2_2 = 0, lr = 0.001, num_classes = 2):\n",
    "\n",
    "    model = Sequential()\n",
    "\n",
    "    model.add(LSTM(100, input_shape = (32, 36), return_sequences=True, dropout=dropout_1,\n",
    "                   kernel_regularizer=regularizers.l2(l2_1)))\n",
    "    #kernel_regularizer=regularizers.l2(0.1)\n",
    "\n",
    "\n",
    "    model.add(LSTM(100, dropout=dropout_2,return_sequences=ret_seq, kernel_regularizer=regularizers.l2(l2_2)))\n",
    "    #model.add(Dropout(0.1))\n",
    "    \n",
    "    #model.add(Dense(100, activation='relu'))#, kernel_regularizer=regularizers.l2(0.3)))\n",
    "\n",
    "    if num_classes == 2:\n",
    "        model.add(Dense(1, activation='sigmoid'))\n",
    "\n",
    "        model.compile(loss='binary_crossentropy', optimizer=keras.optimizers.Adam(lr = lr),\n",
    "                      metrics=['binary_accuracy', precision])\n",
    "    else:\n",
    "        model.add(Dense(num_classes, activation='softmax'))\n",
    "\n",
    "        model.compile(loss='categorical_crossentropy', optimizer=keras.optimizers.Adam(lr = lr),\n",
    "                      metrics=['categorical_accuracy'])\n",
    "    \n",
    "    return model"
   ]
  },
  {
   "cell_type": "code",
   "execution_count": 391,
   "metadata": {
    "collapsed": true
   },
   "outputs": [],
   "source": [
    "model = create_model(0.3,0.36,0.3,0.3, 0.0004, bins)"
   ]
  },
  {
   "cell_type": "code",
   "execution_count": 392,
   "metadata": {},
   "outputs": [
    {
     "name": "stdout",
     "output_type": "stream",
     "text": [
      "Train on 600 samples, validate on 200 samples\n",
      "Epoch 1/50\n",
      "3s - loss: 67.0144 - categorical_accuracy: 0.2053 - val_loss: 63.0749 - val_categorical_accuracy: 0.2142\n",
      "Epoch 2/50\n",
      "1s - loss: 60.2969 - categorical_accuracy: 0.2156 - val_loss: 56.5477 - val_categorical_accuracy: 0.2281\n",
      "Epoch 3/50\n",
      "1s - loss: 53.9981 - categorical_accuracy: 0.2229 - val_loss: 50.5882 - val_categorical_accuracy: 0.2353\n",
      "Epoch 4/50\n",
      "1s - loss: 48.2840 - categorical_accuracy: 0.2203 - val_loss: 45.2038 - val_categorical_accuracy: 0.2314\n",
      "Epoch 5/50\n",
      "1s - loss: 43.1380 - categorical_accuracy: 0.2312 - val_loss: 40.3776 - val_categorical_accuracy: 0.2280\n",
      "Epoch 6/50\n",
      "1s - loss: 38.5204 - categorical_accuracy: 0.2353 - val_loss: 36.0426 - val_categorical_accuracy: 0.2338\n",
      "Epoch 7/50\n",
      "1s - loss: 34.3816 - categorical_accuracy: 0.2317 - val_loss: 32.1626 - val_categorical_accuracy: 0.2345\n",
      "Epoch 8/50\n",
      "1s - loss: 30.6749 - categorical_accuracy: 0.2401 - val_loss: 28.6887 - val_categorical_accuracy: 0.2334\n",
      "Epoch 9/50\n",
      "1s - loss: 27.3547 - categorical_accuracy: 0.2422 - val_loss: 25.5788 - val_categorical_accuracy: 0.2345\n",
      "Epoch 10/50\n",
      "1s - loss: 24.3869 - categorical_accuracy: 0.2357 - val_loss: 22.7982 - val_categorical_accuracy: 0.2352\n",
      "Epoch 11/50\n",
      "1s - loss: 21.7329 - categorical_accuracy: 0.2386 - val_loss: 20.3148 - val_categorical_accuracy: 0.2364\n",
      "Epoch 12/50\n",
      "1s - loss: 19.3644 - categorical_accuracy: 0.2415 - val_loss: 18.0998 - val_categorical_accuracy: 0.2389\n",
      "Epoch 13/50\n",
      "1s - loss: 17.2503 - categorical_accuracy: 0.2399 - val_loss: 16.1240 - val_categorical_accuracy: 0.2380\n",
      "Epoch 14/50\n",
      "1s - loss: 15.3700 - categorical_accuracy: 0.2400 - val_loss: 14.3657 - val_categorical_accuracy: 0.2394\n",
      "Epoch 15/50\n",
      "1s - loss: 13.6946 - categorical_accuracy: 0.2414 - val_loss: 12.8029 - val_categorical_accuracy: 0.2403\n",
      "Epoch 16/50\n",
      "1s - loss: 12.2064 - categorical_accuracy: 0.2385 - val_loss: 11.4150 - val_categorical_accuracy: 0.2384\n",
      "Epoch 17/50\n",
      "1s - loss: 10.8855 - categorical_accuracy: 0.2366 - val_loss: 10.1844 - val_categorical_accuracy: 0.2384\n",
      "Epoch 18/50\n",
      "1s - loss: 9.7149 - categorical_accuracy: 0.2444 - val_loss: 9.0960 - val_categorical_accuracy: 0.2398\n",
      "Epoch 19/50\n",
      "1s - loss: 8.6810 - categorical_accuracy: 0.2468 - val_loss: 8.1338 - val_categorical_accuracy: 0.2384\n",
      "Epoch 20/50\n",
      "1s - loss: 7.7676 - categorical_accuracy: 0.2382 - val_loss: 7.2848 - val_categorical_accuracy: 0.2384\n",
      "Epoch 21/50\n",
      "1s - loss: 6.9625 - categorical_accuracy: 0.2410 - val_loss: 6.5372 - val_categorical_accuracy: 0.2367\n",
      "Epoch 22/50\n",
      "1s - loss: 6.2534 - categorical_accuracy: 0.2420 - val_loss: 5.8807 - val_categorical_accuracy: 0.2345\n",
      "Epoch 23/50\n",
      "1s - loss: 5.6329 - categorical_accuracy: 0.2370 - val_loss: 5.3043 - val_categorical_accuracy: 0.2366\n",
      "Epoch 24/50\n",
      "1s - loss: 5.0849 - categorical_accuracy: 0.2406 - val_loss: 4.7993 - val_categorical_accuracy: 0.2383\n",
      "Epoch 25/50\n",
      "1s - loss: 4.6079 - categorical_accuracy: 0.2397 - val_loss: 4.3586 - val_categorical_accuracy: 0.2356\n",
      "Epoch 26/50\n",
      "1s - loss: 4.1912 - categorical_accuracy: 0.2379 - val_loss: 3.9738 - val_categorical_accuracy: 0.2373\n",
      "Epoch 27/50\n",
      "1s - loss: 3.8275 - categorical_accuracy: 0.2383 - val_loss: 3.6388 - val_categorical_accuracy: 0.2366\n",
      "Epoch 28/50\n",
      "1s - loss: 3.5116 - categorical_accuracy: 0.2391 - val_loss: 3.3470 - val_categorical_accuracy: 0.2350\n",
      "Epoch 29/50\n",
      "1s - loss: 3.2373 - categorical_accuracy: 0.2373 - val_loss: 3.0947 - val_categorical_accuracy: 0.2314\n",
      "Epoch 30/50\n",
      "1s - loss: 2.9989 - categorical_accuracy: 0.2343 - val_loss: 2.8759 - val_categorical_accuracy: 0.2352\n",
      "Epoch 31/50\n",
      "1s - loss: 2.7935 - categorical_accuracy: 0.2378 - val_loss: 2.6869 - val_categorical_accuracy: 0.2356\n",
      "Epoch 32/50\n",
      "1s - loss: 2.6168 - categorical_accuracy: 0.2346 - val_loss: 2.5242 - val_categorical_accuracy: 0.2295\n",
      "Epoch 33/50\n",
      "1s - loss: 2.4637 - categorical_accuracy: 0.2390 - val_loss: 2.3843 - val_categorical_accuracy: 0.2306\n",
      "Epoch 34/50\n",
      "1s - loss: 2.3328 - categorical_accuracy: 0.2365 - val_loss: 2.2637 - val_categorical_accuracy: 0.2308\n",
      "Epoch 35/50\n",
      "1s - loss: 2.2197 - categorical_accuracy: 0.2353 - val_loss: 2.1622 - val_categorical_accuracy: 0.2302\n",
      "Epoch 36/50\n",
      "1s - loss: 2.1231 - categorical_accuracy: 0.2370 - val_loss: 2.0742 - val_categorical_accuracy: 0.2323\n",
      "Epoch 37/50\n",
      "1s - loss: 2.0414 - categorical_accuracy: 0.2363 - val_loss: 1.9984 - val_categorical_accuracy: 0.2259\n",
      "Epoch 38/50\n",
      "1s - loss: 1.9698 - categorical_accuracy: 0.2385 - val_loss: 1.9349 - val_categorical_accuracy: 0.2259\n",
      "Epoch 39/50\n",
      "1s - loss: 1.9124 - categorical_accuracy: 0.2331 - val_loss: 1.8804 - val_categorical_accuracy: 0.2289\n",
      "Epoch 40/50\n",
      "1s - loss: 1.8601 - categorical_accuracy: 0.2336 - val_loss: 1.8349 - val_categorical_accuracy: 0.2311\n",
      "Epoch 41/50\n",
      "1s - loss: 1.8173 - categorical_accuracy: 0.2381 - val_loss: 1.7967 - val_categorical_accuracy: 0.2267\n",
      "Epoch 42/50\n",
      "1s - loss: 1.7809 - categorical_accuracy: 0.2343 - val_loss: 1.7648 - val_categorical_accuracy: 0.2319\n",
      "Epoch 43/50\n",
      "1s - loss: 1.7510 - categorical_accuracy: 0.2322 - val_loss: 1.7366 - val_categorical_accuracy: 0.2286\n",
      "Epoch 44/50\n",
      "1s - loss: 1.7250 - categorical_accuracy: 0.2316 - val_loss: 1.7132 - val_categorical_accuracy: 0.2288\n",
      "Epoch 45/50\n",
      "1s - loss: 1.7041 - categorical_accuracy: 0.2354 - val_loss: 1.6929 - val_categorical_accuracy: 0.2255\n",
      "Epoch 46/50\n",
      "1s - loss: 1.6856 - categorical_accuracy: 0.2330 - val_loss: 1.6779 - val_categorical_accuracy: 0.2294\n",
      "Epoch 47/50\n",
      "1s - loss: 1.6709 - categorical_accuracy: 0.2331 - val_loss: 1.6630 - val_categorical_accuracy: 0.2305\n",
      "Epoch 48/50\n",
      "1s - loss: 1.6580 - categorical_accuracy: 0.2353 - val_loss: 1.6515 - val_categorical_accuracy: 0.2283\n",
      "Epoch 49/50\n",
      "1s - loss: 1.6462 - categorical_accuracy: 0.2353 - val_loss: 1.6422 - val_categorical_accuracy: 0.2256\n",
      "Epoch 50/50\n",
      "1s - loss: 1.6392 - categorical_accuracy: 0.2293 - val_loss: 1.6349 - val_categorical_accuracy: 0.2269\n"
     ]
    }
   ],
   "source": [
    "result = model.fit(x_train, y_train, epochs=50, batch_size=64, verbose=2, validation_data = (x_dev, y_dev))"
   ]
  },
  {
   "cell_type": "code",
   "execution_count": 293,
   "metadata": {},
   "outputs": [
    {
     "data": {
      "text/plain": [
       "3673"
      ]
     },
     "execution_count": 293,
     "metadata": {},
     "output_type": "execute_result"
    }
   ],
   "source": [
    "np.sum(y_train.argmax(2).flatten() == 0)"
   ]
  },
  {
   "cell_type": "code",
   "execution_count": 393,
   "metadata": {},
   "outputs": [
    {
     "name": "stdout",
     "output_type": "stream",
     "text": [
      "             precision    recall  f1-score   support\n",
      "\n",
      "     Class0       0.23      0.18      0.20      1276\n",
      "     Class1       0.00      0.00      0.00      1270\n",
      "     Class2       0.24      0.27      0.26      1262\n",
      "     Class3       0.20      0.12      0.15      1294\n",
      "     Class4       0.21      0.52      0.30      1298\n",
      "\n",
      "avg / total       0.18      0.22      0.18      6400\n",
      "\n"
     ]
    }
   ],
   "source": [
    "if ret_seq:\n",
    "    target_names = ['Class'+str(n) for n in range(bins)]\n",
    "    y_pred = model.predict(x_test)\n",
    "    print(metrics.classification_report(y_test.argmax(2).flatten(), y_pred.argmax(2).flatten(), target_names=target_names))\n",
    "\n",
    "else:\n",
    "    target_names = ['Class'+str(n) for n in range(bins)]\n",
    "    y_pred = model.predict(x_test)\n",
    "    print(metrics.classification_report(y_test.argmax(1), y_pred.argmax(1), target_names=target_names))"
   ]
  },
  {
   "cell_type": "code",
   "execution_count": 356,
   "metadata": {},
   "outputs": [
    {
     "data": {
      "text/plain": [
       "<matplotlib.legend.Legend at 0x7f00bc2d6630>"
      ]
     },
     "execution_count": 356,
     "metadata": {},
     "output_type": "execute_result"
    },
    {
     "data": {
      "image/png": "[encoded data removed]",
      "text/plain": [
       "<matplotlib.figure.Figure at 0x7f00bc35aeb8>"
      ]
     },
     "metadata": {},
     "output_type": "display_data"
    }
   ],
   "source": [
    "plt.figure(figsize = (15,5))\n",
    "sns.set_style(\"white\")\n",
    "\n",
    "plt.subplot(121)\n",
    "plt.plot(result.history['loss'][10:])\n",
    "plt.plot(result.history['val_loss'][10:])\n",
    "plt.legend(['Loss', 'Val Loss'])\n",
    "\n",
    "plt.subplot(122)\n",
    "plt.plot(result.history['categorical_accuracy'])\n",
    "plt.plot(result.history['val_categorical_accuracy'])\n",
    "plt.legend(['Accuracy', 'Val Accuracy'])\n",
    "\n",
    "#plt.subplot(223)\n",
    "#plt.plot(result.history['precision'])\n",
    "#plt.plot(result.history['val_precision'])\n",
    "#plt.legend(['Precision', 'Val Precision']);"
   ]
  },
  {
   "cell_type": "code",
   "execution_count": 360,
   "metadata": {},
   "outputs": [
    {
     "data": {
      "text/plain": [
       "array([[12,  0,  0, 19, 18],\n",
       "       [ 2,  0,  1, 17,  5],\n",
       "       [ 5,  0,  0, 20, 12],\n",
       "       [ 4,  0,  2, 30, 12],\n",
       "       [ 8,  0,  0, 19, 14]])"
      ]
     },
     "execution_count": 360,
     "metadata": {},
     "output_type": "execute_result"
    }
   ],
   "source": [
    "y_pred = model.predict(x_test)\n",
    "metrics.confusion_matrix(y_test.argmax(1), y_pred.argmax(1))"
   ]
  },
  {
   "cell_type": "code",
   "execution_count": 394,
   "metadata": {},
   "outputs": [
    {
     "name": "stdout",
     "output_type": "stream",
     "text": [
      "Running iteration 0\n",
      "Running iteration 1\n",
      "Running iteration 2\n",
      "Running iteration 3\n",
      "Running iteration 4\n",
      "Running iteration 5\n",
      "Running iteration 6\n",
      "Running iteration 7\n",
      "Running iteration 8\n",
      "Running iteration 9\n",
      "Running iteration 10\n",
      "Running iteration 11\n",
      "Running iteration 12\n",
      "Running iteration 13\n",
      "Running iteration 14\n",
      "Running iteration 15\n",
      "Running iteration 16\n",
      "Running iteration 17\n",
      "Running iteration 18\n",
      "Running iteration 19\n",
      "Running iteration 20\n",
      "Running iteration 21\n",
      "Running iteration 22\n",
      "Running iteration 23\n",
      "Running iteration 24\n",
      "Running iteration 25\n",
      "Running iteration 26\n",
      "Running iteration 27\n",
      "Running iteration 28\n",
      "Running iteration 29\n",
      "Running iteration 30\n",
      "Running iteration 31\n",
      "Running iteration 32\n",
      "Running iteration 33\n",
      "Running iteration 34\n",
      "Running iteration 35\n",
      "Running iteration 36\n",
      "Running iteration 37\n",
      "Running iteration 38\n",
      "Running iteration 39\n"
     ]
    }
   ],
   "source": [
    "tune_results = pd.DataFrame(np.zeros((40, 9)),\n",
    "                            columns = ['dropout_1', 'dropout_2', 'l2_1', \n",
    "                                       'l2_2', 'loss', 'accuracy',\n",
    "                                      'val_loss', 'val_accuracy', 'lr'])\n",
    "\n",
    "for i in range(40):\n",
    "    \n",
    "    #if i % 5 == 0: print(\"Running iteration {}-{}\".format(i, i+5))\n",
    "    print(\"Running iteration {}\".format(i))\n",
    "          \n",
    "    dropout_1 = np.random.uniform(0, 1)\n",
    "    dropout_2 = np.random.uniform(0, 1)\n",
    "    lr = np.exp(np.random.uniform(-6, 0))\n",
    "    l2_1 = np.exp(np.random.uniform(-4, 0))\n",
    "    l2_2 = np.exp(np.random.uniform(-4, 0))\n",
    "    \n",
    "    \n",
    "    model = create_model(dropout_1, dropout_2, l2_1, l2_2, lr, bins)\n",
    "    result = model.fit(x_train, y_train, epochs=80, batch_size=128, verbose=0, validation_data = (x_dev, y_dev))\n",
    "    \n",
    "    tune_results.iloc[i] = [dropout_1, dropout_2, l2_1, l2_2,\n",
    "                            result.history['loss'][-1], result.history['categorical_accuracy'][-1],\n",
    "                            result.history['val_loss'][-1], result.history['val_categorical_accuracy'][-1], lr]\n",
    "                           #result.history['precision'][-1], result.history['val_precision'][-1]]\n",
    "    "
   ]
  },
  {
   "cell_type": "code",
   "execution_count": 395,
   "metadata": {},
   "outputs": [
    {
     "data": {
      "text/html": [
       "<div>\n",
       "<style>\n",
       "    .dataframe thead tr:only-child th {\n",
       "        text-align: right;\n",
       "    }\n",
       "\n",
       "    .dataframe thead th {\n",
       "        text-align: left;\n",
       "    }\n",
       "\n",
       "    .dataframe tbody tr th {\n",
       "        vertical-align: top;\n",
       "    }\n",
       "</style>\n",
       "<table border=\"1\" class=\"dataframe\">\n",
       "  <thead>\n",
       "    <tr style=\"text-align: right;\">\n",
       "      <th></th>\n",
       "      <th>dropout_1</th>\n",
       "      <th>dropout_2</th>\n",
       "      <th>l2_1</th>\n",
       "      <th>l2_2</th>\n",
       "      <th>loss</th>\n",
       "      <th>accuracy</th>\n",
       "      <th>val_loss</th>\n",
       "      <th>val_accuracy</th>\n",
       "      <th>lr</th>\n",
       "    </tr>\n",
       "  </thead>\n",
       "  <tbody>\n",
       "    <tr>\n",
       "      <th>0</th>\n",
       "      <td>0.008541</td>\n",
       "      <td>0.630098</td>\n",
       "      <td>0.375041</td>\n",
       "      <td>0.097569</td>\n",
       "      <td>2.397206e+06</td>\n",
       "      <td>0.206927</td>\n",
       "      <td>2.414902e+06</td>\n",
       "      <td>0.207344</td>\n",
       "      <td>0.566685</td>\n",
       "    </tr>\n",
       "    <tr>\n",
       "      <th>1</th>\n",
       "      <td>0.639501</td>\n",
       "      <td>0.269093</td>\n",
       "      <td>0.035392</td>\n",
       "      <td>0.019711</td>\n",
       "      <td>1.606393e+00</td>\n",
       "      <td>0.224740</td>\n",
       "      <td>1.596068e+00</td>\n",
       "      <td>0.238750</td>\n",
       "      <td>0.025269</td>\n",
       "    </tr>\n",
       "    <tr>\n",
       "      <th>2</th>\n",
       "      <td>0.970188</td>\n",
       "      <td>0.337836</td>\n",
       "      <td>0.029344</td>\n",
       "      <td>0.715454</td>\n",
       "      <td>1.608966e+00</td>\n",
       "      <td>0.206510</td>\n",
       "      <td>1.608445e+00</td>\n",
       "      <td>0.199844</td>\n",
       "      <td>0.014727</td>\n",
       "    </tr>\n",
       "    <tr>\n",
       "      <th>3</th>\n",
       "      <td>0.771030</td>\n",
       "      <td>0.431015</td>\n",
       "      <td>0.055310</td>\n",
       "      <td>0.018564</td>\n",
       "      <td>3.009717e+05</td>\n",
       "      <td>0.203021</td>\n",
       "      <td>3.032095e+05</td>\n",
       "      <td>0.202344</td>\n",
       "      <td>0.454854</td>\n",
       "    </tr>\n",
       "    <tr>\n",
       "      <th>4</th>\n",
       "      <td>0.026294</td>\n",
       "      <td>0.777538</td>\n",
       "      <td>0.032364</td>\n",
       "      <td>0.982284</td>\n",
       "      <td>1.611038e+00</td>\n",
       "      <td>0.201094</td>\n",
       "      <td>1.611110e+00</td>\n",
       "      <td>0.206406</td>\n",
       "      <td>0.088551</td>\n",
       "    </tr>\n",
       "    <tr>\n",
       "      <th>5</th>\n",
       "      <td>0.257303</td>\n",
       "      <td>0.736325</td>\n",
       "      <td>0.030256</td>\n",
       "      <td>0.345130</td>\n",
       "      <td>4.525468e+06</td>\n",
       "      <td>0.206979</td>\n",
       "      <td>4.552676e+06</td>\n",
       "      <td>0.200781</td>\n",
       "      <td>0.788941</td>\n",
       "    </tr>\n",
       "    <tr>\n",
       "      <th>6</th>\n",
       "      <td>0.994639</td>\n",
       "      <td>0.710117</td>\n",
       "      <td>0.062697</td>\n",
       "      <td>0.399406</td>\n",
       "      <td>1.614204e+00</td>\n",
       "      <td>0.202969</td>\n",
       "      <td>1.613671e+00</td>\n",
       "      <td>0.206719</td>\n",
       "      <td>0.114101</td>\n",
       "    </tr>\n",
       "    <tr>\n",
       "      <th>7</th>\n",
       "      <td>0.352595</td>\n",
       "      <td>0.192523</td>\n",
       "      <td>0.045901</td>\n",
       "      <td>0.046130</td>\n",
       "      <td>1.610328e+00</td>\n",
       "      <td>0.203385</td>\n",
       "      <td>1.610656e+00</td>\n",
       "      <td>0.206094</td>\n",
       "      <td>0.071454</td>\n",
       "    </tr>\n",
       "    <tr>\n",
       "      <th>8</th>\n",
       "      <td>0.646764</td>\n",
       "      <td>0.313519</td>\n",
       "      <td>0.181750</td>\n",
       "      <td>0.650071</td>\n",
       "      <td>1.604100e+00</td>\n",
       "      <td>0.225052</td>\n",
       "      <td>1.598242e+00</td>\n",
       "      <td>0.234219</td>\n",
       "      <td>0.007518</td>\n",
       "    </tr>\n",
       "    <tr>\n",
       "      <th>9</th>\n",
       "      <td>0.628258</td>\n",
       "      <td>0.664740</td>\n",
       "      <td>0.055733</td>\n",
       "      <td>0.231312</td>\n",
       "      <td>1.610260e+00</td>\n",
       "      <td>0.206771</td>\n",
       "      <td>1.609376e+00</td>\n",
       "      <td>0.207969</td>\n",
       "      <td>0.024193</td>\n",
       "    </tr>\n",
       "    <tr>\n",
       "      <th>10</th>\n",
       "      <td>0.319448</td>\n",
       "      <td>0.538223</td>\n",
       "      <td>0.068949</td>\n",
       "      <td>0.338228</td>\n",
       "      <td>1.595579e+00</td>\n",
       "      <td>0.237969</td>\n",
       "      <td>1.596097e+00</td>\n",
       "      <td>0.233281</td>\n",
       "      <td>0.005487</td>\n",
       "    </tr>\n",
       "    <tr>\n",
       "      <th>11</th>\n",
       "      <td>0.280839</td>\n",
       "      <td>0.214947</td>\n",
       "      <td>0.198132</td>\n",
       "      <td>0.050616</td>\n",
       "      <td>1.594821e+00</td>\n",
       "      <td>0.236510</td>\n",
       "      <td>1.595340e+00</td>\n",
       "      <td>0.238906</td>\n",
       "      <td>0.003804</td>\n",
       "    </tr>\n",
       "    <tr>\n",
       "      <th>12</th>\n",
       "      <td>0.443793</td>\n",
       "      <td>0.321935</td>\n",
       "      <td>0.064271</td>\n",
       "      <td>0.067718</td>\n",
       "      <td>1.595176e+00</td>\n",
       "      <td>0.240885</td>\n",
       "      <td>1.598737e+00</td>\n",
       "      <td>0.226563</td>\n",
       "      <td>0.002480</td>\n",
       "    </tr>\n",
       "    <tr>\n",
       "      <th>13</th>\n",
       "      <td>0.614542</td>\n",
       "      <td>0.759670</td>\n",
       "      <td>0.790782</td>\n",
       "      <td>0.076420</td>\n",
       "      <td>1.602787e+00</td>\n",
       "      <td>0.231354</td>\n",
       "      <td>1.603039e+00</td>\n",
       "      <td>0.228906</td>\n",
       "      <td>0.003327</td>\n",
       "    </tr>\n",
       "    <tr>\n",
       "      <th>14</th>\n",
       "      <td>0.155454</td>\n",
       "      <td>0.063956</td>\n",
       "      <td>0.018653</td>\n",
       "      <td>0.277190</td>\n",
       "      <td>1.327233e+06</td>\n",
       "      <td>0.213542</td>\n",
       "      <td>1.334250e+06</td>\n",
       "      <td>0.211562</td>\n",
       "      <td>0.319486</td>\n",
       "    </tr>\n",
       "    <tr>\n",
       "      <th>15</th>\n",
       "      <td>0.075796</td>\n",
       "      <td>0.881228</td>\n",
       "      <td>0.086053</td>\n",
       "      <td>0.342805</td>\n",
       "      <td>1.596661e+00</td>\n",
       "      <td>0.237865</td>\n",
       "      <td>1.601670e+00</td>\n",
       "      <td>0.227656</td>\n",
       "      <td>0.002706</td>\n",
       "    </tr>\n",
       "    <tr>\n",
       "      <th>16</th>\n",
       "      <td>0.500841</td>\n",
       "      <td>0.364009</td>\n",
       "      <td>0.139763</td>\n",
       "      <td>0.718831</td>\n",
       "      <td>1.312505e+07</td>\n",
       "      <td>0.200885</td>\n",
       "      <td>1.317988e+07</td>\n",
       "      <td>0.208281</td>\n",
       "      <td>0.771995</td>\n",
       "    </tr>\n",
       "    <tr>\n",
       "      <th>17</th>\n",
       "      <td>0.504395</td>\n",
       "      <td>0.850928</td>\n",
       "      <td>0.221541</td>\n",
       "      <td>0.051274</td>\n",
       "      <td>1.608954e+00</td>\n",
       "      <td>0.226771</td>\n",
       "      <td>1.604079e+00</td>\n",
       "      <td>0.233906</td>\n",
       "      <td>0.010485</td>\n",
       "    </tr>\n",
       "    <tr>\n",
       "      <th>18</th>\n",
       "      <td>0.125822</td>\n",
       "      <td>0.137408</td>\n",
       "      <td>0.570655</td>\n",
       "      <td>0.028459</td>\n",
       "      <td>1.594572e+00</td>\n",
       "      <td>0.243542</td>\n",
       "      <td>1.597268e+00</td>\n",
       "      <td>0.229219</td>\n",
       "      <td>0.003062</td>\n",
       "    </tr>\n",
       "    <tr>\n",
       "      <th>19</th>\n",
       "      <td>0.142499</td>\n",
       "      <td>0.374781</td>\n",
       "      <td>0.085200</td>\n",
       "      <td>0.127684</td>\n",
       "      <td>1.639155e+00</td>\n",
       "      <td>0.195417</td>\n",
       "      <td>1.629039e+00</td>\n",
       "      <td>0.195469</td>\n",
       "      <td>0.269972</td>\n",
       "    </tr>\n",
       "    <tr>\n",
       "      <th>20</th>\n",
       "      <td>0.303402</td>\n",
       "      <td>0.984844</td>\n",
       "      <td>0.175964</td>\n",
       "      <td>0.218670</td>\n",
       "      <td>1.609303e+00</td>\n",
       "      <td>0.208021</td>\n",
       "      <td>1.609846e+00</td>\n",
       "      <td>0.196875</td>\n",
       "      <td>0.010835</td>\n",
       "    </tr>\n",
       "    <tr>\n",
       "      <th>21</th>\n",
       "      <td>0.560065</td>\n",
       "      <td>0.299997</td>\n",
       "      <td>0.194318</td>\n",
       "      <td>0.072616</td>\n",
       "      <td>1.615158e+00</td>\n",
       "      <td>0.196198</td>\n",
       "      <td>1.609824e+00</td>\n",
       "      <td>0.215313</td>\n",
       "      <td>0.189727</td>\n",
       "    </tr>\n",
       "    <tr>\n",
       "      <th>22</th>\n",
       "      <td>0.015012</td>\n",
       "      <td>0.010020</td>\n",
       "      <td>0.566746</td>\n",
       "      <td>0.238039</td>\n",
       "      <td>1.609346e+00</td>\n",
       "      <td>0.207344</td>\n",
       "      <td>1.609747e+00</td>\n",
       "      <td>0.193906</td>\n",
       "      <td>0.027171</td>\n",
       "    </tr>\n",
       "    <tr>\n",
       "      <th>23</th>\n",
       "      <td>0.581610</td>\n",
       "      <td>0.486762</td>\n",
       "      <td>0.030840</td>\n",
       "      <td>0.216139</td>\n",
       "      <td>1.609498e+00</td>\n",
       "      <td>0.205104</td>\n",
       "      <td>1.609680e+00</td>\n",
       "      <td>0.195000</td>\n",
       "      <td>0.022692</td>\n",
       "    </tr>\n",
       "    <tr>\n",
       "      <th>24</th>\n",
       "      <td>0.495754</td>\n",
       "      <td>0.360470</td>\n",
       "      <td>0.067697</td>\n",
       "      <td>0.041370</td>\n",
       "      <td>1.605882e+00</td>\n",
       "      <td>0.226563</td>\n",
       "      <td>1.605181e+00</td>\n",
       "      <td>0.224375</td>\n",
       "      <td>0.023243</td>\n",
       "    </tr>\n",
       "    <tr>\n",
       "      <th>25</th>\n",
       "      <td>0.804322</td>\n",
       "      <td>0.920474</td>\n",
       "      <td>0.156204</td>\n",
       "      <td>0.048203</td>\n",
       "      <td>1.636666e+00</td>\n",
       "      <td>0.199844</td>\n",
       "      <td>1.626398e+00</td>\n",
       "      <td>0.212500</td>\n",
       "      <td>0.220138</td>\n",
       "    </tr>\n",
       "    <tr>\n",
       "      <th>26</th>\n",
       "      <td>0.390277</td>\n",
       "      <td>0.530216</td>\n",
       "      <td>0.724755</td>\n",
       "      <td>0.881538</td>\n",
       "      <td>1.600932e+00</td>\n",
       "      <td>0.232344</td>\n",
       "      <td>1.599494e+00</td>\n",
       "      <td>0.228281</td>\n",
       "      <td>0.002966</td>\n",
       "    </tr>\n",
       "    <tr>\n",
       "      <th>27</th>\n",
       "      <td>0.925381</td>\n",
       "      <td>0.947787</td>\n",
       "      <td>0.571769</td>\n",
       "      <td>0.028034</td>\n",
       "      <td>1.610252e+00</td>\n",
       "      <td>0.209323</td>\n",
       "      <td>1.609926e+00</td>\n",
       "      <td>0.207500</td>\n",
       "      <td>0.012144</td>\n",
       "    </tr>\n",
       "    <tr>\n",
       "      <th>28</th>\n",
       "      <td>0.852333</td>\n",
       "      <td>0.881842</td>\n",
       "      <td>0.521662</td>\n",
       "      <td>0.037587</td>\n",
       "      <td>1.378786e+06</td>\n",
       "      <td>0.197760</td>\n",
       "      <td>1.389133e+06</td>\n",
       "      <td>0.202031</td>\n",
       "      <td>0.449815</td>\n",
       "    </tr>\n",
       "    <tr>\n",
       "      <th>29</th>\n",
       "      <td>0.334823</td>\n",
       "      <td>0.464354</td>\n",
       "      <td>0.075306</td>\n",
       "      <td>0.585385</td>\n",
       "      <td>1.609048e+00</td>\n",
       "      <td>0.207552</td>\n",
       "      <td>1.608996e+00</td>\n",
       "      <td>0.204219</td>\n",
       "      <td>0.024254</td>\n",
       "    </tr>\n",
       "    <tr>\n",
       "      <th>30</th>\n",
       "      <td>0.861832</td>\n",
       "      <td>0.455322</td>\n",
       "      <td>0.026509</td>\n",
       "      <td>0.019626</td>\n",
       "      <td>4.882320e+05</td>\n",
       "      <td>0.199010</td>\n",
       "      <td>4.904995e+05</td>\n",
       "      <td>0.203594</td>\n",
       "      <td>0.834354</td>\n",
       "    </tr>\n",
       "    <tr>\n",
       "      <th>31</th>\n",
       "      <td>0.182799</td>\n",
       "      <td>0.190372</td>\n",
       "      <td>0.019974</td>\n",
       "      <td>0.124510</td>\n",
       "      <td>1.587643e+00</td>\n",
       "      <td>0.248333</td>\n",
       "      <td>1.598982e+00</td>\n",
       "      <td>0.227344</td>\n",
       "      <td>0.003485</td>\n",
       "    </tr>\n",
       "    <tr>\n",
       "      <th>32</th>\n",
       "      <td>0.976802</td>\n",
       "      <td>0.582510</td>\n",
       "      <td>0.638730</td>\n",
       "      <td>0.265202</td>\n",
       "      <td>2.471161e+00</td>\n",
       "      <td>0.202604</td>\n",
       "      <td>2.466598e+00</td>\n",
       "      <td>0.211563</td>\n",
       "      <td>0.293039</td>\n",
       "    </tr>\n",
       "    <tr>\n",
       "      <th>33</th>\n",
       "      <td>0.573978</td>\n",
       "      <td>0.202040</td>\n",
       "      <td>0.334307</td>\n",
       "      <td>0.146758</td>\n",
       "      <td>1.615859e+00</td>\n",
       "      <td>0.202083</td>\n",
       "      <td>1.612844e+00</td>\n",
       "      <td>0.207188</td>\n",
       "      <td>0.089124</td>\n",
       "    </tr>\n",
       "    <tr>\n",
       "      <th>34</th>\n",
       "      <td>0.428165</td>\n",
       "      <td>0.081168</td>\n",
       "      <td>0.429125</td>\n",
       "      <td>0.134244</td>\n",
       "      <td>4.535989e+06</td>\n",
       "      <td>0.209427</td>\n",
       "      <td>4.556748e+06</td>\n",
       "      <td>0.206406</td>\n",
       "      <td>0.719848</td>\n",
       "    </tr>\n",
       "    <tr>\n",
       "      <th>35</th>\n",
       "      <td>0.893487</td>\n",
       "      <td>0.339081</td>\n",
       "      <td>0.491796</td>\n",
       "      <td>0.029804</td>\n",
       "      <td>1.609229e+00</td>\n",
       "      <td>0.213333</td>\n",
       "      <td>1.605499e+00</td>\n",
       "      <td>0.218906</td>\n",
       "      <td>0.004795</td>\n",
       "    </tr>\n",
       "    <tr>\n",
       "      <th>36</th>\n",
       "      <td>0.790762</td>\n",
       "      <td>0.332795</td>\n",
       "      <td>0.313519</td>\n",
       "      <td>0.614623</td>\n",
       "      <td>1.606545e+00</td>\n",
       "      <td>0.215990</td>\n",
       "      <td>1.605049e+00</td>\n",
       "      <td>0.222500</td>\n",
       "      <td>0.004646</td>\n",
       "    </tr>\n",
       "    <tr>\n",
       "      <th>37</th>\n",
       "      <td>0.323518</td>\n",
       "      <td>0.364776</td>\n",
       "      <td>0.037200</td>\n",
       "      <td>0.201232</td>\n",
       "      <td>2.676235e+06</td>\n",
       "      <td>0.203333</td>\n",
       "      <td>2.690352e+06</td>\n",
       "      <td>0.203281</td>\n",
       "      <td>0.679588</td>\n",
       "    </tr>\n",
       "    <tr>\n",
       "      <th>38</th>\n",
       "      <td>0.876523</td>\n",
       "      <td>0.049173</td>\n",
       "      <td>0.099044</td>\n",
       "      <td>0.089199</td>\n",
       "      <td>6.237457e+04</td>\n",
       "      <td>0.201719</td>\n",
       "      <td>6.286487e+04</td>\n",
       "      <td>0.195469</td>\n",
       "      <td>0.227800</td>\n",
       "    </tr>\n",
       "    <tr>\n",
       "      <th>39</th>\n",
       "      <td>0.300747</td>\n",
       "      <td>0.347751</td>\n",
       "      <td>0.130775</td>\n",
       "      <td>0.050721</td>\n",
       "      <td>1.748329e+06</td>\n",
       "      <td>0.206719</td>\n",
       "      <td>1.757753e+06</td>\n",
       "      <td>0.197188</td>\n",
       "      <td>0.845007</td>\n",
       "    </tr>\n",
       "  </tbody>\n",
       "</table>\n",
       "</div>"
      ],
      "text/plain": [
       "    dropout_1  dropout_2      l2_1      l2_2          loss  accuracy  \\\n",
       "0    0.008541   0.630098  0.375041  0.097569  2.397206e+06  0.206927   \n",
       "1    0.639501   0.269093  0.035392  0.019711  1.606393e+00  0.224740   \n",
       "2    0.970188   0.337836  0.029344  0.715454  1.608966e+00  0.206510   \n",
       "3    0.771030   0.431015  0.055310  0.018564  3.009717e+05  0.203021   \n",
       "4    0.026294   0.777538  0.032364  0.982284  1.611038e+00  0.201094   \n",
       "5    0.257303   0.736325  0.030256  0.345130  4.525468e+06  0.206979   \n",
       "6    0.994639   0.710117  0.062697  0.399406  1.614204e+00  0.202969   \n",
       "7    0.352595   0.192523  0.045901  0.046130  1.610328e+00  0.203385   \n",
       "8    0.646764   0.313519  0.181750  0.650071  1.604100e+00  0.225052   \n",
       "9    0.628258   0.664740  0.055733  0.231312  1.610260e+00  0.206771   \n",
       "10   0.319448   0.538223  0.068949  0.338228  1.595579e+00  0.237969   \n",
       "11   0.280839   0.214947  0.198132  0.050616  1.594821e+00  0.236510   \n",
       "12   0.443793   0.321935  0.064271  0.067718  1.595176e+00  0.240885   \n",
       "13   0.614542   0.759670  0.790782  0.076420  1.602787e+00  0.231354   \n",
       "14   0.155454   0.063956  0.018653  0.277190  1.327233e+06  0.213542   \n",
       "15   0.075796   0.881228  0.086053  0.342805  1.596661e+00  0.237865   \n",
       "16   0.500841   0.364009  0.139763  0.718831  1.312505e+07  0.200885   \n",
       "17   0.504395   0.850928  0.221541  0.051274  1.608954e+00  0.226771   \n",
       "18   0.125822   0.137408  0.570655  0.028459  1.594572e+00  0.243542   \n",
       "19   0.142499   0.374781  0.085200  0.127684  1.639155e+00  0.195417   \n",
       "20   0.303402   0.984844  0.175964  0.218670  1.609303e+00  0.208021   \n",
       "21   0.560065   0.299997  0.194318  0.072616  1.615158e+00  0.196198   \n",
       "22   0.015012   0.010020  0.566746  0.238039  1.609346e+00  0.207344   \n",
       "23   0.581610   0.486762  0.030840  0.216139  1.609498e+00  0.205104   \n",
       "24   0.495754   0.360470  0.067697  0.041370  1.605882e+00  0.226563   \n",
       "25   0.804322   0.920474  0.156204  0.048203  1.636666e+00  0.199844   \n",
       "26   0.390277   0.530216  0.724755  0.881538  1.600932e+00  0.232344   \n",
       "27   0.925381   0.947787  0.571769  0.028034  1.610252e+00  0.209323   \n",
       "28   0.852333   0.881842  0.521662  0.037587  1.378786e+06  0.197760   \n",
       "29   0.334823   0.464354  0.075306  0.585385  1.609048e+00  0.207552   \n",
       "30   0.861832   0.455322  0.026509  0.019626  4.882320e+05  0.199010   \n",
       "31   0.182799   0.190372  0.019974  0.124510  1.587643e+00  0.248333   \n",
       "32   0.976802   0.582510  0.638730  0.265202  2.471161e+00  0.202604   \n",
       "33   0.573978   0.202040  0.334307  0.146758  1.615859e+00  0.202083   \n",
       "34   0.428165   0.081168  0.429125  0.134244  4.535989e+06  0.209427   \n",
       "35   0.893487   0.339081  0.491796  0.029804  1.609229e+00  0.213333   \n",
       "36   0.790762   0.332795  0.313519  0.614623  1.606545e+00  0.215990   \n",
       "37   0.323518   0.364776  0.037200  0.201232  2.676235e+06  0.203333   \n",
       "38   0.876523   0.049173  0.099044  0.089199  6.237457e+04  0.201719   \n",
       "39   0.300747   0.347751  0.130775  0.050721  1.748329e+06  0.206719   \n",
       "\n",
       "        val_loss  val_accuracy        lr  \n",
       "0   2.414902e+06      0.207344  0.566685  \n",
       "1   1.596068e+00      0.238750  0.025269  \n",
       "2   1.608445e+00      0.199844  0.014727  \n",
       "3   3.032095e+05      0.202344  0.454854  \n",
       "4   1.611110e+00      0.206406  0.088551  \n",
       "5   4.552676e+06      0.200781  0.788941  \n",
       "6   1.613671e+00      0.206719  0.114101  \n",
       "7   1.610656e+00      0.206094  0.071454  \n",
       "8   1.598242e+00      0.234219  0.007518  \n",
       "9   1.609376e+00      0.207969  0.024193  \n",
       "10  1.596097e+00      0.233281  0.005487  \n",
       "11  1.595340e+00      0.238906  0.003804  \n",
       "12  1.598737e+00      0.226563  0.002480  \n",
       "13  1.603039e+00      0.228906  0.003327  \n",
       "14  1.334250e+06      0.211562  0.319486  \n",
       "15  1.601670e+00      0.227656  0.002706  \n",
       "16  1.317988e+07      0.208281  0.771995  \n",
       "17  1.604079e+00      0.233906  0.010485  \n",
       "18  1.597268e+00      0.229219  0.003062  \n",
       "19  1.629039e+00      0.195469  0.269972  \n",
       "20  1.609846e+00      0.196875  0.010835  \n",
       "21  1.609824e+00      0.215313  0.189727  \n",
       "22  1.609747e+00      0.193906  0.027171  \n",
       "23  1.609680e+00      0.195000  0.022692  \n",
       "24  1.605181e+00      0.224375  0.023243  \n",
       "25  1.626398e+00      0.212500  0.220138  \n",
       "26  1.599494e+00      0.228281  0.002966  \n",
       "27  1.609926e+00      0.207500  0.012144  \n",
       "28  1.389133e+06      0.202031  0.449815  \n",
       "29  1.608996e+00      0.204219  0.024254  \n",
       "30  4.904995e+05      0.203594  0.834354  \n",
       "31  1.598982e+00      0.227344  0.003485  \n",
       "32  2.466598e+00      0.211563  0.293039  \n",
       "33  1.612844e+00      0.207188  0.089124  \n",
       "34  4.556748e+06      0.206406  0.719848  \n",
       "35  1.605499e+00      0.218906  0.004795  \n",
       "36  1.605049e+00      0.222500  0.004646  \n",
       "37  2.690352e+06      0.203281  0.679588  \n",
       "38  6.286487e+04      0.195469  0.227800  \n",
       "39  1.757753e+06      0.197188  0.845007  "
      ]
     },
     "execution_count": 395,
     "metadata": {},
     "output_type": "execute_result"
    }
   ],
   "source": [
    "tune_results"
   ]
  },
  {
   "cell_type": "code",
   "execution_count": 190,
   "metadata": {
    "scrolled": true
   },
   "outputs": [
    {
     "data": {
      "text/plain": [
       "array([[1000]])"
      ]
     },
     "execution_count": 190,
     "metadata": {},
     "output_type": "execute_result"
    }
   ],
   "source": [
    "metrics.confusion_matrix(y_train.argmax(1), y_pred.argmax(1))"
   ]
  },
  {
   "cell_type": "code",
   "execution_count": 136,
   "metadata": {},
   "outputs": [
    {
     "name": "stdout",
     "output_type": "stream",
     "text": [
      "128/166 [======================>.......] - ETA: 0s"
     ]
    },
    {
     "data": {
      "text/plain": [
       "[0.7013421683426363, 0.54216867469879515]"
      ]
     },
     "execution_count": 136,
     "metadata": {},
     "output_type": "execute_result"
    }
   ],
   "source": [
    "model.evaluate(x_test, y_test)"
   ]
  },
  {
   "cell_type": "code",
   "execution_count": 16,
   "metadata": {
    "collapsed": true
   },
   "outputs": [],
   "source": [
    "tune_reg = pd.read_csv('C:/Users/oou/Desktop/Analytics/Machine Learning/Reg_Tune.csv')"
   ]
  },
  {
   "cell_type": "code",
   "execution_count": 98,
   "metadata": {
    "collapsed": true
   },
   "outputs": [],
   "source": [
    "tune_results.to_csv('/Users/Owen/Documents/Machine Learning/Projects/Hang Seng Composite/Reg_Tune.csv')"
   ]
  },
  {
   "cell_type": "code",
   "execution_count": 194,
   "metadata": {},
   "outputs": [
    {
     "data": {
      "text/plain": [
       "<matplotlib.collections.PathCollection at 0x24e30ce10>"
      ]
     },
     "execution_count": 194,
     "metadata": {},
     "output_type": "execute_result"
    },
    {
     "data": {
      "image/png": "[encoded data removed]",
      "text/plain": [
       "<matplotlib.figure.Figure at 0x24e1d9898>"
      ]
     },
     "metadata": {},
     "output_type": "display_data"
    }
   ],
   "source": [
    "plt.figure()\n",
    "sns.set_style(\"white\")\n",
    "plt.scatter(tune_results['dropout_1'], tune_results['dropout_2'], c = tune_results['val_binary_accuracy'], cmap = 'Greens')"
   ]
  },
  {
   "cell_type": "code",
   "execution_count": 26,
   "metadata": {},
   "outputs": [
    {
     "data": {
      "text/plain": [
       "dropout_1              0.516177\n",
       "dropout_2              0.310560\n",
       "l2_1                   0.002840\n",
       "l2_2                   0.479195\n",
       "loss                   0.838360\n",
       "binary_accuracy        0.547500\n",
       "val_loss               0.818783\n",
       "val_binary_accuracy    0.596774\n",
       "Name: 57, dtype: float64"
      ]
     },
     "execution_count": 26,
     "metadata": {},
     "output_type": "execute_result"
    }
   ],
   "source": [
    "tune_reg.iloc[57]"
   ]
  },
  {
   "cell_type": "code",
   "execution_count": null,
   "metadata": {
    "collapsed": true
   },
   "outputs": [],
   "source": []
  }
 ],
 "metadata": {
  "kernelspec": {
   "display_name": "Python 3",
   "language": "python",
   "name": "python3"
  },
  "language_info": {
   "codemirror_mode": {
    "name": "ipython",
    "version": 3
   },
   "file_extension": ".py",
   "mimetype": "text/x-python",
   "name": "python",
   "nbconvert_exporter": "python",
   "pygments_lexer": "ipython3",
   "version": "3.6.3"
  }
 },
 "nbformat": 4,
 "nbformat_minor": 2
}
